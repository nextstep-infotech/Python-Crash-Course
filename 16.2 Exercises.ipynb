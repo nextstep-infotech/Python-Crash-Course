{
 "cells": [
  {
   "cell_type": "markdown",
   "id": "4733b059",
   "metadata": {},
   "source": [
    "# Exercises"
   ]
  },
  {
   "cell_type": "markdown",
   "id": "3f5b958c",
   "metadata": {},
   "source": [
    "### Write a Python function to calculate the factorial of a number (a non-negative integer). The function accepts the number as an argument."
   ]
  },
  {
   "cell_type": "code",
   "execution_count": 5,
   "id": "b18504d6",
   "metadata": {},
   "outputs": [
    {
     "data": {
      "text/plain": [
       "120"
      ]
     },
     "execution_count": 5,
     "metadata": {},
     "output_type": "execute_result"
    }
   ],
   "source": [
    "#5! = 5x4x3x2x1 = 120\n",
    "def factorial(num):\n",
    "    fact = 1\n",
    "    if num<0:\n",
    "        return \"Number cannot be negative.\"\n",
    "    elif num == 0 or num == 1:\n",
    "        return 1\n",
    "    else:\n",
    "        for i in range(num, 1, -1):\n",
    "            fact = fact*i\n",
    "        return fact\n",
    "    \n",
    "factorial(5)"
   ]
  },
  {
   "cell_type": "markdown",
   "id": "bc5947d3",
   "metadata": {},
   "source": [
    "### Write a Python function that takes a number as a parameter and check the number is prime or not."
   ]
  },
  {
   "cell_type": "code",
   "execution_count": 14,
   "id": "76a3434d",
   "metadata": {},
   "outputs": [
    {
     "name": "stdout",
     "output_type": "stream",
     "text": [
      "It is prime number.\n"
     ]
    }
   ],
   "source": [
    "# 2, 3, 5, 7, 11...\n",
    "# 6/(2 to self-1)\n",
    "\n",
    "def check_prime(num):\n",
    "    if num <= 1:\n",
    "        print(\"It is not a prime number.\")\n",
    "    elif num>1:\n",
    "            for i in range(2, num):\n",
    "                if num%i==0:\n",
    "                    print(\"It is not a prime number.\")\n",
    "                    break \n",
    "            else:\n",
    "                print(\"It is prime number.\")\n",
    "                \n",
    "check_prime(47)\n",
    "            "
   ]
  },
  {
   "cell_type": "markdown",
   "id": "c38ff0ed",
   "metadata": {},
   "source": [
    "### Write a Python program that accepts a hyphen-separated sequence of words as input and prints the words in a hyphen-separated sequence after sorting them alphabetically. \n",
    "Sample Items : green-red-yellow-black-white\n",
    "\n",
    "Expected Result : black-green-red-white-yellow"
   ]
  },
  {
   "cell_type": "code",
   "execution_count": 19,
   "id": "0c26b6a7",
   "metadata": {},
   "outputs": [
    {
     "name": "stdout",
     "output_type": "stream",
     "text": [
      "Enter colors name separated by hyphen: green-red-yellow-black-white\n",
      "black-green-red-white-yellow\n"
     ]
    }
   ],
   "source": [
    "def sort_alphabetically():\n",
    "    colors = input(\"Enter colors name separated by hyphen: \").split(\"-\")\n",
    "    colors.sort()\n",
    "    print(\"-\".join(colors))\n",
    "    \n",
    "sort_alphabetically()"
   ]
  },
  {
   "cell_type": "markdown",
   "id": "e534b3d2",
   "metadata": {},
   "source": [
    "### Write a Python function that accepts a string and calculate the number of upper case letters, lower case, numbers and special symbols. \n",
    "Sample String : 'IYgrfnLfRraFJKT#v6WU7AF3vnN4%C'\n",
    "\n"
   ]
  },
  {
   "cell_type": "code",
   "execution_count": 25,
   "id": "9a914e2e",
   "metadata": {},
   "outputs": [
    {
     "name": "stdout",
     "output_type": "stream",
     "text": [
      "UpperCase:  14\n",
      "LowerCase:  10\n",
      "Numbers:  4\n",
      "Special Symbols:  2\n"
     ]
    }
   ],
   "source": [
    "password =  'IYgrfnLfRraFJKT#v6WU7AF3vnN4%C'\n",
    "\n",
    "def counter(string):\n",
    "    upper = 0\n",
    "    lower = 0\n",
    "    number = 0\n",
    "    symbol = 0\n",
    "\n",
    "    for p in string:\n",
    "        if p.isupper():\n",
    "            upper += 1\n",
    "        elif p.islower():\n",
    "            lower += 1\n",
    "        elif p.isnumeric():\n",
    "            number += 1\n",
    "        else:\n",
    "            symbol += 1\n",
    "    print(\"UpperCase: \", upper)\n",
    "    print(\"LowerCase: \", lower)\n",
    "    print(\"Numbers: \", number)\n",
    "    print(\"Special Symbols: \", symbol)\n",
    "    \n",
    "counter(password)"
   ]
  },
  {
   "cell_type": "markdown",
   "id": "d3bb60a9",
   "metadata": {},
   "source": [
    "### Define a function that accepts radius and returns the volume of a sphere.\n",
    "Volume of sphere = 4/3πr^3"
   ]
  },
  {
   "cell_type": "code",
   "execution_count": 29,
   "id": "c4ec3576",
   "metadata": {},
   "outputs": [
    {
     "name": "stdout",
     "output_type": "stream",
     "text": [
      "Volume of a sphere:  2143.57\n"
     ]
    }
   ],
   "source": [
    "\n",
    "def volume_of_sphere(r):\n",
    "    PI = 3.14\n",
    "    volume = 4/3*PI*r**3\n",
    "    print(\"Volume of a sphere: \", round(volume, 2))\n",
    "    \n",
    "volume_of_sphere(8)"
   ]
  },
  {
   "cell_type": "markdown",
   "id": "45c71710",
   "metadata": {},
   "source": [
    "###  Create a function that return list of common elements from two lists."
   ]
  },
  {
   "cell_type": "code",
   "execution_count": 33,
   "id": "7e07212c",
   "metadata": {},
   "outputs": [
    {
     "data": {
      "text/plain": [
       "[3, 4, 6]"
      ]
     },
     "execution_count": 33,
     "metadata": {},
     "output_type": "execute_result"
    }
   ],
   "source": [
    "lst1 = [1,5,9,3,5,7,4,6,2,8]\n",
    "lst2 = [15,6,12,4,18,3]\n",
    "\n",
    "\n",
    "def get_common(list1, list2):\n",
    "    common_list = []\n",
    "    for l1 in lst1:\n",
    "        for l2 in lst2:\n",
    "            if l1 == l2:\n",
    "                common_list.append(l1)\n",
    "    return common_list\n",
    "\n",
    "get_common(lst1, lst2)"
   ]
  },
  {
   "cell_type": "markdown",
   "id": "9cda32b1",
   "metadata": {},
   "source": [
    "### Write a python funtion to create a list of tuples from given list having number and its cube in each tuple."
   ]
  },
  {
   "cell_type": "code",
   "execution_count": 34,
   "id": "375e345e",
   "metadata": {},
   "outputs": [
    {
     "data": {
      "text/plain": [
       "[(1, 1), (2, 8), (3, 27), (4, 64), (5, 125)]"
      ]
     },
     "execution_count": 34,
     "metadata": {},
     "output_type": "execute_result"
    }
   ],
   "source": [
    "#[(1, 1), (2, 8), (3, 27)]\n",
    "\n",
    "def get_list_of_tuples(start, stop):\n",
    "    final_list = []\n",
    "    for i in range(start, stop+1):\n",
    "        tup = (i, i**3)\n",
    "        final_list.append(tup)\n",
    "    return final_list\n",
    "\n",
    "get_list_of_tuples(1, 5)"
   ]
  },
  {
   "cell_type": "code",
   "execution_count": null,
   "id": "8a25e0f9",
   "metadata": {},
   "outputs": [],
   "source": []
  },
  {
   "cell_type": "code",
   "execution_count": null,
   "id": "be1ff2db",
   "metadata": {},
   "outputs": [],
   "source": []
  },
  {
   "cell_type": "code",
   "execution_count": null,
   "id": "50e15583",
   "metadata": {},
   "outputs": [],
   "source": []
  }
 ],
 "metadata": {
  "kernelspec": {
   "display_name": "Python 3 (ipykernel)",
   "language": "python",
   "name": "python3"
  },
  "language_info": {
   "codemirror_mode": {
    "name": "ipython",
    "version": 3
   },
   "file_extension": ".py",
   "mimetype": "text/x-python",
   "name": "python",
   "nbconvert_exporter": "python",
   "pygments_lexer": "ipython3",
   "version": "3.10.8"
  }
 },
 "nbformat": 4,
 "nbformat_minor": 5
}
