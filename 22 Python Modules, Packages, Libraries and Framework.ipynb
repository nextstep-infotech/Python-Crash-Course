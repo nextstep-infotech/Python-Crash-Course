{
 "cells": [
  {
   "cell_type": "markdown",
   "id": "e47d4c85",
   "metadata": {},
   "source": [
    "# Modules VS Package"
   ]
  },
  {
   "cell_type": "markdown",
   "id": "650bc547",
   "metadata": {},
   "source": [
    "+ A Python Module can be a simple python File (.py extension file), i.e., a combination of numerous Functions and Global variables.\n",
    "+ A Python Package is a collection of different Python modules with an __init__.py File. __init__.py Python File works as a Constructor for the Python Package."
   ]
  },
  {
   "cell_type": "markdown",
   "id": "847808fe",
   "metadata": {},
   "source": [
    "## Popular Python Modules/Packages"
   ]
  },
  {
   "cell_type": "markdown",
   "id": "10349c57",
   "metadata": {},
   "source": [
    "1. Math\n",
    "2. Random\n",
    "3. Datetime\n",
    "4. OS\n",
    "5. Time\n",
    "6. Timeit\n",
    "7. Regular Expression\n",
    "8. GetPass\n",
    "9. Sys\n",
    "10. Functools\n",
    "11. Argparse\n",
    "12. Collection\n",
    "13. Glob\n",
    "14. json\n",
    "15. PathLib\n",
    "16. pprint\n",
    "17. shutil\n",
    "18. socket\n",
    "19. sqlite3\n",
    "20. Threading\n",
    "21. Turtle\n",
    "22. Unittest\n",
    "23. Warnings\n",
    "24. Winsound/PlaySound\n",
    "25. Xml"
   ]
  },
  {
   "cell_type": "markdown",
   "id": "007d8fff",
   "metadata": {},
   "source": [
    "# What is a Library?"
   ]
  },
  {
   "cell_type": "markdown",
   "id": "7568ccb5",
   "metadata": {},
   "source": [
    "A library is a collection of pre-combined codes that can be used iteratively to reduce the time required to code. They are particularly useful for accessing the pre-written frequently used codes instead of writing them from scratch every single time. Similar to physical libraries, these are a collection of reusable resources, which means every library has a root source. This is the foundation behind the numerous open-source libraries available in Python. "
   ]
  },
  {
   "cell_type": "markdown",
   "id": "8aeef299",
   "metadata": {},
   "source": [
    "### What is a Python Library?"
   ]
  },
  {
   "cell_type": "markdown",
   "id": "74c9c7dd",
   "metadata": {},
   "source": [
    "Python library is a collection of modules that contain functions and classes that can be used by other programs to perform various tasks."
   ]
  },
  {
   "cell_type": "markdown",
   "id": "239754a9",
   "metadata": {},
   "source": [
    "## Modules/Package VS Libraries"
   ]
  },
  {
   "cell_type": "markdown",
   "id": "bc748af9",
   "metadata": {},
   "source": [
    "A Python library is a set of related modules or packages bundled together."
   ]
  },
  {
   "cell_type": "markdown",
   "id": "65c393ef",
   "metadata": {},
   "source": [
    "## Popular/Useful Python Libraries"
   ]
  },
  {
   "cell_type": "markdown",
   "id": "ce589add",
   "metadata": {},
   "source": [
    "There are over 137,000 python libraries present today, and they play a vital role in developing machine learning, data science, data visualization, image and data manipulation applications, and more.\n",
    "\n",
    "Guido Van Rossum’s brainchild – Python, which dates back to the ’80s, has become an avid game changer. It is one of the most popular coding languages today and is widely used for a gamut of applications. So, how to make an app using Python? Let’s find out."
   ]
  },
  {
   "cell_type": "markdown",
   "id": "a4716d70",
   "metadata": {},
   "source": [
    "### What to Consider When Choosing a Python Library to Use"
   ]
  },
  {
   "cell_type": "markdown",
   "id": "318df49f",
   "metadata": {},
   "source": [
    "Now that you know what a library in Python can do for you, the next question on your mind might be, *“how do I choose the right one?”* It’s completely understandable to wonder this — after all, with more than 137,000 Python libraries available to date, how do you decide which one is the best for your needs?\n",
    "\n",
    "When you’re faced with such a massive selection, it can be hard to make a decision. Some might even feel paralyzed, unsure how to go about making their choice. And to some, the end result might even be them choosing to simply code what they need from scratch. You don’t need to go through that. "
   ]
  },
  {
   "cell_type": "markdown",
   "id": "00c8a67b",
   "metadata": {},
   "source": [
    "Here are some things to consider when choosing from the best Python libraries:"
   ]
  },
  {
   "cell_type": "markdown",
   "id": "6f194fe3",
   "metadata": {},
   "source": [
    "> **What is your intended purpose?** Knowing the primary purpose or intent of your project is important to help you narrow down the list of viable Python libraries. To further shrink your pool of selections, consider any additional fields, purposes, and specialties that may intersect with this primary purpose. For example, if your project is data science-focused, you’ll likely want a library that can also support data management and data visualization."
   ]
  },
  {
   "cell_type": "markdown",
   "id": "6c2825bc",
   "metadata": {},
   "source": [
    "> **What version of Python are you using?** These days, there are different versions of Python you can use for your projects. If you’ve chosen a certain version for your application, you must then make sure that any libraries you use are compatible with the said version of Python."
   ]
  },
  {
   "cell_type": "markdown",
   "id": "c316f5f4",
   "metadata": {},
   "source": [
    "> **Will this library work with the other libraries you are using?** If you are using multiple libraries, it’s a good idea to make sure that they all work well with each other. Incompatible or overlapping libraries may cause you more trouble than they are worth."
   ]
  },
  {
   "cell_type": "markdown",
   "id": "b49a3b4a",
   "metadata": {},
   "source": [
    "> **Will the library fit your budget?** There is an abundance of open-source Python libraries you can use entirely for free. If you can find some that suit your project perfectly, you might not even need to pay for any libraries at all. However, there are some libraries that will require you to pay for access. You may want to consider a library’s cost before you proceed with your decision."
   ]
  },
  {
   "cell_type": "markdown",
   "id": "526d85a6",
   "metadata": {},
   "source": [
    "## Top Python Libraries in 2022"
   ]
  },
  {
   "cell_type": "markdown",
   "id": "c97e4710",
   "metadata": {},
   "source": [
    "Below is the list of top Python Libraries :\n",
    "\n",
    "1. [Scikit-learn](#Scikit-learn)\n",
    "2. [NuPIC](#NuPIC)\n",
    "3. [Ramp](#Ramp)\n",
    "4. [NumPy](#NumPy)\n",
    "5. [Pipenv](#Pipenv)\n",
    "6. [TensorFlow](#TensorFlow)\n",
    "7. [Bob](#Bob)\n",
    "8. [PyTorch](#PyTorch)\n",
    "9. [PyBrain](#PyBrain)\n",
    "10. [MILK](#MILK)\n",
    "11. [Keras](#Keras)\n",
    "12. [Dash](#Dash)\n",
    "13. [Pandas](#Pandas)\n",
    "14. [Scipy](#Scipy)\n",
    "15. [Matplotlib](#Matplotlib)\n",
    "16. [Theano](#Theano)\n",
    "17. [SymPy](#SymPy)\n",
    "18. [Caffe2](#Caffe2)\n",
    "19. [Seaborn](#Seaborn)\n",
    "20. [Hebel](#Hebel)\n",
    "21. [Chainer](#Chainer)\n",
    "22. [OpenCV Python](#OpenCV_Python)\n",
    "23. [Theano](#Theano)\n",
    "24. [NLTK](#NLTK)\n",
    "25. [SQLAlchemy](#SQLAlchemy)\n",
    "26. [Bokeh](#Bokeh)\n",
    "27. [Requests](#Requests)\n",
    "28. [aiohttp](#aiohttp)\n",
    "29. [Pyglet](#Pyglet)\n",
    "30. [LightGBM](#LightGBM)\n",
    "31. [Eli5](#Eli5)\n",
    "32. [Pillow](#Pillow)\n",
    "33. [BeautifulSoup](#BeautifulSoup)\n",
    "34. [Scrapy](#Scrapy)\n",
    "35. [Selenium](#Selenium)\n",
    "36. [Asyncio](#Asyncio)\n",
    "37. [Tkinter](#Tkinter)\n",
    "38. [PyQt5](#PyQt5)\n",
    "39. [Pygame](#Pygame)\n",
    "40. [Kivy](#Kivy)"
   ]
  },
  {
   "cell_type": "markdown",
   "id": "17234fd0",
   "metadata": {},
   "source": [
    "### <a id='Scikit-learn'>Scikit-learn</a>"
   ]
  },
  {
   "cell_type": "markdown",
   "id": "5b5e11d0",
   "metadata": {},
   "source": [
    "It is a free software machine learning library for the Python programming language. It can be effectively used for a variety of applications which include classification, regression, clustering, model selection, naive Bayes’, grade boosting, K-means, and preprocessing.\n",
    "Scikit-learn requires:\n",
    "\n",
    "+ Python (>= 2.7 or >= 3.3),\n",
    "+ NumPy (>= 1.8.2),\n",
    "+ SciPy (>= 0.13.3).\n",
    "\n",
    "Spotify uses Scikit-learn for its music recommendations and Evernote for building its classifiers. If you already have a working installation of NumPy and scipy, the easiest way to install [scikit-learn](https://scikit-learn.org/stable/install.html) is by using pip."
   ]
  },
  {
   "cell_type": "markdown",
   "id": "3edc1521",
   "metadata": {},
   "source": [
    "### <a id='NuPIC'>NuPIC</a>"
   ]
  },
  {
   "cell_type": "markdown",
   "id": "51b3f294",
   "metadata": {},
   "source": [
    "The Numenta Platform for Intelligent Computing ([NuPIC](https://pypi.org/project/nupic/)) is a platform that aims to implement an [HTM learning algorithm](https://numenta.com/blog/2019/10/24/machine-learning-guide-to-htm) and make them a public source as well. It is the foundation for future machine learning algorithms based on the [biology of the neocortex](https://med.libretexts.org/Bookshelves/Pharmacology_and_Neuroscience/Book%3A_Computational_Cognitive_Neuroscience_(O'Reilly_and_Munakata)/03%3A_Networks/3.02%3A_Biology_of_the_Neocortex#:~:text=The%20cerebral%20cortex%20or%20neocortex,information%20processing%20in%20the%20cortex.). Click [here](https://github.com/numenta) to check their code on GitHub."
   ]
  },
  {
   "cell_type": "markdown",
   "id": "8a1fb07a",
   "metadata": {},
   "source": [
    "### <a id='Ramp'>Ramp</a>"
   ]
  },
  {
   "cell_type": "markdown",
   "id": "2eb428ae",
   "metadata": {},
   "source": [
    "It is a Python library that is used for the rapid prototyping of machine learning models. [Ramp](https://pypi.org/project/ramp/) provides a simple, declarative syntax for exploring features, algorithms, and transformations. It is a lightweight pandas-based machine learning framework and can be used seamlessly with existing python machine learning and statistics tools."
   ]
  },
  {
   "cell_type": "markdown",
   "id": "9fda66da",
   "metadata": {},
   "source": [
    "### <a id='NumPy'>NumPy</a>"
   ]
  },
  {
   "cell_type": "markdown",
   "id": "200d16f9",
   "metadata": {},
   "source": [
    "When it comes to scientific computing, [NumPy](https://numpy.org/) is one of the fundamental packages for Python, providing support for large multidimensional arrays and matrices along with a collection of high-level mathematical functions to execute these functions swiftly. NumPy relies on [BLAS](https://en.wikipedia.org/wiki/Basic_Linear_Algebra_Subprograms) and [LAPACK](https://en.wikipedia.org/wiki/LAPACK) for efficient linear algebra computations. NumPy can also be used as an efficient multi-dimensional container of generic data.\n",
    "\n",
    "The various NumPy installation packages can be found [here](https://scipy.org/install/)."
   ]
  },
  {
   "cell_type": "markdown",
   "id": "9c68966f",
   "metadata": {},
   "source": [
    "### <a id='Pipenv'>Pipenv</a>"
   ]
  },
  {
   "cell_type": "markdown",
   "id": "590c0d37",
   "metadata": {},
   "source": [
    "The officially recommended tool for Python in 2017 – Pipenv is a production-ready tool that aims to bring the best of all packaging worlds to the Python world. The cardinal purpose is to provide users with a working environment that is easy to set up. Pipenv, the “Python Development Workflow for Humans,” was created by Kenneth Reitz for managing package discrepancies. The instructions to install Pipenv can be found [here](https://docs.pipenv.org/install/#installing-pipenv)."
   ]
  },
  {
   "cell_type": "markdown",
   "id": "bc451fe3",
   "metadata": {},
   "source": [
    "### <a id='TensorFlow'>TensorFlow</a>"
   ]
  },
  {
   "cell_type": "markdown",
   "id": "8c371a22",
   "metadata": {},
   "source": [
    "TensorFlow’s most popular deep learning framework is an open-source software library for high-performance numerical computation. It is an iconic math library and is also used for Python in machine learning and deep learning algorithms. Tensorflow was developed by the researchers at the Google Brain team within the Google AI organization. Today, it is being used by researchers for machine learning algorithms and by physicists for complex mathematical computations. The following operating systems support TensorFlow: macOS 10.12.6 (Sierra) or later; Ubuntu 16.04 or later; Windows 7 or above; Raspbian 9.0 or later."
   ]
  },
  {
   "cell_type": "markdown",
   "id": "09edf29b",
   "metadata": {},
   "source": [
    "### <a id='Bob'>Bob</a>"
   ]
  },
  {
   "cell_type": "markdown",
   "id": "38df1119",
   "metadata": {},
   "source": [
    "Developed at Idiap Research Institute in Switzerland, [Bob](https://pypi.org/project/bob/) is a free signal processing and machine learning toolbox. The toolbox is written in a mix of Python and C++. From image recognition to image and video processing using machine learning algorithms, a large number of packages are available in Bob to make all of this happen with great efficiency in a short time."
   ]
  },
  {
   "cell_type": "markdown",
   "id": "0d6bf71b",
   "metadata": {},
   "source": [
    "### <a id='PyTorch'>PyTorch</a>"
   ]
  },
  {
   "cell_type": "markdown",
   "id": "8061ff26",
   "metadata": {},
   "source": [
    "Introduced by Facebook in 2017, [PyTorch](https://pytorch.org/) is a Python package that gives the user a blend of 2 high-level features – Tensor computation (like NumPy) with strong GPU acceleration and the development of Deep Neural Networks on a tape-based auto diff system. PyTorch provides a great platform to execute Deep Learning models with increased flexibility and speed built to be integrated deeply with Python."
   ]
  },
  {
   "cell_type": "markdown",
   "id": "cc1741f4",
   "metadata": {},
   "source": [
    "### <a id='PyBrain'>PyBrain</a>"
   ]
  },
  {
   "cell_type": "markdown",
   "id": "73b5121f",
   "metadata": {},
   "source": [
    "[PyBrain](http://pybrain.org/) contains algorithms for neural networks that can be used by entry-level students yet can be used for state-of-the-art research. The goal is to offer simple, flexible yet sophisticated, and powerful algorithms for machine learning with many pre-determined environments to test and compare your algorithms. Researchers, students, developers, lecturers, you, and I can use PyBrain."
   ]
  },
  {
   "cell_type": "markdown",
   "id": "1f041a31",
   "metadata": {},
   "source": [
    "### <a id='MILK'>MILK</a>"
   ]
  },
  {
   "cell_type": "markdown",
   "id": "36abde0b",
   "metadata": {},
   "source": [
    "This machine learning toolkit in Python focuses on supervised classification with a gamut of classifiers available: SVM, k-NN, random forests, and decision trees. A range of combinations of these classifiers gives different classification systems. For unsupervised learning, one can use k-means clustering and affinity propagation. There is a strong emphasis on speed and low memory usage. Therefore, most of the performance-sensitive code is in C++. Read more about it [here](https://pypi.org/project/milk/)."
   ]
  },
  {
   "cell_type": "markdown",
   "id": "25bf0611",
   "metadata": {},
   "source": [
    "### <a id='Keras'>Keras</a>"
   ]
  },
  {
   "cell_type": "markdown",
   "id": "3603dfd9",
   "metadata": {},
   "source": [
    "It is an open-source neural network library written in Python designed to enable fast experimentation with deep neural networks. With deep learning becoming ubiquitous, [Keras](https://keras.io/) becomes the ideal choice as it is API designed for humans and not machines, according to the creators. With over 200,000 users as of November 2017, Keras has stronger adoption in both the industry and the research community, even over TensorFlow or Theano. Before installing Keras, it is advised to install the TensorFlow backend engine."
   ]
  },
  {
   "cell_type": "markdown",
   "id": "6f33ba41",
   "metadata": {},
   "source": [
    "### <a id='Dash'>Dash</a>"
   ]
  },
  {
   "cell_type": "markdown",
   "id": "a12f0cd3",
   "metadata": {},
   "source": [
    "From exploring data to monitoring your experiments, Dash is like the front end to the analytical Python backend. This productive Python framework is ideal for data visualization apps particularly suited for every Python user. The ease we experience is a result of extensive and exhaustive effort."
   ]
  },
  {
   "cell_type": "markdown",
   "id": "a5e6faef",
   "metadata": {},
   "source": [
    "### <a id='Pandas'>Pandas</a>"
   ]
  },
  {
   "cell_type": "markdown",
   "id": "3326386a",
   "metadata": {},
   "source": [
    "It is an open-source, BSD-licensed library. Pandas enable the provision of easy data structure and quicker data analysis for Python. For operations like data analysis and modeling, Pandas makes it possible to carry these out without needing to switch to more domain-specific language like R. The best way to install Pandas is by [Conda installation](https://pandas.pydata.org/pandas-docs/stable/getting_started/install.html)."
   ]
  },
  {
   "cell_type": "markdown",
   "id": "d5985c62",
   "metadata": {},
   "source": [
    "### <a id='Scipy'>Scipy</a>"
   ]
  },
  {
   "cell_type": "markdown",
   "id": "00a21e7f",
   "metadata": {},
   "source": [
    "This is yet another open-source software used for scientific computing in Python. Apart from that, Scipy is also used for Data Computation, productivity, high-performance computing, and quality assurance. The various installation packages can be found [here](https://scipy.org/install/). The core Scipy packages are Numpy, SciPy library, Matplotlib, IPython, Sympy, and Pandas."
   ]
  },
  {
   "cell_type": "markdown",
   "id": "943064a1",
   "metadata": {},
   "source": [
    "### <a id='Matplotlib'>Matplotlib</a>"
   ]
  },
  {
   "cell_type": "markdown",
   "id": "f4c5e2a2",
   "metadata": {},
   "source": [
    "All the libraries that we have discussed are capable of a gamut of numeric operations, but when it comes to dimensional plotting, Matplotlib steals the show. This open-source library in Python is widely used for publishing quality figures in various hard copy formats and interactive environments across platforms. You can design charts, graphs, pie charts, scatterplots, histograms, error charts, etc., with just a few lines of code.\n",
    "\n",
    "The various installation packages can be found [here](https://matplotlib.org/stable/users/installing/index.html)."
   ]
  },
  {
   "cell_type": "markdown",
   "id": "e4adb214",
   "metadata": {},
   "source": [
    "### <a id='Theano'>Theano</a>"
   ]
  },
  {
   "cell_type": "markdown",
   "id": "351c7fa5",
   "metadata": {},
   "source": [
    "This open-source library enables you to efficiently define, optimize, and evaluate mathematical expressions involving multi-dimensional arrays. For a humongous volume of data, handcrafted C codes become slower. Theano enables swift implementations of code. Theano can recognize unstable expressions and yet compute them with stable algorithms, giving it an upper hand over NumPy. The closest Python package to Theano is Sympy."
   ]
  },
  {
   "cell_type": "markdown",
   "id": "b0aa1fd5",
   "metadata": {},
   "source": [
    "### <a id='SymPy'>SymPy</a>"
   ]
  },
  {
   "cell_type": "markdown",
   "id": "b7b92f9c",
   "metadata": {},
   "source": [
    "For all the symbolic mathematics, SymPy is the answer. This Python library for symbolic mathematics is an effective aid for computer algebra systems (CAS) while keeping the code as simple as possible to be comprehensible and easily extensible. SimPy is written in Python only and can be embedded in other applications and extended with custom functions. You can find the source code on [GitHub](https://github.com/sympy/sympy). "
   ]
  },
  {
   "cell_type": "markdown",
   "id": "aa804341",
   "metadata": {},
   "source": [
    "### <a id='Caffe2'>Caffe2</a>"
   ]
  },
  {
   "cell_type": "markdown",
   "id": "3bd4bed9",
   "metadata": {},
   "source": [
    "The new boy in town – Caffe2, is a Lightweight, Modular, and Scalable Deep Learning Framework. It aims to provide an easy and straightforward way for you to experiment with deep learning. Thanks to Python and C++ APIs in Caffe2, we can create our prototype now and optimize it later. You can get started with Caffe2 now with this step-by-step [installation guide](https://caffe2.ai/docs/getting-started.html?platform=windows&configuration=compile)."
   ]
  },
  {
   "cell_type": "markdown",
   "id": "463e7a06",
   "metadata": {},
   "source": [
    "### <a id='Seaborn'>Seaborn</a>"
   ]
  },
  {
   "cell_type": "markdown",
   "id": "c1562939",
   "metadata": {},
   "source": [
    "When it comes to the visualization of statistical models like heat maps, Seaborn is among the reliable sources. This Python library is derived from Matplotlib and is closely integrated with Pandas data structures. Visit the [installation page](https://seaborn.pydata.org/installing.html#installing) to see how this package can be installed."
   ]
  },
  {
   "cell_type": "markdown",
   "id": "9a97af73",
   "metadata": {},
   "source": [
    "### <a id='Hebel'>Hebel</a>"
   ]
  },
  {
   "cell_type": "markdown",
   "id": "0dfa1e3e",
   "metadata": {},
   "source": [
    "This Python library is a tool for deep learning with neural networks using GPU acceleration with CUDA through pyCUDA. Right now, Hebel implements feed-forward neural networks for classification and regression on one or multiple tasks. Other models such as Autoencoder, Convolutional neural nets, and Restricted Boltzman machines are planned for the future. Follow the [link](https://pypi.org/project/Hebel/) to explore Hebel."
   ]
  },
  {
   "cell_type": "markdown",
   "id": "88543759",
   "metadata": {},
   "source": [
    "### <a id='Chainer'>Chainer</a>"
   ]
  },
  {
   "cell_type": "markdown",
   "id": "fce6e4d4",
   "metadata": {},
   "source": [
    "A competitor to Hebel, this Python package aims at increasing the flexibility of deep learning models. The three key focus areas of Chainer include :\n",
    "\n",
    "**a. Transportation system:** The makers of Chainer have consistently shown an inclination toward automatic driving cars, and they have been in talks with Toyota Motors about the same.\n",
    "\n",
    "**b. Manufacturing industry:** Chainer has been used effectively for robotics and several machine learning tools, from object recognition to optimization.\n",
    "\n",
    "**c. Bio-health care:** To deal with the severity of cancer, the makers of Chainer have invested in research of various medical images for the early diagnosis of cancer cells.\n",
    "The installation, projects and other details can be found here.\n",
    "So here is a list of the common Python Libraries which are worth taking a peek at and, if possible, familiarizing yourself with. If you feel there is some library that deserves to be on the list, do not forget to mention it in the comments."
   ]
  },
  {
   "cell_type": "markdown",
   "id": "4310742b",
   "metadata": {},
   "source": [
    "### <a id='OpenCV_Python'>OpenCV Python</a>"
   ]
  },
  {
   "cell_type": "markdown",
   "id": "1f2e46d6",
   "metadata": {},
   "source": [
    "Open Source Computer Vision or [OpenCV](https://www.mygreatlearning.com/blog/opencv-tutorial-in-python/) is used for image processing. It is a Python package that monitors overall functions focused on instant computer vision. OpenCV provides several inbuilt functions; with the help of this, you can learn Computer Vision. It allows both to read and write images at the same time. Objects such as faces, trees, etc., can be diagnosed in any video or image. It is compatible with Windows, OS-X, and other operating systems."
   ]
  },
  {
   "cell_type": "markdown",
   "id": "53d78b5f",
   "metadata": {},
   "source": [
    "### <a id='Theano'>Theano</a>"
   ]
  },
  {
   "cell_type": "markdown",
   "id": "317ef729",
   "metadata": {},
   "source": [
    "Along with being a Python Library, Theano is also an optimizing compiler. It is used for analyzing, describing, and optimizing different mathematical declarations at the same time. It makes use of multi-dimensional arrays, ensuring that we don’t have to worry about the perfection of our projects. Theano works well with GPUs and has an interface quite similar to Numpy. The library makes computation 140x faster and can be used to detect and analyze any harmful bugs. You can get it [here](https://github.com/Theano/Theano). "
   ]
  },
  {
   "cell_type": "markdown",
   "id": "b196a1ad",
   "metadata": {},
   "source": [
    "### <a id='NLTK'>NLTK</a>"
   ]
  },
  {
   "cell_type": "markdown",
   "id": "6576b9be",
   "metadata": {},
   "source": [
    "The Natural Language Toolkit, NLTK, is one of the popular Python NLP Libraries. It contains a set of processing libraries that provide processing solutions for numerical and symbolic language processing in English only. The toolkit comes with a dynamic discussion forum that allows you to discuss and bring up any issues relating to NLTK."
   ]
  },
  {
   "cell_type": "markdown",
   "id": "42ef478d",
   "metadata": {},
   "source": [
    "### <a id='SQLAlchemy'>SQLAlchemy</a>"
   ]
  },
  {
   "cell_type": "markdown",
   "id": "43a6d27d",
   "metadata": {},
   "source": [
    "SQLAcademy is a Database abstraction library for Python that comes with astounding support for a range of databases and layouts. It provides consistent patterns, is easy to understand, and can be used by beginners too. It improves the speed of communication between Python language and databases and supports most platforms such as Python 2.5, Jython, and Pypy. Using SQLAcademy, you can develop database schemes from scratch."
   ]
  },
  {
   "cell_type": "markdown",
   "id": "8d290fab",
   "metadata": {},
   "source": [
    "### <a id='Bokeh'>Bokeh</a>"
   ]
  },
  {
   "cell_type": "markdown",
   "id": "f155a792",
   "metadata": {},
   "source": [
    "A Data visualization library for Python, Bokeh allows interactive visualization. It makes use of HTML and Javascript to provide graphics, making it reliable for contributing web-based applications. It is highly flexible and allows you to convert visualization written in other libraries such as ggplot or matplot lib. Bokeh makes use of straightforward commands to create composite statistical scenarios."
   ]
  },
  {
   "cell_type": "markdown",
   "id": "83a45249",
   "metadata": {},
   "source": [
    "### <a id='Requests'>Requests</a>"
   ]
  },
  {
   "cell_type": "markdown",
   "id": "58c02da6",
   "metadata": {},
   "source": [
    "Requests enables you to send HTTP/1.1 requests and include headers, form data, multipart files, and parameters using basic Python dictionaries.\n",
    "Similarly, it also enables you to retrieve the answer data."
   ]
  },
  {
   "cell_type": "markdown",
   "id": "5cf19d2c",
   "metadata": {},
   "source": [
    "### <a id='aiohttp'>Aiohttp</a>"
   ]
  },
  {
   "cell_type": "markdown",
   "id": "f55f0185",
   "metadata": {},
   "source": [
    "Another simple yet widely used Python library is the aiohttp. It is basically meant to be an asynchronous HTTP client or server in Python. Beyond this and offering out-of-the-box support for Client WebSockets and Server WebSockets, there’s nothing more to this Python library."
   ]
  },
  {
   "cell_type": "markdown",
   "id": "b4dfecb6",
   "metadata": {},
   "source": [
    "### <a id='Pyglet'>Pyglet</a>"
   ]
  },
  {
   "cell_type": "markdown",
   "id": "f3ce69e2",
   "metadata": {},
   "source": [
    "Pyglet is designed for creating visually appealing games and other applications. Windowing, processing user interface events, joysticks, OpenGL graphics, loading pictures and movies, and playing sounds and music are all supported. Linux, OS X, and Windows all support Pyglet."
   ]
  },
  {
   "cell_type": "markdown",
   "id": "48086ae9",
   "metadata": {},
   "source": [
    "### <a id='LightGBM'>LightGBM</a>"
   ]
  },
  {
   "cell_type": "markdown",
   "id": "f351c252",
   "metadata": {},
   "source": [
    "One of the best and most well-known machine learning libraries, gradient boosting, aids programmers in creating new algorithms by using decision trees and other reformulated basic models. As a result, specialized libraries can be used to implement this method quickly and effectively."
   ]
  },
  {
   "cell_type": "markdown",
   "id": "e97afe4a",
   "metadata": {},
   "source": [
    "### <a id='Eli5'>Eli5</a>"
   ]
  },
  {
   "cell_type": "markdown",
   "id": "c235e243",
   "metadata": {},
   "source": [
    "The Python-built Eli5 machine learning library aids in addressing the problem of machine learning model predictions that are frequently inaccurate. It combines visualization, debugging all machine learning models, and tracking all algorithmic working processes."
   ]
  },
  {
   "cell_type": "markdown",
   "id": "0fcbbdde",
   "metadata": {},
   "source": [
    "### <a id='Pillow'>Pillow</a>"
   ]
  },
  {
   "cell_type": "markdown",
   "id": "4702cdec",
   "metadata": {},
   "source": [
    "Python Imaging Library or PIL is a free Python library that adds an image processing ability to the Python interpreter. In simple terms, PIL allows manipulating, opening, and saving various image file formats in Python. Created by Alex Clark and other contributors, Pillow is a fork of the PIL library.\n",
    "\n",
    "In addition to offering powerful image processing capabilities, Pillow offers an effective internal representation and extensive file format support. The core Python library is designed to offer fast access to data stored in a few basic pixel formats."
   ]
  },
  {
   "cell_type": "markdown",
   "id": "7f2762d0",
   "metadata": {},
   "source": [
    "### <a id='BeautifulSoup'>BeautifulSoup</a>"
   ]
  },
  {
   "cell_type": "markdown",
   "id": "aac69d89",
   "metadata": {},
   "source": [
    "Beautiful Soup received its name thanks to its ability to parse HTML and XML documents (even with malformed markup called “tag soup”). This Python package scrapes the web and collects data, preparing them for future manipulation. As an incredibly versatile package, Beautiful Soup is one of the tools of choice for many data analysts and scientists. Machine learning and deep learning developers also use Beautiful Soup to obtain data for training their ML/DL models."
   ]
  },
  {
   "cell_type": "markdown",
   "id": "d3378f2e",
   "metadata": {},
   "source": [
    "### <a id='Scrapy'>Scrapy</a>"
   ]
  },
  {
   "cell_type": "markdown",
   "id": "68c92d17",
   "metadata": {},
   "source": [
    "Scrapy is a free and open-source Python framework that is widely used for web scraping and a number of other tasks, including automated testing and data mining.\n",
    "\n",
    "Initially, Scrapy was developed for web scraping but has evolved to fulfill other purposes over the years. The library offers a fast and high-level method for crawling websites and extracting structured data from web pages.\n",
    "\n",
    "Written in Python, Scrapy is built around spiders that are basically self-contained crawlers, which are provided a set of instructions. Abiding by the DRY (don’t repeat yourself) principle, Scrapy makes it easier to build and scale full-fledged web crawling projects."
   ]
  },
  {
   "cell_type": "markdown",
   "id": "e4517e6e",
   "metadata": {},
   "source": [
    "### <a id='Selenium'>Selenium</a>"
   ]
  },
  {
   "cell_type": "markdown",
   "id": "13b80335",
   "metadata": {},
   "source": [
    "Selenium automates browsers. That's it!\n",
    "What you do with that power is entirely up to you.\n",
    "\n",
    "Primarily it is for automating web applications for testing purposes, but is certainly not limited to just that.\n",
    "\n",
    "Boring web-based administration tasks can (and should) also be automated as well."
   ]
  },
  {
   "cell_type": "markdown",
   "id": "51e9a8d5",
   "metadata": {},
   "source": [
    "### <a id='Asyncio'>Asyncio</a>"
   ]
  },
  {
   "cell_type": "markdown",
   "id": "dabbe042",
   "metadata": {},
   "source": [
    "Numerous Python developers around the world make use of the asyncio library for writing concurrent code using the async/await syntax. In most cases, the asyncio library is ideal for IO-bound and high-level structured network code.\n",
    "\n",
    "asyncio has been used for building various Python asynchronous frameworks that offer database connection libraries, distributed task queues, high-performance network and web servers, and much more. The library comes with a number of high-level and low-level APIs."
   ]
  },
  {
   "cell_type": "markdown",
   "id": "e14dcd4c",
   "metadata": {},
   "source": [
    "### <a id='Tkinter'>Tkinter</a>"
   ]
  },
  {
   "cell_type": "markdown",
   "id": "9ddbbfea",
   "metadata": {},
   "source": [
    "When used with Tkinter, Python offers an easy and fast way of creating GUI applications. Tkinter is the standard GUI library for the Python programming language. It offers a powerful object-oriented interface for the Tk GUI toolkit."
   ]
  },
  {
   "cell_type": "markdown",
   "id": "d0ac8029",
   "metadata": {},
   "source": [
    "### <a id='PyQt5'>PyQt5</a>"
   ]
  },
  {
   "cell_type": "markdown",
   "id": "7f03c570",
   "metadata": {},
   "source": [
    "PyQt is a library that lets you use the Qt GUI framework from Python. Qt itself is written in C++. By using it from Python, you can build applications much more quickly while not sacrificing much of the speed of C++.\n",
    "\n",
    "PyQt5 refers to the most recent version 5 of Qt. You may still find the occasional mention of (Py)Qt4 on the web, but it is old and no longer supported.\n",
    "\n",
    "An interesting new competitor to PyQt is Qt for Python. Its API is virtually identical. Unlike PyQt, it is licensed under the LGPL and can thus be used for free in commercial projects. It's backed by the Qt company, and thus likely the future. We use PyQt here because it is more mature. Since the APIs are so similar, you can easily switch your apps to Qt for Python later."
   ]
  },
  {
   "cell_type": "markdown",
   "id": "1050fdbd",
   "metadata": {},
   "source": [
    "### <a id='Pygame'>Pygame</a>"
   ]
  },
  {
   "cell_type": "markdown",
   "id": "6d0f6a89",
   "metadata": {},
   "source": [
    "Pygame is a free and open-source Python library that is meant for accomplishing multimedia application development in Python, especially two-dimensional gaming projects. Hence, it is widely used by both casual and professional Python game developers.\n",
    "\n",
    "Under the hood, Pygame makes use of the SDL (Simple DirectMedia Layer) library. Like the SDL library, the Pygame library is highly portable and thus provides support for a wide number of platforms and operating systems.\n",
    "\n",
    "It is possible to port applications developed using Pygame on Android-powered devices, like smartphones and tablets. For this very purpose, pgs4a (Pygame subset for Android) needs to be used."
   ]
  },
  {
   "cell_type": "markdown",
   "id": "4473f3be",
   "metadata": {},
   "source": [
    "### <a id='Kivy'>Kivy</a>"
   ]
  },
  {
   "cell_type": "markdown",
   "id": "605b955b",
   "metadata": {},
   "source": [
    "For building mobile apps and multi-touch application software with a NUI (Natural User Interface), Python developers rely on the Kivy library. The free and open-source Python library is distributed under the MIT license and runs on Android, iOS, Linux, macOS, and Windows.\n",
    "\n",
    "In actuality, Kivy is the evolution of the PyMT project. It contains all the necessary elements for building an intuitive multi-touch application, namely a graphics library, a wide range of widgets with multi-touch support, an intermediate language (Kv), and extensive input support.\n",
    "\n",
    "Kv, or the Kivy language, is an intermediate language dedicated to describing user interactions and interface. It makes it very easy to create a complete UI and add interaction(s) to it. Kivy also provides support for the Raspberry Pi."
   ]
  },
  {
   "cell_type": "markdown",
   "id": "6288bddc",
   "metadata": {},
   "source": [
    "### Frequently Asked Questions"
   ]
  },
  {
   "cell_type": "markdown",
   "id": "3af1c7ed",
   "metadata": {},
   "source": [
    "**1. What are Python libraries?**\n",
    "\n",
    "Python libraries are collections of functions, modules, and other components that allow developers to use preexisting code for certain tasks. Libraries can be general or more for specific purposes. They can save developers a ton of time and effort by preventing the need to code a huge chunk of an application from scratch."
   ]
  },
  {
   "cell_type": "markdown",
   "id": "3b5d0b2d",
   "metadata": {},
   "source": [
    "**2. How many libraries are there in Python?**\n",
    "\n",
    "As of July 2022, there are more than 137,000 Python libraries in existence. However, not all of them are created equally, and you’ll find that some are much better than others. "
   ]
  },
  {
   "cell_type": "markdown",
   "id": "b3246267",
   "metadata": {},
   "source": [
    "**3. What is a Python library example?**\n",
    "\n",
    "There are many hugely popular python packages and libraries. If you’re looking for Python library examples, consider some of the big names below:\n",
    "\n",
    "+ Requests\n",
    "+ Numpy, SciPy, SciKit-Learn\n",
    "+ PyTorch\n",
    "+ Pandas\n",
    "+ Seaborn\n",
    "+ Theano\n",
    "+ TensorFlow"
   ]
  },
  {
   "cell_type": "markdown",
   "id": "4d4d002c",
   "metadata": {},
   "source": [
    "**4. How do I get a list of Python libraries?**\n",
    "\n",
    "If you mean listing all of the modules, packages, or libraries currently installed in your version of Python, you can follow the guide here. The guide contains all the instructions you need for making a Python libraries list."
   ]
  },
  {
   "cell_type": "markdown",
   "id": "1584b312",
   "metadata": {},
   "source": [
    "**5. What are Python libraries used for?**\n",
    "\n",
    "Python libraries are used to make a developer’s job much easier and more convenient. Instead of needing to code portions of projects from scratch, developers can take modules and bundled code from libraries and use those in their projects instead. Libraries can also establish coding standards, making code maintenance easier to do."
   ]
  },
  {
   "cell_type": "markdown",
   "id": "f1ac37cf",
   "metadata": {},
   "source": [
    "**6. Are all Python libraries free?**\n",
    "\n",
    "Most major libraries do allow free commercial use. However, not all libraries are as easy to use and figure out. Thus, although a library may be free, you may need to pay for licensed or paid modules or software to make debugging and maintenance easier in the long term. Additionally, although many libraries are free for commercial use, you may have to pay if you’d like to include certain modules in your applications for distribution to future customers."
   ]
  },
  {
   "cell_type": "markdown",
   "id": "051b121e",
   "metadata": {},
   "source": [
    "**7. How do libraries work in Python?**\n",
    "\n",
    "Python libraries allow developers like you to take modules and bundles of code and use them repeatedly for various projects and purposes. Libraries prevent the need for you to code things from scratch repeatedly, as you can simply take preexisting code and add it to yours."
   ]
  },
  {
   "cell_type": "markdown",
   "id": "53226a7b",
   "metadata": {},
   "source": [
    "# Libraries Vs Framework"
   ]
  },
  {
   "cell_type": "markdown",
   "id": "632a9c70",
   "metadata": {},
   "source": [
    "The major difference between frameworks and libraries is complexity. Libraries offer fewer complexities, and frameworks are the opposite. A library is a collection of packages that performs specific operations.\n",
    "\n",
    "On the other hand, frameworks contain the basic flow and architecture of the application. But, developers need to build the rest of the functionalities. "
   ]
  },
  {
   "cell_type": "markdown",
   "id": "af655011",
   "metadata": {},
   "source": [
    "1. [Django](#Django)\n",
    "2. [Flask](#Flask)\n",
    "3. [Pytest](#Pytest)"
   ]
  },
  {
   "cell_type": "markdown",
   "id": "d48f9191",
   "metadata": {},
   "source": [
    "### <a id='Django'>Django</a>"
   ]
  },
  {
   "cell_type": "markdown",
   "id": "6e787b61",
   "metadata": {},
   "source": [
    "It comes under the category of full-stack framework, which has gained popularity in recent times and is considered as one of the top python web frameworks. It follows the principle of Don’t Repeat Yourself(DRY).\n",
    "\n",
    "Django has many built-in libraries and it gives the aid to migrate from one database to another. By default Django can work on these few databases: MySQL, Oracle, PostgreSQL, and SQLite, the rest databases can be used with the help of third-party drivers. For mapping objects to database tables, it uses ORM. \n",
    "\n",
    "Key Features are:\n",
    "\n",
    "+ Security is the most important point of this framework. When compared with other python frameworks Django proves to be more secure.\n",
    "+ It provides URL routing\n",
    "+ It provides authentication support\n",
    "+ Django offers a database schema migration feature.\n",
    "+ It provides adequate prebuilt libraries for full stack development.\n",
    "+ Django follows MVC-MVT architecture. In this architecture, the developer just has to give a model, view, and template then the user does the mapping of it to the URL and then the rest of the tasks are handled by Django itself."
   ]
  },
  {
   "cell_type": "markdown",
   "id": "7321ecd8",
   "metadata": {},
   "source": [
    "### <a id='Flask'>Flask</a>"
   ]
  },
  {
   "cell_type": "markdown",
   "id": "d81d45a6",
   "metadata": {},
   "source": [
    "Another lightweight and micro-framework that is popular is a flask. Due to its modular design, it is more easily adaptable. Using this framework developers can make solid web applications and the creation of such applications makes it easy to use any type of extension. \n",
    "\n",
    "Key Features:\n",
    "\n",
    "+ Compatibility with Google App Engine\n",
    "+ Aids jinja2 template and Werkzeug WSGI toolkit\n",
    "+ Inbuilt debugger \n",
    "+ Provision for unit testing\n",
    "+ For enabling client-side sessions Flask provides support for cookies\n",
    "+ Restful request dispatching\n",
    "+ Another key highlight of this framework is it is Unicode based\n",
    "+ HTTP request handling is also supported \n",
    "+ This framework also provides the option of plugging in any ORM"
   ]
  },
  {
   "cell_type": "markdown",
   "id": "7f765582",
   "metadata": {},
   "source": [
    "### <a id='Pytest'>Pytest</a>"
   ]
  },
  {
   "cell_type": "markdown",
   "id": "7df018a8",
   "metadata": {},
   "source": [
    "Pytest is a testing framework based on python. It is mainly used to write API test cases. This tutorial helps you understand −\n",
    "\n",
    "Installation of pytest.\n",
    "Various concepts and features of pytest.\n",
    "Sample programs.\n",
    "\n",
    "#### Advantages of Pytest\n",
    "\n",
    "The advantages of Pytest are as follows −\n",
    "+ Pytest can run multiple tests in parallel, which reduces the execution time of the test suite.\n",
    "+ Pytest has its own way to detect the test file and test functions automatically, if not mentioned explicitly.\n",
    "+ Pytest allows us to skip a subset of the tests during execution.\n",
    "+ Pytest allows us to run a subset of the entire test suite.\n",
    "+ Pytest is free and open source.\n",
    "+ Because of its simple syntax, pytest is very easy to start with."
   ]
  }
 ],
 "metadata": {
  "_draft": {
   "nbviewer_url": "https://gist.github.com/8bac0cd6fe9454a8759096490bf33d7b"
  },
  "gist": {
   "data": {
    "description": "Popular Python Libraries",
    "public": true
   },
   "id": "8bac0cd6fe9454a8759096490bf33d7b"
  },
  "kernelspec": {
   "display_name": "Python 3 (ipykernel)",
   "language": "python",
   "name": "python3"
  },
  "language_info": {
   "codemirror_mode": {
    "name": "ipython",
    "version": 3
   },
   "file_extension": ".py",
   "mimetype": "text/x-python",
   "name": "python",
   "nbconvert_exporter": "python",
   "pygments_lexer": "ipython3",
   "version": "3.10.8"
  }
 },
 "nbformat": 4,
 "nbformat_minor": 5
}
