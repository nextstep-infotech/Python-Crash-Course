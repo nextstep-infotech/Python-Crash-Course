{
 "cells": [
  {
   "cell_type": "markdown",
   "metadata": {
    "slideshow": {
     "slide_type": "slide"
    }
   },
   "source": [
    "Classes\n",
    "==="
   ]
  },
  {
   "cell_type": "markdown",
   "metadata": {
    "slideshow": {
     "slide_type": "subslide"
    }
   },
   "source": [
    "So far you have learned about Python's core data types: strings, numbers, lists, tuples, and dictionaries. In this section you will learn about the last major data structure, classes. Classes are quite unlike the other data types, in that they are much more flexible. Classes allow you to define the information and behavior that characterize anything you want to model in your program. Classes are a rich topic, so you will learn just enough here to dive into the projects you'd like to get started on."
   ]
  },
  {
   "cell_type": "markdown",
   "metadata": {
    "slideshow": {
     "slide_type": "fragment"
    }
   },
   "source": [
    "There is a lot of new language that comes into play when you start learning about classes. If you are familiar with object-oriented programming from your work in another language, this will be a quick read about how Python approaches OOP. If you are new to programming in general, there will be a lot of new ideas here. Just start reading, try out the examples on your own machine, and trust that it will start to make sense as you work your way through the examples and exercises."
   ]
  },
  {
   "cell_type": "markdown",
   "metadata": {
    "slideshow": {
     "slide_type": "slide"
    }
   },
   "source": [
    "<a name=\"what\"></a>What are classes?\n",
    "===\n",
    "Classes are a way of combining information and behavior. For example, let's consider what you'd need to do if you were creating a rocket ship in a game, or in a physics simulation. One of the first things you'd want to track are the x and y coordinates of the rocket. Here is what a simple rocket ship class looks like in code:"
   ]
  },
  {
   "cell_type": "code",
   "execution_count": 2,
   "metadata": {
    "slideshow": {
     "slide_type": "fragment"
    }
   },
   "outputs": [],
   "source": [
    "class Rocket():\n",
    "    def __init__(self):\n",
    "        self.x = 0\n",
    "        self.y = 0"
   ]
  },
  {
   "cell_type": "markdown",
   "metadata": {
    "slideshow": {
     "slide_type": "subslide"
    }
   },
   "source": [
    "One of the first things you do with a class is to define the **\\__init\\__()** method. The \\_\\_init\\_\\_() method sets the values for any parameters that need to be defined when an object is first created. The *self* part will be explained later; basically, it's a syntax that allows you to access a variable from anywhere else in the class.\n",
    "\n",
    "The Rocket class stores two pieces of information so far, but it can't do anything. The first behavior to define is a core behavior of a rocket: moving up. Here is what that might look like in code:"
   ]
  },
  {
   "cell_type": "code",
   "execution_count": 1,
   "metadata": {
    "slideshow": {
     "slide_type": "fragment"
    }
   },
   "outputs": [],
   "source": [
    "class Rocket():\n",
    "    def __init__(self):\n",
    "        self.x = 0\n",
    "        self.y = 0\n",
    "        \n",
    "    def move_up(self):\n",
    "        self.y += 1"
   ]
  },
  {
   "cell_type": "markdown",
   "metadata": {
    "slideshow": {
     "slide_type": "subslide"
    }
   },
   "source": [
    "The Rocket class can now store some information, and it can do something. But this code has not actually created a rocket yet. Here is how you actually make a rocket:"
   ]
  },
  {
   "cell_type": "code",
   "execution_count": 3,
   "metadata": {
    "slideshow": {
     "slide_type": "fragment"
    }
   },
   "outputs": [
    {
     "name": "stdout",
     "output_type": "stream",
     "text": [
      "<__main__.Rocket object at 0x000002188C570C10>\n"
     ]
    }
   ],
   "source": [
    "class Rocket():\n",
    "    def __init__(self):\n",
    "        self.x = 0\n",
    "        self.y = 0\n",
    "        \n",
    "    def move_up(self):\n",
    "        self.y += 1\n",
    "        \n",
    "my_rocket = Rocket()\n",
    "print(my_rocket)"
   ]
  },
  {
   "cell_type": "markdown",
   "metadata": {
    "slideshow": {
     "slide_type": "subslide"
    }
   },
   "source": [
    "To actually use a class, you create a variable such as *my\\_rocket*. Then you set that equal to the name of the class, with an empty set of parentheses. Python creates an **object** from the class. An object is a single instance of the Rocket class; it has a copy of each of the class's variables, and it can do any action that is defined for the class. In this case, you can see that the variable my\\_rocket is a Rocket object from the \\_\\_main\\_\\_ program file, which is stored at a particular location in memory."
   ]
  },
  {
   "cell_type": "markdown",
   "metadata": {
    "slideshow": {
     "slide_type": "subslide"
    }
   },
   "source": [
    "Once you have a class, you can define an object and use its methods. Here is how you might define a rocket and have it start to move up:"
   ]
  },
  {
   "cell_type": "code",
   "execution_count": 5,
   "metadata": {
    "slideshow": {
     "slide_type": "fragment"
    }
   },
   "outputs": [
    {
     "name": "stdout",
     "output_type": "stream",
     "text": [
      "Rocket altitude 0\n",
      "Rocket altitude 1\n",
      "Rocket altitude 2\n"
     ]
    }
   ],
   "source": [
    "class Rocket():\n",
    "    def __init__(self):\n",
    "        self.x = 0\n",
    "        self.y = 0\n",
    "        \n",
    "    def move_up(self):\n",
    "        self.y += 1\n",
    "        \n",
    "my_rocket = Rocket()\n",
    "print(\"Rocket altitude\", my_rocket.y)\n",
    "\n",
    "my_rocket.move_up()\n",
    "print(\"Rocket altitude\", my_rocket.y)\n",
    "\n",
    "my_rocket.move_up()\n",
    "print(\"Rocket altitude\", my_rocket.y)\n"
   ]
  },
  {
   "cell_type": "markdown",
   "metadata": {
    "slideshow": {
     "slide_type": "subslide"
    }
   },
   "source": [
    "To access an object's variables or methods, you give the name of the object and then use *dot notation* to access the variables and methods. So to get the y-value of *my\\_rocket*, you use *my\\_rocket.y*. To use the move_up() method on my_rocket, you write *my\\_rocket.move\\_up()*."
   ]
  },
  {
   "cell_type": "markdown",
   "metadata": {
    "slideshow": {
     "slide_type": "fragment"
    }
   },
   "source": [
    "Once you have a class defined, you can create as many objects from that class as you want. Each object is its own instance of that class, with its own separate variables. All of the objects are capable of the same behavior, but each object's particular actions do not affect any of the other objects."
   ]
  },
  {
   "cell_type": "markdown",
   "metadata": {
    "slideshow": {
     "slide_type": "subslide"
    }
   },
   "source": [
    "Once you have a class, you can define an object and use its methods. Here is how you might define a rocket and have it start to move up:"
   ]
  },
  {
   "cell_type": "code",
   "execution_count": 6,
   "metadata": {
    "slideshow": {
     "slide_type": "fragment"
    }
   },
   "outputs": [
    {
     "name": "stdout",
     "output_type": "stream",
     "text": [
      "<__main__.Rocket object at 0x000002188C8D00A0>\n",
      "<__main__.Rocket object at 0x000002188CB69B70>\n",
      "<__main__.Rocket object at 0x000002188CB69ED0>\n",
      "<__main__.Rocket object at 0x000002188CB6A740>\n",
      "<__main__.Rocket object at 0x000002188CB6B0D0>\n"
     ]
    }
   ],
   "source": [
    "class Rocket():\n",
    "    def __init__(self):\n",
    "        self.x = 0\n",
    "        self.y = 0\n",
    "        \n",
    "    def move_up(self):\n",
    "        self.y += 1\n",
    "        \n",
    "my_rockets = []\n",
    "for x in range(0, 5):\n",
    "    new_rocket = Rocket()\n",
    "    my_rockets.append(new_rocket)\n",
    "\n",
    "for rocket in my_rockets:\n",
    "    print(rocket)"
   ]
  },
  {
   "cell_type": "markdown",
   "metadata": {
    "slideshow": {
     "slide_type": "subslide"
    }
   },
   "source": [
    "You can prove that each rocket has its own x and y values by moving just one of the rockets:"
   ]
  },
  {
   "cell_type": "code",
   "execution_count": 7,
   "metadata": {
    "slideshow": {
     "slide_type": "fragment"
    }
   },
   "outputs": [
    {
     "name": "stdout",
     "output_type": "stream",
     "text": [
      "Rocket altitude:  1\n",
      "Rocket altitude:  0\n",
      "Rocket altitude:  0\n",
      "Rocket altitude:  0\n",
      "Rocket altitude:  0\n"
     ]
    }
   ],
   "source": [
    "class Rocket():\n",
    "    def __init__(self):\n",
    "        self.x = 0\n",
    "        self.y = 0\n",
    "        \n",
    "    def move_up(self):\n",
    "        self.y += 1\n",
    "        \n",
    "my_rockets = []\n",
    "for x in range(0, 5):\n",
    "    new_rocket = Rocket()\n",
    "    my_rockets.append(new_rocket)\n",
    "    \n",
    "my_rockets[0].move_up()\n",
    "\n",
    "for rocket in my_rockets:\n",
    "    print(\"Rocket altitude: \", rocket.y)"
   ]
  },
  {
   "cell_type": "markdown",
   "metadata": {
    "slideshow": {
     "slide_type": "subslide"
    }
   },
   "source": [
    "The syntax for classes may not be very clear at this point, but consider for a moment how you might create a rocket without using classes. You might store the x and y values in a dictionary, but you would have to write a lot of ugly, hard-to-maintain code to manage even a small set of rockets. As more features become incorporated into the Rocket class, you will see how much more efficiently real-world objects can be modeled with classes than they could be using just lists and dictionaries."
   ]
  },
  {
   "cell_type": "markdown",
   "metadata": {
    "slideshow": {
     "slide_type": "skip"
    }
   },
   "source": [
    "<a name='exercises_what'></a>Exercises\n",
    "---\n",
    "\n",
    "#### Rocket With No Class\n",
    "- Using just what you already know, try to write a program that simulates the [above example](#what) about rockets.\n",
    "    - Store an x and y value for a rocket.\n",
    "    - Store an x and y value for each rocket in a set of 5 rockets. Store these 5 rockets in a list.\n",
    "- Don't take this exercise too far; it's really just a quick exercise to help you understand how useful the class structure is, especially as you start to see more capability added to the Rocket class."
   ]
  },
  {
   "cell_type": "code",
   "execution_count": 1,
   "metadata": {
    "slideshow": {
     "slide_type": "skip"
    }
   },
   "outputs": [],
   "source": [
    "# Ex 9.0 : Rocket with no Class\n",
    "\n",
    "# put your code here"
   ]
  },
  {
   "cell_type": "markdown",
   "metadata": {
    "slideshow": {
     "slide_type": "slide"
    }
   },
   "source": [
    "<a name='oop_terminology'></a>Object-Oriented terminology\n",
    "==="
   ]
  },
  {
   "cell_type": "markdown",
   "metadata": {
    "slideshow": {
     "slide_type": "subslide"
    }
   },
   "source": [
    "Classes are part of a programming paradigm called **object-oriented programming**. Object-oriented programming, or OOP for short, focuses on building reusable blocks of code called classes. When you want to use a class in one of your programs, you make an **object** from that class, which is where the phrase \"object-oriented\" comes from. Python itself is not tied to object-oriented programming, but you will be using objects in most or all of your Python projects. In order to understand classes, you have to understand some of the language that is used in OOP."
   ]
  },
  {
   "cell_type": "markdown",
   "metadata": {
    "slideshow": {
     "slide_type": "subslide"
    }
   },
   "source": [
    "<a name='general_terminology'></a>General terminology\n",
    "---"
   ]
  },
  {
   "cell_type": "markdown",
   "metadata": {
    "slideshow": {
     "slide_type": "fragment"
    }
   },
   "source": [
    "A **class** is a body of code that defines the **attributes** and **behaviors** required to accurately model something you need for your program. You can model something from the real world, such as a rocket ship or a guitar string, or you can model something from a virtual world such as a rocket in a game, or a set of physical laws for a game engine."
   ]
  },
  {
   "cell_type": "markdown",
   "metadata": {
    "slideshow": {
     "slide_type": "fragment"
    }
   },
   "source": [
    "An **attribute** is a piece of information. In code, an attribute is just a variable that is part of a class."
   ]
  },
  {
   "cell_type": "markdown",
   "metadata": {
    "slideshow": {
     "slide_type": "fragment"
    }
   },
   "source": [
    "A **behavior** is an action that is defined within a class. These are made up of **methods**, which are just functions that are defined for the class."
   ]
  },
  {
   "cell_type": "markdown",
   "metadata": {
    "slideshow": {
     "slide_type": "fragment"
    }
   },
   "source": [
    "An **object** is a particular instance of a class. An object has a certain set of values for all of the attributes (variables) in the class. You can have as many objects as you want for any one class."
   ]
  },
  {
   "cell_type": "markdown",
   "metadata": {
    "slideshow": {
     "slide_type": "fragment"
    }
   },
   "source": [
    "There is much more to know, but these words will help you get started. They will make more sense as you see more examples, and start to use classes on your own."
   ]
  },
  {
   "cell_type": "markdown",
   "metadata": {
    "slideshow": {
     "slide_type": "slide"
    }
   },
   "source": [
    "<a name='closer_look'></a>A closer look at the Rocket class\n",
    "---\n",
    "Now that you have seen a simple example of a class, and have learned some basic OOP terminology, it will be helpful to take a closer look at the Rocket class."
   ]
  },
  {
   "cell_type": "markdown",
   "metadata": {
    "slideshow": {
     "slide_type": "subslide"
    }
   },
   "source": [
    "<a name=\"init_method\"></a>The \\_\\_init()\\_\\_ method\n",
    "---\n",
    "Here is the initial code block that defined the Rocket class:"
   ]
  },
  {
   "cell_type": "code",
   "execution_count": null,
   "metadata": {
    "slideshow": {
     "slide_type": "fragment"
    }
   },
   "outputs": [],
   "source": [
    "class Rocket():\n",
    "    def __init__(self):\n",
    "        self.x = 0\n",
    "        self.y = 0"
   ]
  },
  {
   "cell_type": "markdown",
   "metadata": {
    "slideshow": {
     "slide_type": "subslide"
    }
   },
   "source": [
    "The first line shows how a class is created in Python. The keyword **class** tells Python that you are about to define a class. The rules for naming a class are the same rules you learned about [naming variables](var_string_num.html#naming_rules), but there is a strong convention among Python programmers that classes should be named using CamelCase. If you are unfamiliar with CamelCase, it is a convention where each letter that starts a word is capitalized, with no underscores in the name. The name of the class is followed by a set of parentheses. These parentheses will be empty for now, but later they may contain a class upon which the new class is based."
   ]
  },
  {
   "cell_type": "markdown",
   "metadata": {
    "slideshow": {
     "slide_type": "fragment"
    }
   },
   "source": [
    "It is good practice to write a comment at the beginning of your class, describing the class. There is a [more formal syntax](http://www.python.org/dev/peps/pep-0257/) for documenting your classes, but you can wait a little bit to get that formal. For now, just write a comment at the beginning of your class summarizing what you intend the class to do. Writing more formal documentation for your classes will be easy later if you start by writing simple comments now."
   ]
  },
  {
   "cell_type": "markdown",
   "metadata": {
    "slideshow": {
     "slide_type": "fragment"
    }
   },
   "source": [
    "Function names that start and end with two underscores are special built-in functions that Python uses in certain ways. The \\_\\_init()\\_\\_ method is one of these special functions. It is called automatically when you create an object from your class. The \\_\\_init()\\_\\_ method lets you make sure that all relevant attributes are set to their proper values when an object is created from the class, before the object is used. In this case, The \\_\\_init\\_\\_() method initializes the x and y values of the Rocket to 0."
   ]
  },
  {
   "cell_type": "markdown",
   "metadata": {
    "slideshow": {
     "slide_type": "fragment"
    }
   },
   "source": [
    "The **self** keyword often takes people a little while to understand. The word \"self\" refers to the current object that you are working with. When you are writing a class, it lets you refer to certain attributes from any other part of the class. Basically, all methods in a class need the *self* object as their first argument, so they can access any attribute that is part of the class."
   ]
  },
  {
   "cell_type": "markdown",
   "metadata": {
    "slideshow": {
     "slide_type": "fragment"
    }
   },
   "source": [
    "Now let's take a closer look at a **method**."
   ]
  },
  {
   "cell_type": "markdown",
   "metadata": {
    "slideshow": {
     "slide_type": "subslide"
    }
   },
   "source": [
    "<a name='simple_method'></a>A simple method\n",
    "---\n",
    "Here is the method that was defined for the Rocket class:"
   ]
  },
  {
   "cell_type": "code",
   "execution_count": 8,
   "metadata": {},
   "outputs": [
    {
     "name": "stdout",
     "output_type": "stream",
     "text": [
      "2304456989744\n",
      "2304456989744\n"
     ]
    }
   ],
   "source": [
    "class Rocket():\n",
    "    def __init__(self):\n",
    "        print(id(self))\n",
    "        self.x = 0\n",
    "        self.y = 0\n",
    "        \n",
    "    def move_up(self):\n",
    "        self.y += 1\n",
    "        \n",
    "my_rocket = Rocket()\n",
    "print(id(my_rocket))\n"
   ]
  },
  {
   "cell_type": "markdown",
   "metadata": {
    "slideshow": {
     "slide_type": "subslide"
    }
   },
   "source": [
    "A method is just a function that is part of a class. Since it is just a function, you can do anything with a method that you learned about with functions. You can accept [positional](08_more_functions.html#positional_arguments) arguments, [keyword](08_more_functions.html#keyword_arguments) arguments, an arbitrary [list of argument values](08_more_functions.html#arbitrary_sequence), an arbitrary [dictionary of arguments](08_more_functions.html#arbitrary_keyword_arguments), or any combination of these. Your arguments can return a value or a set of values if you want, or they can just do some work without returning any values."
   ]
  },
  {
   "cell_type": "markdown",
   "metadata": {
    "slideshow": {
     "slide_type": "fragment"
    }
   },
   "source": [
    "Each method has to accept one argument by default, the value **self**. This is a reference to the particular object that is calling the method. This *self* argument gives you access to the calling object's attributes. In this example, the self argument is used to access a Rocket object's y-value. That value is increased by 1, every time the method move_up() is called by a particular Rocket object. This is probably still somewhat confusing, but it should start to make sense as you work through your own examples."
   ]
  },
  {
   "cell_type": "markdown",
   "metadata": {
    "slideshow": {
     "slide_type": "subslide"
    }
   },
   "source": [
    "If you take a second look at what happens when a method is called, things might make a little more sense:"
   ]
  },
  {
   "cell_type": "code",
   "execution_count": 10,
   "metadata": {
    "slideshow": {
     "slide_type": "fragment"
    }
   },
   "outputs": [
    {
     "name": "stdout",
     "output_type": "stream",
     "text": [
      "Rocket altitude 0\n",
      "Rocket altitude 1\n",
      "Rocket altitude 2\n"
     ]
    }
   ],
   "source": [
    "class Rocket():\n",
    "    def __init__(self):\n",
    "#         print(id(self))\n",
    "        self.x = 0\n",
    "        self.y = 0\n",
    "        \n",
    "    def move_up(self):\n",
    "        self.y += 1\n",
    "        \n",
    "my_rocket = Rocket()\n",
    "print(\"Rocket altitude\", my_rocket.y)\n",
    "\n",
    "my_rocket.move_up()\n",
    "print(\"Rocket altitude\", my_rocket.y)\n",
    "\n",
    "my_rocket.move_up()\n",
    "print(\"Rocket altitude\", my_rocket.y)"
   ]
  },
  {
   "cell_type": "markdown",
   "metadata": {
    "slideshow": {
     "slide_type": "subslide"
    }
   },
   "source": [
    "In this example, a Rocket object is created and stored in the variable my_rocket. After this object is created, its y value is printed. The value of the attribute *y* is accessed using dot notation. The phrase *my\\_rocket.y* asks Python to return \"the value of the variable y attached to the object my_rocket\".\n",
    "\n",
    "After the object my_rocket is created and its initial y-value is printed, the method move_up() is called. This tells Python to apply the method move_up() to the object my_rocket. Python finds the y-value associated with my_rocket and adds 1 to that value. This process is repeated several times, and you can see from the output that the y-value is in fact increasing."
   ]
  },
  {
   "cell_type": "markdown",
   "metadata": {
    "slideshow": {
     "slide_type": "slide"
    }
   },
   "source": [
    "<a name='multiple_objects'></a>Making multiple objects from a class\n",
    "---"
   ]
  },
  {
   "cell_type": "markdown",
   "metadata": {
    "slideshow": {
     "slide_type": "fragment"
    }
   },
   "source": [
    "One of the goals of object-oriented programming is to create reusable code. Once you have written the code for a class, you can create as many objects from that class as you need. It is worth mentioning at this point that classes are usually saved in a separate file, and then imported into the program you are working on. So you can build a library of classes, and use those classes over and over again in different programs. Once you know a class works well, you can leave it alone and know that the objects you create in a new program are going to work as they always have."
   ]
  },
  {
   "cell_type": "markdown",
   "metadata": {
    "slideshow": {
     "slide_type": "subslide"
    }
   },
   "source": [
    "You can see this \"code reusability\" already when the Rocket class is used to make more than one Rocket object. Here is the code that made a fleet of Rocket objects:"
   ]
  },
  {
   "cell_type": "code",
   "execution_count": 12,
   "metadata": {
    "slideshow": {
     "slide_type": "fragment"
    }
   },
   "outputs": [
    {
     "name": "stdout",
     "output_type": "stream",
     "text": [
      "2304460522544\n",
      "<__main__.Rocket object at 0x000002188C8D0430>\n",
      "2304456989408\n",
      "<__main__.Rocket object at 0x000002188C571AE0>\n",
      "2304463251024\n",
      "<__main__.Rocket object at 0x000002188CB6A650>\n",
      "2304463252272\n",
      "<__main__.Rocket object at 0x000002188CB6AB30>\n",
      "2304463255056\n",
      "<__main__.Rocket object at 0x000002188CB6B610>\n"
     ]
    }
   ],
   "source": [
    "class Rocket():\n",
    "    def __init__(self):\n",
    "        self.x = 0\n",
    "        self.y = 0\n",
    "        \n",
    "    def move_up(self):\n",
    "        self.y += 1\n",
    "        \n",
    "my_rockets = []\n",
    "for x in range(0, 5):\n",
    "    new_rocket = Rocket()\n",
    "    my_rockets.append(new_rocket)\n",
    "\n",
    "for rocket in my_rockets:\n",
    "    print(id(rocket))\n",
    "    print(rocket)"
   ]
  },
  {
   "cell_type": "markdown",
   "metadata": {
    "slideshow": {
     "slide_type": "subslide"
    }
   },
   "source": [
    "What exactly happens in this for loop? The line *my\\_rockets.append(Rocket())* is executed 5 times. Each time, a new Rocket object is created and then added to the list my\\_rockets. The \\_\\_init\\_\\_() method is executed once for each of these objects, so each object gets its own x and y value. When a method is called on one of these objects, the *self* variable allows access to just that object's attributes, and ensures that modifying one object does not affect any of the other objecs that have been created from the class.\n",
    "\n",
    "Each of these objects can be worked with individually. At this point we are ready to move on and see how to add more functionality to the Rocket class. We will work slowly, and give you the chance to start writing your own simple classes."
   ]
  },
  {
   "cell_type": "markdown",
   "metadata": {
    "slideshow": {
     "slide_type": "subslide"
    }
   },
   "source": [
    "<a name='check_in'></a>A quick check-in\n",
    "---\n",
    "If all of this makes sense, then the rest of your work with classes will involve learning a lot of details about how classes can be used in more flexible and powerful ways. If this does not make any sense, you could try a few different things:\n",
    "\n",
    "- Reread the previous sections, and see if things start to make any more sense.\n",
    "- Type out these examples in your own editor, and run them. Try making some changes, and see what happens.\n",
    "- Try the next exercise, and see if it helps solidify some of the concepts you have been reading about.\n",
    "- Read on. The next sections are going to add more functionality to the Rocket class. These steps will involve rehashing some of what has already been covered, in a slightly different way.\n",
    "\n",
    "Classes are a huge topic, and once you understand them you will probably use them for the rest of your life as a programmer. If you are brand new to this, be patient and trust that things will start to sink in."
   ]
  },
  {
   "cell_type": "markdown",
   "metadata": {
    "slideshow": {
     "slide_type": "skip"
    }
   },
   "source": [
    "<a name='exercises_closer_look'></a>Exercises\n",
    "---\n",
    "#### Your Own Rocket\n",
    "- Without looking back at the previous examples, try to recreate the [Rocket class](#multiple_objects) as it has been shown so far.\n",
    "    - Define the Rocket() class.\n",
    "    - Define the \\_\\_init\\_\\_() method, which sets an x and a y value for each Rocket object.\n",
    "    - Define the move_up() method.\n",
    "    - Create a Rocket object.\n",
    "    - Print the object.\n",
    "    - Print the object's y-value.\n",
    "    - Move the rocket up, and print its y-value again.\n",
    "    - Create a fleet of rockets, and prove that they are indeed separate Rocket objects."
   ]
  },
  {
   "cell_type": "code",
   "execution_count": 2,
   "metadata": {
    "slideshow": {
     "slide_type": "skip"
    }
   },
   "outputs": [],
   "source": [
    "# Ex 9.1 : Your Own Rocket\n",
    "\n",
    "# put your code here"
   ]
  },
  {
   "cell_type": "markdown",
   "metadata": {
    "slideshow": {
     "slide_type": "slide"
    }
   },
   "source": [
    "<a name='refining_rocket'></a>Refining the Rocket class\n",
    "===\n",
    "The Rocket class so far is very simple. It can be made a little more interesting with some refinements to the \\_\\_init\\_\\_() method, and by the addition of some methods."
   ]
  },
  {
   "cell_type": "markdown",
   "metadata": {
    "slideshow": {
     "slide_type": "subslide"
    }
   },
   "source": [
    "<a name='init_parameters'></a>Accepting parameters for the \\_\\_init\\_\\_() method\n",
    "---\n",
    "The \\_\\_init\\_\\_() method is run automatically one time when you create a new object from a class. The \\_\\_init\\_\\_() method for the Rocket class so far is pretty simple:"
   ]
  },
  {
   "cell_type": "code",
   "execution_count": null,
   "metadata": {
    "slideshow": {
     "slide_type": "fragment"
    }
   },
   "outputs": [],
   "source": [
    "class Rocket():\n",
    "    def __init__(self):\n",
    "        self.x = 0\n",
    "        self.y = 0\n",
    "        \n",
    "    def move_up(self):\n",
    "        self.y += 1"
   ]
  },
  {
   "cell_type": "markdown",
   "metadata": {
    "slideshow": {
     "slide_type": "subslide"
    }
   },
   "source": [
    "All the \\_\\_init\\_\\_() method does so far is set the x and y values for the rocket to 0. We can easily add a couple keyword arguments so that new rockets can be initialized at any position:"
   ]
  },
  {
   "cell_type": "code",
   "execution_count": 16,
   "metadata": {
    "slideshow": {
     "slide_type": "fragment"
    }
   },
   "outputs": [
    {
     "name": "stdout",
     "output_type": "stream",
     "text": [
      "0 0\n",
      "2 5\n"
     ]
    }
   ],
   "source": [
    "class Rocket():\n",
    "    def __init__(self, x=0, y=0):\n",
    "        self.x = x\n",
    "        self.y = y\n",
    "        \n",
    "    def move_up(self):\n",
    "        self.y += 1\n",
    "        \n",
    "my_rocket = Rocket()\n",
    "your_rocket = Rocket(2, 5)\n",
    "\n",
    "print(my_rocket.x, my_rocket.y)\n",
    "print(your_rocket.x, your_rocket.y)"
   ]
  },
  {
   "cell_type": "markdown",
   "metadata": {
    "slideshow": {
     "slide_type": "subslide"
    }
   },
   "source": [
    "Now when you create a new Rocket object you have the choice of passing in arbitrary initial values for x and y:"
   ]
  },
  {
   "cell_type": "code",
   "execution_count": 18,
   "metadata": {
    "slideshow": {
     "slide_type": "fragment"
    }
   },
   "outputs": [
    {
     "name": "stdout",
     "output_type": "stream",
     "text": [
      "Rocket 0 is at 0, 0.\n",
      "Rocket 1 is at 0, 10.\n",
      "Rocket 2 is at 100, 0.\n"
     ]
    }
   ],
   "source": [
    "class Rocket():\n",
    "    def __init__(self, x=0, y=0):\n",
    "        self.x = x\n",
    "        self.y = y\n",
    "        \n",
    "    def move_up(self):\n",
    "        self.y += 1\n",
    "        \n",
    "rockets = []\n",
    "rockets.append(Rocket())\n",
    "rockets.append(Rocket(0, 10))\n",
    "rockets.append(Rocket(100, 0))\n",
    "\n",
    "for i,rocket in enumerate(rockets):\n",
    "    print(f\"Rocket {i} is at {rocket.x}, {rocket.y}.\")"
   ]
  },
  {
   "cell_type": "markdown",
   "metadata": {
    "slideshow": {
     "slide_type": "subslide"
    }
   },
   "source": [
    "<a name='method_parameters'></a>Accepting paremeters in a method\n",
    "---\n",
    "The \\_\\_init\\_\\_ method is just a special method that serves a particular purpose, which is to help create new objects from a class. Any method in a class can accept parameters of any kind. With this in mind, the move_up() method can be made much more flexible. By accepting keyword arguments, the move_up() method can be rewritten as a more general move_rocket() method."
   ]
  },
  {
   "cell_type": "markdown",
   "metadata": {
    "slideshow": {
     "slide_type": "subslide"
    }
   },
   "source": [
    "This new method will allow the rocket to be moved any amount, in any direction:"
   ]
  },
  {
   "cell_type": "code",
   "execution_count": 21,
   "metadata": {
    "slideshow": {
     "slide_type": "fragment"
    }
   },
   "outputs": [
    {
     "name": "stdout",
     "output_type": "stream",
     "text": [
      "0 0\n",
      "10 50\n"
     ]
    }
   ],
   "source": [
    "class Rocket():\n",
    "    def __init__(self, x=0, y=0):\n",
    "        self.x = x\n",
    "        self.y = y\n",
    "        \n",
    "    def move_up(self, x_increment = 0, y_increment = 1):\n",
    "        self.x += x_increment\n",
    "        self.y += y_increment\n",
    "        \n",
    "my_rocket = Rocket()\n",
    "print(my_rocket.x, my_rocket.y)\n",
    "my_rocket.move_up(10, 50)\n",
    "print(my_rocket.x, my_rocket.y)"
   ]
  },
  {
   "cell_type": "markdown",
   "metadata": {
    "slideshow": {
     "slide_type": "subslide"
    }
   },
   "source": [
    "The paremeters for the move() method are named x_increment and y_increment rather than x and y. It's good to emphasize that these are changes in the x and y position, not new values for the actual position of the rocket. By carefully choosing the right default values, we can define a meaningful default behavior. If someone calls the method move_rocket() with no parameters, the rocket will simply move up one unit in the y-direciton. Note that this method can be given negative values to move the rocket left or right:"
   ]
  },
  {
   "cell_type": "code",
   "execution_count": 22,
   "metadata": {
    "slideshow": {
     "slide_type": "fragment"
    }
   },
   "outputs": [
    {
     "name": "stdout",
     "output_type": "stream",
     "text": [
      "Rocket 0 is at 0, 1.\n",
      "Rocket 1 is at 10, 10.\n",
      "Rocket 2 is at 12, 15.\n",
      "Rocket 3 is at 5, 10.\n",
      "Rocket 4 is at 30, 100.\n"
     ]
    }
   ],
   "source": [
    "class Rocket():\n",
    "    def __init__(self, x=0, y=0):\n",
    "        self.x = x\n",
    "        self.y = y\n",
    "        \n",
    "    def move_up(self, x_increment = 0, y_increment = 1):\n",
    "        self.x += x_increment\n",
    "        self.y += y_increment\n",
    "        \n",
    "my_rockets = []\n",
    "for x in range(0, 5):\n",
    "    new_rocket = Rocket()\n",
    "    my_rockets.append(new_rocket)\n",
    "    \n",
    "my_rockets[0].move_up()\n",
    "my_rockets[1].move_up(10, 10)\n",
    "my_rockets[2].move_up(12, 15)\n",
    "my_rockets[3].move_up(5, 10)\n",
    "my_rockets[4].move_up(30, 100)\n",
    "\n",
    "for i,rocket in enumerate(my_rockets):\n",
    "    print(f\"Rocket {i} is at {rocket.x}, {rocket.y}.\")"
   ]
  },
  {
   "cell_type": "markdown",
   "metadata": {
    "slideshow": {
     "slide_type": "subslide"
    }
   },
   "source": [
    "<a name='adding_method'></a>Adding a new method\n",
    "---\n",
    "One of the strengths of object-oriented programming is the ability to closely model real-world phenomena by adding appropriate attributes and behaviors to classes. One of the jobs of a team piloting a rocket is to make sure the rocket does not get too close to any other rockets. Let's add a method that will report the distance from one rocket to any other rocket.\n",
    "\n",
    "If you are not familiar with distance calculations, there is a fairly simple formula to tell the distance between two points if you know the x and y values of each point."
   ]
  },
  {
   "cell_type": "markdown",
   "metadata": {
    "slideshow": {
     "slide_type": "subslide"
    }
   },
   "source": [
    "This new method performs that calculation, and then returns the resulting distance."
   ]
  },
  {
   "cell_type": "code",
   "execution_count": 24,
   "metadata": {
    "slideshow": {
     "slide_type": "fragment"
    }
   },
   "outputs": [
    {
     "name": "stdout",
     "output_type": "stream",
     "text": [
      "The rockets are 11.180339887498949 units aparts.\n"
     ]
    }
   ],
   "source": [
    "from math import sqrt\n",
    "\n",
    "class Rocket():\n",
    "    def __init__(self, x=0, y=0):\n",
    "        self.x = x\n",
    "        self.y = y\n",
    "        \n",
    "    def move_up(self, x_increment = 0, y_increment = 1):\n",
    "        self.x += x_increment\n",
    "        self.y += y_increment\n",
    "        \n",
    "    def get_distance(self, other):\n",
    "        distance = sqrt((self.x-other.x)**2 + (self.y-other.y)**2)\n",
    "        return distance\n",
    "    \n",
    "rocket_1 = Rocket()\n",
    "rocket_2 = Rocket(10, 5)\n",
    "\n",
    "distance = rocket_1.get_distance(rocket_2)\n",
    "print(f\"The rockets are {distance} units aparts.\")"
   ]
  },
  {
   "cell_type": "markdown",
   "metadata": {
    "slideshow": {
     "slide_type": "subslide"
    }
   },
   "source": [
    "Hopefully these short refinements show that you can extend a class' attributes and behavior to model the phenomena you are interested in as closely as you want. The rocket could have a name, a crew capacity, a payload, a certain amount of fuel, and any number of other attributes. You could define any behavior you want for the rocket, including interactions with other rockets and launch facilities, gravitational fields, and whatever you need it to! There are techniques for managing these more complex interactions, but what you have just seen is the core of object-oriented programming.\n",
    "\n",
    "At this point you should try your hand at writing some classes of your own. After trying some exercises, we will look at object inheritance, and then you will be ready to move on for now."
   ]
  },
  {
   "cell_type": "markdown",
   "metadata": {
    "slideshow": {
     "slide_type": "skip"
    }
   },
   "source": [
    "<a name='exercises_refining_rocket'></a>Exercises\n",
    "---\n",
    "#### Your Own Rocket 2\n",
    "- There are enough new concepts here that you might want to try re-creating the [Rocket class](#adding_method) as it has been developed so far, looking at the examples as little as possible. Once you have your own version, regardless of how much you needed to look at the example, you can modify the class and explore the possibilities of what you have already learned.\n",
    "    - Re-create the Rocket class as it has been developed so far:\n",
    "        - Define the Rocket() class.\n",
    "        - Define the \\_\\_init\\_\\_() method. Let your \\_\\_init\\_\\_() method accept x and y values for the initial position of the rocket. Make sure the default behavior is to position the rocket at (0,0).\n",
    "        - Define the move_rocket() method. The method should accept an amount to move left or right, and an amount to move up or down.\n",
    "        - Create a Rocket object. Move the rocket around, printing its position after each move.\n",
    "        - Create a small fleet of rockets. Move several of them around, and print their final positions to prove that each rocket can move independently of the other rockets.\n",
    "        - Define the get_distance() method. The method should accept a Rocket object, and calculate the distance between the current rocket and the rocket that is passed into the method.\n",
    "        - Use the get_distance() method to print the distances between several of the rockets in your fleet.\n",
    "\n",
    "#### Rocket Attributes\n",
    "- Start with a copy of the Rocket class, either one you made from a previous exercise or the latest version from the [last section](#adding_method).\n",
    "- Add several of your own attributes to the \\_\\_init\\_\\_() function. The values of your attributes can be set automatically by the \\_\\_init\\_\\_ function, or they can be set by paremeters passed into \\_\\_init\\_\\_().\n",
    "- Create a rocket and print the values for the attributes you have created, to show they have been set correctly.\n",
    "- Create a small fleet of rockets, and set different values for one of the attributes you have created. Print the values of these attributes for each rocket in your fleet, to show that they have been set properly for each rocket.\n",
    "- If you are not sure what kind of attributes to add, you could consider storing the height of the rocket, the crew size, the name of the rocket, the speed of the rocket, or many other possible characteristics of a rocket.\n",
    "\n",
    "#### Rocket Methods\n",
    "- Start with a copy of the Rocket class, either one you made from a previous exercise or the latest version from the [last section](#adding_method).\n",
    "- Add a new method to the class. This is probably a little more challenging than adding attributes, but give it a try.\n",
    "    - Think of what rockets do, and make a very simple version of that behavior using print statements. For example, rockets lift off when they are launched. You could make a method called *launch()*, and all it would do is print a statement such as \"The rocket has lifted off!\" If your rocket has a name, this sentence could be more descriptive.\n",
    "    - You could make a very simple *land_rocket()* method that simply sets the x and y values of the rocket back to 0. Print the position before and after calling the *land_rocket()* method to make sure your method is doing what it's supposed to.\n",
    "    - If you enjoy working with math, you could implement a *safety_check()* method. This method would take in another rocket object, and call the get_distance() method on that rocket. Then it would check if that rocket is too close, and print a warning message if the rocket is too close. If there is zero distance between the two rockets, your method could print a message such as, \"The rockets have crashed!\" (Be careful; getting a zero distance could mean that you accidentally found the distance between a rocket and itself, rather than a second rocket.)\n",
    "    \n",
    "#### <a name='exercise_person_class'></a>Person Class\n",
    "- Modeling a person is a classic exercise for people who are trying to learn how to write classes. We are all familiar with characteristics and behaviors of people, so it is a good exercise to try.\n",
    "    - Define a Person() class.\n",
    "    - In the \\_\\_init()\\_\\_ function, define several attributes of a person. Good attributes to consider are name, age, place of birth, and anything else you like to know about the people in your life.\n",
    "    - Write one method. This could be as simple as *introduce_yourself()*. This method would print out a statement such as, \"Hello, my name is Eric.\"\n",
    "    - You could also make a method such as *age_person()*. A simple version of this method would just add 1 to the person's age.\n",
    "        - A more complicated version of this method would involve storing the person's birthdate rather than their age, and then calculating the age whenever the age is requested. But dealing with dates and times is not particularly easy if you've never done it in any other programming language before.\n",
    "    - Create a person, set the attribute values appropriately, and print out information about the person.\n",
    "    - Call your method on the person you created. Make sure your method executed properly; if the method does not print anything out directly, print something before and after calling the method to make sure it did what it was supposed to.\n",
    "    \n",
    "#### <a name='exercise_car_class'></a>Car Class\n",
    "- Modeling a car is another classic exercise.\n",
    "    - Define a Car() class.\n",
    "    - In the \\_\\_init\\_\\_() function, define several attributes of a car. Some good attributes to consider are make (Subaru, Audi, Volvo...), model (Outback, allroad, C30), year, num_doors, owner, or any other aspect of a car you care to include in your class.\n",
    "    - Write one method. This could be something such as *describe_car()*. This method could print a series of statements that describe the car, using the information that is stored in the attributes. You could also write a method that adjusts the mileage of the car or tracks its position.\n",
    "    - Create a car object, and use your method.\n",
    "    - Create several car objects with different values for the attributes. Use your method on several of your cars."
   ]
  },
  {
   "cell_type": "code",
   "execution_count": 3,
   "metadata": {
    "slideshow": {
     "slide_type": "skip"
    }
   },
   "outputs": [],
   "source": [
    "# Ex 9.2 : Your Own Rocket 2\n",
    "\n",
    "# put your code here"
   ]
  },
  {
   "cell_type": "code",
   "execution_count": 4,
   "metadata": {
    "slideshow": {
     "slide_type": "skip"
    }
   },
   "outputs": [],
   "source": [
    "# Ex 9.3 : Rocket Attributes\n",
    "\n",
    "# put your code here"
   ]
  },
  {
   "cell_type": "code",
   "execution_count": 5,
   "metadata": {
    "slideshow": {
     "slide_type": "skip"
    }
   },
   "outputs": [],
   "source": [
    "# Ex 9.4 : Rocket Methods\n",
    "\n",
    "# put your code here"
   ]
  },
  {
   "cell_type": "code",
   "execution_count": 6,
   "metadata": {
    "slideshow": {
     "slide_type": "skip"
    }
   },
   "outputs": [],
   "source": [
    "# Ex 9.5 : Person Class\n",
    "\n",
    "# put your code here"
   ]
  },
  {
   "cell_type": "code",
   "execution_count": 7,
   "metadata": {
    "slideshow": {
     "slide_type": "skip"
    }
   },
   "outputs": [],
   "source": [
    "# Ex 9.6 : Car Class\n",
    "\n",
    "# put your code here"
   ]
  },
  {
   "cell_type": "markdown",
   "metadata": {
    "slideshow": {
     "slide_type": "slide"
    }
   },
   "source": [
    "<a name='inheritance'></a>Inheritance\n",
    "==="
   ]
  },
  {
   "cell_type": "markdown",
   "metadata": {
    "slideshow": {
     "slide_type": "fragment"
    }
   },
   "source": [
    "One of the most important goals of the object-oriented approach to programming is the creation of stable, reliable, reusable code. If you had to create a new class for every kind of object you wanted to model, you would hardly have any reusable code. "
   ]
  },
  {
   "cell_type": "markdown",
   "metadata": {
    "slideshow": {
     "slide_type": "fragment"
    }
   },
   "source": [
    "In Python and any other language that supports OOP, one class can **inherit** from another class. This means you can base a new class on an existing class; the new class *inherits* all of the attributes and behavior of the class it is based on. "
   ]
  },
  {
   "cell_type": "markdown",
   "metadata": {
    "slideshow": {
     "slide_type": "fragment"
    }
   },
   "source": [
    "A new class can override any undesirable attributes or behavior of the class it inherits from, and it can add any new attributes or behavior that are appropriate. The original class is called the **parent** class, and the new class is a **child** of the parent class. The parent class is also called a **superclass**, and the child class is also called a **subclass**."
   ]
  },
  {
   "cell_type": "markdown",
   "metadata": {
    "slideshow": {
     "slide_type": "subslide"
    }
   },
   "source": [
    "The child class inherits all attributes and behavior from the parent class, but any attributes that are defined in the child class are not available to the parent class. This may be obvious to many people, but it is worth stating. "
   ]
  },
  {
   "cell_type": "markdown",
   "metadata": {
    "slideshow": {
     "slide_type": "fragment"
    }
   },
   "source": [
    "This also means a child class can override behavior of the parent class. If a child class defines a method that also appears in the parent class, objects of the child class will use the new method rather than the parent class method.\n"
   ]
  },
  {
   "cell_type": "markdown",
   "metadata": {
    "slideshow": {
     "slide_type": "fragment"
    }
   },
   "source": [
    "To better understand inheritance, let's look at an example of a class that can be based on the Rocket class."
   ]
  },
  {
   "cell_type": "markdown",
   "metadata": {
    "slideshow": {
     "slide_type": "subslide"
    }
   },
   "source": [
    "<a name='shuttle'></a>The SpaceShuttle class\n",
    "---\n",
    "If you wanted to model a space shuttle, you could write an entirely new class. But a space shuttle is just a special kind of rocket. Instead of writing an entirely new class, you can inherit all of the attributes and behavior of a Rocket, and then add a few appropriate attributes and behavior for a Shuttle.\n",
    "\n",
    "One of the most significant characteristics of a space shuttle is that it can be reused. So the only difference we will add at this point is to record the number of flights the shutttle has completed. Everything else you need to know about a shuttle has already been coded into the Rocket class."
   ]
  },
  {
   "cell_type": "markdown",
   "metadata": {
    "slideshow": {
     "slide_type": "fragment"
    }
   },
   "source": [
    "Here is what the Shuttle class looks like:"
   ]
  },
  {
   "cell_type": "code",
   "execution_count": 25,
   "metadata": {
    "slideshow": {
     "slide_type": "fragment"
    }
   },
   "outputs": [
    {
     "name": "stdout",
     "output_type": "stream",
     "text": [
      "<__main__.Shuttle object at 0x000002188CEB01C0>\n"
     ]
    }
   ],
   "source": [
    "from math import sqrt\n",
    "\n",
    "class Rocket():\n",
    "    def __init__(self, x=0, y=0):\n",
    "        self.x = x\n",
    "        self.y = y\n",
    "        \n",
    "    def move_up(self, x_increment = 0, y_increment = 1):\n",
    "        self.x += x_increment\n",
    "        self.y += y_increment\n",
    "        \n",
    "    def get_distance(self, other):\n",
    "        distance = sqrt((self.x-other.x)**2 + (self.y-other.y)**2)\n",
    "        return distance\n",
    "    \n",
    "class Shuttle(Rocket):\n",
    "    def __init__(self, x=0, y=0, flights_completed = 0):\n",
    "        super().__init__(x,y)\n",
    "        self.flights_completed = flights_completed\n",
    "        \n",
    "shuttle = Shuttle(10, 0, 3)\n",
    "print(shuttle)\n"
   ]
  },
  {
   "cell_type": "markdown",
   "metadata": {
    "slideshow": {
     "slide_type": "subslide"
    }
   },
   "source": [
    "When a new class is based on an existing class, you write the name of the parent class in parentheses when you define the new class:\n",
    "\n",
    "    "
   ]
  },
  {
   "cell_type": "code",
   "execution_count": null,
   "metadata": {
    "slideshow": {
     "slide_type": "fragment"
    }
   },
   "outputs": [],
   "source": [
    "# class Shuttle(Rocket):"
   ]
  },
  {
   "cell_type": "markdown",
   "metadata": {
    "slideshow": {
     "slide_type": "subslide"
    }
   },
   "source": [
    "The \\_\\_init\\_\\_() function of the new class needs to call the \\_\\_init\\_\\_() function of the parent class. The \\_\\_init\\_\\_() function of the new class needs to accept all of the parameters required to build an object from the parent class, and these parameters need to be passed to the \\_\\_init\\_\\_() function of the parent class. The *super().\\_\\_init\\_\\_()* function takes care of this:"
   ]
  },
  {
   "cell_type": "code",
   "execution_count": 28,
   "metadata": {
    "slideshow": {
     "slide_type": "fragment"
    }
   },
   "outputs": [
    {
     "name": "stdout",
     "output_type": "stream",
     "text": [
      "10 5\n",
      "12 12\n"
     ]
    }
   ],
   "source": [
    "class Shuttle(Rocket):\n",
    "    def __init__(self, x=0, y=0, flights_completed = 0):\n",
    "        super().__init__(x,y)\n",
    "        self.flights_completed = flights_completed\n",
    "        \n",
    "shuttle2 = Shuttle(10, 5, 2)\n",
    "print(shuttle2.x, shuttle2.y)\n",
    "shuttle2.move_up(2, 7)\n",
    "print(shuttle2.x, shuttle2.y)"
   ]
  },
  {
   "cell_type": "markdown",
   "metadata": {
    "slideshow": {
     "slide_type": "subslide"
    }
   },
   "source": [
    "The *super()* function passes the *self* argument to the parent class automatically. You could also do this by explicitly naming the parent class when you call the \\_\\_init\\_\\_() function, but you then have to include the *self* argument manually:"
   ]
  },
  {
   "cell_type": "code",
   "execution_count": 30,
   "metadata": {
    "slideshow": {
     "slide_type": "fragment"
    }
   },
   "outputs": [
    {
     "name": "stdout",
     "output_type": "stream",
     "text": [
      "1 12\n",
      "22 12\n"
     ]
    }
   ],
   "source": [
    "class Shuttle(Rocket):\n",
    "    def __init__(self, x=0, y=0, flights_completed = 0):\n",
    "        Rocket.__init__(self,x,y)\n",
    "        self.flights_completed = flights_completed\n",
    "shuttle3 = Shuttle(1, 50, 20)\n",
    "print(shuttle3.x, shuttle2.y)\n",
    "shuttle3.move_up(21, 17)\n",
    "print(shuttle3.x, shuttle2.y)"
   ]
  },
  {
   "cell_type": "markdown",
   "metadata": {
    "slideshow": {
     "slide_type": "subslide"
    }
   },
   "source": [
    "This might seem a little easier to read, but it is preferable to use the *super()* syntax. When you use *super()*, you don't need to explicitly name the parent class, so your code is more resilient to later changes. As you learn more about classes, you will be able to write child classes that inherit from multiple parent classes, and the *super()* function will call the parent classes' \\_\\_init\\_\\_() functions for you, in one line. This explicit approach to calling the parent class' \\_\\_init\\_\\_() function is included so that you will be less confused if you see it in someone else's code."
   ]
  },
  {
   "cell_type": "markdown",
   "metadata": {
    "slideshow": {
     "slide_type": "subslide"
    }
   },
   "source": [
    "The output above shows that a new Shuttle object was created. This new Shuttle object can store the number of flights completed, but it also has all of the functionality of the Rocket class: it has a position that can be changed, and it can calculate the distance between itself and other rockets or shuttles. This can be demonstrated by creating several rockets and shuttles, and then finding the distance between one shuttle and all the other shuttles and rockets."
   ]
  },
  {
   "cell_type": "markdown",
   "metadata": {
    "slideshow": {
     "slide_type": "subslide"
    }
   },
   "source": [
    "This example uses a simple function called [randint](https://docs.python.org/3/library/random.html#random.randint), which generates a random integer between a lower and upper bound, to determine the position of each rocket and shuttle:"
   ]
  },
  {
   "cell_type": "code",
   "execution_count": 31,
   "metadata": {
    "slideshow": {
     "slide_type": "fragment"
    }
   },
   "outputs": [],
   "source": [
    "from math import sqrt\n",
    "from random import randint\n",
    "\n",
    "class Rocket():\n",
    "    def __init__(self, x=0, y=0):\n",
    "        self.x = x\n",
    "        self.y = y\n",
    "        \n",
    "    def move_up(self, x_increment = 0, y_increment = 1):\n",
    "        self.x += x_increment\n",
    "        self.y += y_increment\n",
    "        \n",
    "    def get_distance(self, other):\n",
    "        distance = sqrt((self.x-other.x)**2 + (self.y-other.y)**2)\n",
    "        return distance"
   ]
  },
  {
   "cell_type": "code",
   "execution_count": 32,
   "metadata": {
    "slideshow": {
     "slide_type": "subslide"
    }
   },
   "outputs": [],
   "source": [
    "class Shuttle(Rocket):\n",
    "    def __init__(self, x=0, y=0, flights_completed = 0):\n",
    "        super().__init__(x,y)\n",
    "        self.flights_completed = flights_completed"
   ]
  },
  {
   "cell_type": "code",
   "execution_count": 33,
   "metadata": {
    "slideshow": {
     "slide_type": "fragment"
    }
   },
   "outputs": [],
   "source": [
    "shuttles = []\n",
    "for x in range(0,3):\n",
    "    x = randint(0,100)\n",
    "    y = randint(1, 100)\n",
    "    flights_completed = randint(0, 10)\n",
    "    shuttles.append(Shuttle(x,y,flights_completed))\n",
    "    \n",
    "rockets = []\n",
    "for x in range(0,3):\n",
    "    x = randint(0,100)\n",
    "    y = randint(1, 100)\n",
    "    rockets.append(Rocket(x,y))"
   ]
  },
  {
   "cell_type": "code",
   "execution_count": 34,
   "metadata": {
    "slideshow": {
     "slide_type": "subslide"
    }
   },
   "outputs": [
    {
     "name": "stdout",
     "output_type": "stream",
     "text": [
      "Shuttle 0 has completed 10 flights.\n",
      "Shuttle 1 has completed 7 flights.\n",
      "Shuttle 2 has completed 3 flights.\n",
      "The first shuttle is 0.0 units away from shuttle 0\n",
      "The first shuttle is 36.89173349139343 units away from shuttle 1\n",
      "The first shuttle is 68.00735254367721 units away from shuttle 2\n"
     ]
    }
   ],
   "source": [
    "for i, shuttle in enumerate(shuttles):\n",
    "    print(f\"Shuttle {i} has completed {shuttle.flights_completed} flights.\")\n",
    "    \n",
    "first_shuttle = shuttles[0]\n",
    "for i, shuttle in enumerate(shuttles):\n",
    "    distance = first_shuttle.get_distance(shuttle)\n",
    "    print(f\"The first shuttle is {distance} units away from shuttle {i}\")\n"
   ]
  },
  {
   "cell_type": "code",
   "execution_count": 35,
   "metadata": {
    "slideshow": {
     "slide_type": "fragment"
    }
   },
   "outputs": [
    {
     "name": "stdout",
     "output_type": "stream",
     "text": [
      "The first shuttle is 43.139309220245984 units away from rocket 0\n",
      "The first shuttle is 98.71676655968832 units away from rocket 1\n",
      "The first shuttle is 81.39410298049853 units away from rocket 2\n"
     ]
    }
   ],
   "source": [
    "for i, rocket in enumerate(rockets):\n",
    "    distance = first_shuttle.get_distance(rocket)\n",
    "    print(f\"The first shuttle is {distance} units away from rocket {i}\")"
   ]
  },
  {
   "cell_type": "markdown",
   "metadata": {
    "slideshow": {
     "slide_type": "subslide"
    }
   },
   "source": [
    "Inheritance is a powerful feature of object-oriented programming. Using just what you have seen so far about classes, you can model an incredible variety of real-world and virtual phenomena with a high degree of accuracy. The code you write has the potential to be stable and reusable in a variety of applications."
   ]
  },
  {
   "cell_type": "markdown",
   "metadata": {
    "slideshow": {
     "slide_type": "skip"
    }
   },
   "source": [
    "<a name='exercises_inheritance'></a>Exercises\n",
    "---\n",
    "#### <a name='exercise_student_class'></a>Student Class\n",
    "- Start with your program from [Person Class](#exercise_person_class).\n",
    "- Make a new class called Student that inherits from Person.\n",
    "- Define some attributes that a student has, which other people don't have.\n",
    "    - A student has a school they are associated with, a graduation year, a gpa, and other particular attributes.\n",
    "- Create a Student object, and prove that you have used inheritance correctly.\n",
    "    - Set some attribute values for the student, that are only coded in the Person class.\n",
    "    - Set some attribute values for the student, that are only coded in the Student class.\n",
    "    - Print the values for all of these attributes.\n",
    "\n",
    "#### Refining Shuttle\n",
    "- Take the latest version of the [Shuttle class](#shuttle). Extend it.\n",
    "    - Add more attributes that are particular to shuttles such as maximum number of flights, capability of supporting spacewalks, and capability of docking with the ISS.\n",
    "    - Add one more method to the class, that relates to shuttle behavior. This method could simply print a statement, such as \"Docking with the ISS,\" for a dock_ISS() method.\n",
    "    - Prove that your refinements work by creating a Shuttle object with these attributes, and then call your new method."
   ]
  },
  {
   "cell_type": "code",
   "execution_count": 8,
   "metadata": {
    "slideshow": {
     "slide_type": "skip"
    }
   },
   "outputs": [],
   "source": [
    "# Ex 9.7 : Student Class\n",
    "\n",
    "# put your code here"
   ]
  },
  {
   "cell_type": "code",
   "execution_count": 9,
   "metadata": {
    "slideshow": {
     "slide_type": "skip"
    }
   },
   "outputs": [],
   "source": [
    "# Ex 9.8 : Refining Shuttle\n",
    "\n",
    "# put your code here"
   ]
  },
  {
   "cell_type": "markdown",
   "metadata": {},
   "source": [
    "# Extra"
   ]
  },
  {
   "cell_type": "code",
   "execution_count": 36,
   "metadata": {},
   "outputs": [
    {
     "name": "stdout",
     "output_type": "stream",
     "text": [
      "<class 'list'>\n"
     ]
    }
   ],
   "source": [
    "list1 = [12,35,45,74,7]\n",
    "print(type(list1))"
   ]
  },
  {
   "cell_type": "code",
   "execution_count": 37,
   "metadata": {},
   "outputs": [
    {
     "name": "stdout",
     "output_type": "stream",
     "text": [
      "<class 'list'>\n"
     ]
    }
   ],
   "source": [
    "lst2 = list((12,35,965,45,8))\n",
    "print(type(lst2))"
   ]
  },
  {
   "cell_type": "code",
   "execution_count": 38,
   "metadata": {},
   "outputs": [
    {
     "name": "stdout",
     "output_type": "stream",
     "text": [
      "[12, 35, 965, 45, 8, 15]\n"
     ]
    }
   ],
   "source": [
    "lst2.append(15)\n",
    "print(lst2)"
   ]
  },
  {
   "cell_type": "code",
   "execution_count": null,
   "metadata": {},
   "outputs": [],
   "source": []
  }
 ],
 "metadata": {
  "kernelspec": {
   "display_name": "Python 3 (ipykernel)",
   "language": "python",
   "name": "python3"
  },
  "language_info": {
   "codemirror_mode": {
    "name": "ipython",
    "version": 3
   },
   "file_extension": ".py",
   "mimetype": "text/x-python",
   "name": "python",
   "nbconvert_exporter": "python",
   "pygments_lexer": "ipython3",
   "version": "3.10.8"
  }
 },
 "nbformat": 4,
 "nbformat_minor": 1
}
