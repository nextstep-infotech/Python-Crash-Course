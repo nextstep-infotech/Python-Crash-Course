{
 "cells": [
  {
   "cell_type": "markdown",
   "id": "9a40da8b",
   "metadata": {},
   "source": [
    "# Magic or Dunder Methods"
   ]
  },
  {
   "cell_type": "markdown",
   "id": "9f46090c",
   "metadata": {},
   "source": [
    "Magic methods in Python are the special methods that start and end with the double underscores. \n",
    "\n",
    "They are also called dunder methods. \n",
    "\n",
    "Magic methods are not meant to be invoked directly by you, but the invocation happens internally from the class on a certain action. \n",
    "\n",
    "For example, when you add two numbers using the + operator, internally, the _ _ _add_ _ _() method will be called."
   ]
  },
  {
   "cell_type": "code",
   "execution_count": 2,
   "id": "656771cf",
   "metadata": {},
   "outputs": [
    {
     "name": "stdout",
     "output_type": "stream",
     "text": [
      "15\n"
     ]
    }
   ],
   "source": [
    "num = 10\n",
    "print(num + 5)"
   ]
  },
  {
   "cell_type": "code",
   "execution_count": 3,
   "id": "5f41f4d3",
   "metadata": {},
   "outputs": [
    {
     "name": "stdout",
     "output_type": "stream",
     "text": [
      "15\n"
     ]
    }
   ],
   "source": [
    "print(num.__add__(5))"
   ]
  },
  {
   "cell_type": "markdown",
   "id": "85979716",
   "metadata": {},
   "source": [
    "Built-in classes in Python define many magic methods. \n",
    "\n",
    "Use the dir() function to see the number of magic methods inherited by a class. \n",
    "\n",
    "For example, the following lists all the attributes and methods defined in the int class."
   ]
  },
  {
   "cell_type": "code",
   "execution_count": 4,
   "id": "8d409e3a",
   "metadata": {},
   "outputs": [
    {
     "data": {
      "text/plain": [
       "['__abs__',\n",
       " '__add__',\n",
       " '__and__',\n",
       " '__bool__',\n",
       " '__ceil__',\n",
       " '__class__',\n",
       " '__delattr__',\n",
       " '__dir__',\n",
       " '__divmod__',\n",
       " '__doc__',\n",
       " '__eq__',\n",
       " '__float__',\n",
       " '__floor__',\n",
       " '__floordiv__',\n",
       " '__format__',\n",
       " '__ge__',\n",
       " '__getattribute__',\n",
       " '__getnewargs__',\n",
       " '__gt__',\n",
       " '__hash__',\n",
       " '__index__',\n",
       " '__init__',\n",
       " '__init_subclass__',\n",
       " '__int__',\n",
       " '__invert__',\n",
       " '__le__',\n",
       " '__lshift__',\n",
       " '__lt__',\n",
       " '__mod__',\n",
       " '__mul__',\n",
       " '__ne__',\n",
       " '__neg__',\n",
       " '__new__',\n",
       " '__or__',\n",
       " '__pos__',\n",
       " '__pow__',\n",
       " '__radd__',\n",
       " '__rand__',\n",
       " '__rdivmod__',\n",
       " '__reduce__',\n",
       " '__reduce_ex__',\n",
       " '__repr__',\n",
       " '__rfloordiv__',\n",
       " '__rlshift__',\n",
       " '__rmod__',\n",
       " '__rmul__',\n",
       " '__ror__',\n",
       " '__round__',\n",
       " '__rpow__',\n",
       " '__rrshift__',\n",
       " '__rshift__',\n",
       " '__rsub__',\n",
       " '__rtruediv__',\n",
       " '__rxor__',\n",
       " '__setattr__',\n",
       " '__sizeof__',\n",
       " '__str__',\n",
       " '__sub__',\n",
       " '__subclasshook__',\n",
       " '__truediv__',\n",
       " '__trunc__',\n",
       " '__xor__',\n",
       " 'as_integer_ratio',\n",
       " 'bit_count',\n",
       " 'bit_length',\n",
       " 'conjugate',\n",
       " 'denominator',\n",
       " 'from_bytes',\n",
       " 'imag',\n",
       " 'numerator',\n",
       " 'real',\n",
       " 'to_bytes']"
      ]
     },
     "execution_count": 4,
     "metadata": {},
     "output_type": "execute_result"
    }
   ],
   "source": [
    "dir(int)"
   ]
  },
  {
   "cell_type": "markdown",
   "id": "3d7baf59",
   "metadata": {},
   "source": [
    "_ _ _add_ _ _() performs concatenation in string, list and  tuple classes."
   ]
  },
  {
   "cell_type": "code",
   "execution_count": 5,
   "id": "75b377c9",
   "metadata": {},
   "outputs": [
    {
     "name": "stdout",
     "output_type": "stream",
     "text": [
      "NextStep InfoTech\n"
     ]
    }
   ],
   "source": [
    "#For example:\n",
    "a = \"NextStep \"\n",
    "b = \"InfoTech\"\n",
    "print(a + b)"
   ]
  },
  {
   "cell_type": "markdown",
   "id": "78a102c8",
   "metadata": {},
   "source": [
    "Magic methods are not meant to be called directly, but internally, through some other methods or actions."
   ]
  },
  {
   "cell_type": "markdown",
   "id": "031b401d",
   "metadata": {},
   "source": [
    "Magic methods are most frequently used to define overloaded behaviours of predefined operators in Python. \n",
    "\n",
    "For instance, arithmetic operators by default operate upon numeric operands. \n",
    "\n",
    "This means that numeric objects must be used along with operators like +, -, *, /, etc. \n",
    "\n",
    "The + operator is also defined as a concatenation operator in string, list and tuple classes. \n",
    "\n",
    "We can say that the + operator is overloaded."
   ]
  },
  {
   "cell_type": "markdown",
   "id": "c831f199",
   "metadata": {},
   "source": [
    "In order to make the overloaded behaviour available in your own custom class, the corresponding magic method should be overridden. \n",
    "\n",
    "For example, in order to use the + operator with objects of a user-defined class, it should include the _ _ _add_ _ _() method."
   ]
  },
  {
   "cell_type": "code",
   "execution_count": 6,
   "id": "e00e1363",
   "metadata": {},
   "outputs": [],
   "source": [
    "class Employee():\n",
    "    raise_amt = 1.04\n",
    "    def __init__(self, first, last, salary):\n",
    "        self.firstname = first\n",
    "        self.lastname = last\n",
    "        self.email = first + \".\" + last + \"@email.com\"\n",
    "        self.salary = salary\n",
    "        \n",
    "    def fullname(self):\n",
    "        return f\"{self.firstname} {self.lastname}\"\n",
    "    \n",
    "    def apply_raise(self):\n",
    "        self.salary = int(self.salary*self.raise_amt)\n",
    "        "
   ]
  },
  {
   "cell_type": "code",
   "execution_count": 7,
   "id": "574c6a76",
   "metadata": {},
   "outputs": [],
   "source": [
    "emp1 = Employee('Gopal', 'Kisi', 50000)\n",
    "emp2 = Employee('Rinu', 'Shrestha', 60000)"
   ]
  },
  {
   "cell_type": "code",
   "execution_count": 8,
   "id": "dd79347a",
   "metadata": {},
   "outputs": [
    {
     "ename": "TypeError",
     "evalue": "unsupported operand type(s) for +: 'Employee' and 'Employee'",
     "output_type": "error",
     "traceback": [
      "\u001b[1;31m---------------------------------------------------------------------------\u001b[0m",
      "\u001b[1;31mTypeError\u001b[0m                                 Traceback (most recent call last)",
      "Input \u001b[1;32mIn [8]\u001b[0m, in \u001b[0;36m<cell line: 1>\u001b[1;34m()\u001b[0m\n\u001b[1;32m----> 1\u001b[0m \u001b[43memp1\u001b[49m\u001b[38;5;241;43m+\u001b[39;49m\u001b[43memp2\u001b[49m\n",
      "\u001b[1;31mTypeError\u001b[0m: unsupported operand type(s) for +: 'Employee' and 'Employee'"
     ]
    }
   ],
   "source": [
    "emp1 + emp2"
   ]
  },
  {
   "cell_type": "code",
   "execution_count": 9,
   "id": "79b13a61",
   "metadata": {},
   "outputs": [],
   "source": [
    "class Employee():\n",
    "    raise_amt = 1.04\n",
    "    def __init__(self, first, last, salary):\n",
    "        self.firstname = first\n",
    "        self.lastname = last\n",
    "        self.email = first + \".\" + last + \"@email.com\"\n",
    "        self.salary = salary\n",
    "        \n",
    "    def fullname(self):\n",
    "        return f\"{self.firstname} {self.lastname}\"\n",
    "    \n",
    "    def apply_raise(self):\n",
    "        self.salary = int(self.salary*self.raise_amt)\n",
    "        \n",
    "    def __add__(self, other):\n",
    "        return self.salary + other.salary\n",
    "    \n",
    "emp1 = Employee('Gopal', 'Kisi', 50000)\n",
    "emp2 = Employee('Rinu', 'Shrestha', 60000)"
   ]
  },
  {
   "cell_type": "code",
   "execution_count": 10,
   "id": "b1532bcf",
   "metadata": {},
   "outputs": [
    {
     "data": {
      "text/plain": [
       "110000"
      ]
     },
     "execution_count": 10,
     "metadata": {},
     "output_type": "execute_result"
    }
   ],
   "source": [
    "emp1 + emp2"
   ]
  },
  {
   "cell_type": "markdown",
   "id": "5212f589",
   "metadata": {},
   "source": [
    "## Other important dunder methods"
   ]
  },
  {
   "cell_type": "markdown",
   "id": "235d8ff9",
   "metadata": {},
   "source": [
    "When we print employee object, it will print out like this:"
   ]
  },
  {
   "cell_type": "code",
   "execution_count": 11,
   "id": "59d219e3",
   "metadata": {},
   "outputs": [
    {
     "name": "stdout",
     "output_type": "stream",
     "text": [
      "<__main__.Employee object at 0x0000017304F9E080>\n"
     ]
    }
   ],
   "source": [
    "print(emp1)"
   ]
  },
  {
   "cell_type": "code",
   "execution_count": 12,
   "id": "e9610324",
   "metadata": {},
   "outputs": [],
   "source": [
    "class Employee():\n",
    "    raise_amt = 1.04\n",
    "    def __init__(self, first, last, salary):\n",
    "        self.firstname = first\n",
    "        self.lastname = last\n",
    "        self.email = first + \".\" + last + \"@email.com\"\n",
    "        self.salary = salary\n",
    "        \n",
    "    def fullname(self):\n",
    "        return f\"{self.firstname} {self.lastname}\"\n",
    "    \n",
    "    def apply_raise(self):\n",
    "        self.salary = int(self.salary*self.raise_amt)\n",
    "        \n",
    "    def __add__(self, other):\n",
    "        return self.salary + other.salary\n",
    "    \n",
    "    def __repr__(self):\n",
    "        return f\"Employee: {self.firstname} {self.lastname} {self.salary}\""
   ]
  },
  {
   "cell_type": "code",
   "execution_count": 13,
   "id": "65ba5379",
   "metadata": {},
   "outputs": [
    {
     "name": "stdout",
     "output_type": "stream",
     "text": [
      "Employee: Gautam Bhandari 55000\n"
     ]
    }
   ],
   "source": [
    "emp3 = Employee(\"Gautam\", \"Bhandari\", 55000)\n",
    "print(emp3)"
   ]
  },
  {
   "cell_type": "markdown",
   "id": "a3d54113",
   "metadata": {},
   "source": [
    "Same thing cab be achieved by using _ _ _str_ _ _() method."
   ]
  },
  {
   "cell_type": "code",
   "execution_count": 15,
   "id": "ad8e945b",
   "metadata": {},
   "outputs": [],
   "source": [
    "class Employee():\n",
    "    raise_amt = 1.04\n",
    "    def __init__(self, first, last, salary):\n",
    "        self.firstname = first\n",
    "        self.lastname = last\n",
    "        self.email = first + \".\" + last + \"@email.com\"\n",
    "        self.salary = salary\n",
    "        \n",
    "    def fullname(self):\n",
    "        return f\"{self.firstname} {self.lastname}\"\n",
    "    \n",
    "    def apply_raise(self):\n",
    "        self.salary = int(self.salary*self.raise_amt)\n",
    "        \n",
    "    def __add__(self, other):\n",
    "        return self.salary + other.salary\n",
    "    \n",
    "    def __str__(self):\n",
    "        return f\"Employee: {self.fullname()} Email: {self.email}\""
   ]
  },
  {
   "cell_type": "code",
   "execution_count": 16,
   "id": "42e5695e",
   "metadata": {},
   "outputs": [
    {
     "name": "stdout",
     "output_type": "stream",
     "text": [
      "Employee: Om Prakash Email: Om.Prakash@email.com\n"
     ]
    }
   ],
   "source": [
    "emp4 =  Employee(\"Om\", \"Prakash\", 80000)\n",
    "print(emp4)"
   ]
  },
  {
   "cell_type": "markdown",
   "id": "3ed562da",
   "metadata": {},
   "source": [
    "## str() vs repr() in python"
   ]
  },
  {
   "cell_type": "markdown",
   "id": "dd53306a",
   "metadata": {},
   "source": [
    "str() is used for creating output for end user while repr() is mainly used for debugging and development. \n",
    "\n",
    "repr’s goal is to be unambiguous and str’s is to be readable. "
   ]
  },
  {
   "cell_type": "markdown",
   "id": "b09e842a",
   "metadata": {},
   "source": [
    "repr() compute the “official” string representation of an object (a representation that has all information about the object) \n",
    "\n",
    "\n",
    "and\n",
    "\n",
    "str() is used to compute the “informal” string representation of an object (a representation that is useful for printing the object)."
   ]
  },
  {
   "cell_type": "code",
   "execution_count": 17,
   "id": "cd7469fa",
   "metadata": {},
   "outputs": [
    {
     "name": "stdout",
     "output_type": "stream",
     "text": [
      "Hello Pythonist\n"
     ]
    }
   ],
   "source": [
    "s1 = 'Hello Pythonist'\n",
    "print(str(s1))"
   ]
  },
  {
   "cell_type": "code",
   "execution_count": 18,
   "id": "5fd7abbf",
   "metadata": {},
   "outputs": [
    {
     "name": "stdout",
     "output_type": "stream",
     "text": [
      "'Hello Pythonist'\n"
     ]
    }
   ],
   "source": [
    "s1 = 'Hello Pythonist'\n",
    "print(repr(s1))"
   ]
  },
  {
   "cell_type": "markdown",
   "id": "27ecc885",
   "metadata": {},
   "source": [
    "The print statement and str() built-in function uses _ _ _str_ _ _ to display the string representation of the object while the repr() built-in function uses _ _ _repr_ _ _ to display the object."
   ]
  },
  {
   "cell_type": "code",
   "execution_count": 19,
   "id": "0ef8df88",
   "metadata": {},
   "outputs": [
    {
     "name": "stdout",
     "output_type": "stream",
     "text": [
      "2022-10-31 15:23:26.037035\n",
      "datetime.datetime(2022, 10, 31, 15, 23, 26, 37035)\n"
     ]
    }
   ],
   "source": [
    "import datetime\n",
    "today = datetime.datetime.now()\n",
    "\n",
    "print(str(today))\n",
    "\n",
    "print(repr(today))"
   ]
  },
  {
   "cell_type": "markdown",
   "id": "5d5bd145",
   "metadata": {},
   "source": [
    "str() displays today’s date in a way that the user can understand the date and time.\n",
    "\n",
    "\n",
    "repr() prints “official” representation of a date-time object (means using the “official” string representation we can reconstruct the object)."
   ]
  }
 ],
 "metadata": {
  "kernelspec": {
   "display_name": "Python 3 (ipykernel)",
   "language": "python",
   "name": "python3"
  },
  "language_info": {
   "codemirror_mode": {
    "name": "ipython",
    "version": 3
   },
   "file_extension": ".py",
   "mimetype": "text/x-python",
   "name": "python",
   "nbconvert_exporter": "python",
   "pygments_lexer": "ipython3",
   "version": "3.10.8"
  }
 },
 "nbformat": 4,
 "nbformat_minor": 5
}
