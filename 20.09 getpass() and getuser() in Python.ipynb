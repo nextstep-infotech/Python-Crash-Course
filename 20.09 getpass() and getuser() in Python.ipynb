{
 "cells": [
  {
   "cell_type": "markdown",
   "id": "07cbd8b1",
   "metadata": {},
   "source": [
    "# getpass() and getuser() in Python"
   ]
  },
  {
   "cell_type": "markdown",
   "id": "3e0a5e69",
   "metadata": {},
   "source": [
    "getpass() prompts the user for a password without echoing. \n",
    "\n",
    "The getpass module provides a secure way to handle the password prompts where programs interact with the users via the terminal.\n",
    "\n",
    "This module provides two functions :\n",
    "\n",
    "+ getpass()\n",
    "+ getuser()"
   ]
  },
  {
   "cell_type": "markdown",
   "id": "4029bc6a",
   "metadata": {},
   "source": [
    "## getpass()"
   ]
  },
  {
   "cell_type": "markdown",
   "id": "0a234d0f",
   "metadata": {},
   "source": [
    "getpass.getpass(prompt='Password: ', stream=None)"
   ]
  },
  {
   "cell_type": "markdown",
   "id": "a29def07",
   "metadata": {},
   "source": [
    "The getpass() function is used to prompt to users using the string prompt and reads the input from the user as Password. \n",
    "\n",
    "The input read defaults to “Password: ” is returned to the caller as a string."
   ]
  },
  {
   "cell_type": "markdown",
   "id": "ad74d82a",
   "metadata": {},
   "source": [
    "### Example: Hidden Password"
   ]
  },
  {
   "cell_type": "code",
   "execution_count": 3,
   "id": "565ce50b",
   "metadata": {},
   "outputs": [
    {
     "name": "stdout",
     "output_type": "stream",
     "text": [
      "Enter your password: ········\n",
      "Successful Login\n"
     ]
    }
   ],
   "source": [
    "import getpass\n",
    "\n",
    "password = getpass.getpass(\"Enter your password: \")\n",
    "if password == \"password\":\n",
    "    print(\"Successful Login\")\n",
    "else:\n",
    "    print(\"Wrong Password. Try again.\")"
   ]
  },
  {
   "cell_type": "markdown",
   "id": "7e3f5bc3",
   "metadata": {},
   "source": [
    "## getuser()"
   ]
  },
  {
   "cell_type": "markdown",
   "id": "a5163f95",
   "metadata": {},
   "source": [
    "The getuser() function displays the login name of the user. \n",
    "\n",
    "This function checks the environment variables LOGNAME, USER, LNAME and USERNAME, in order, and returns the value of the first non-empty string. "
   ]
  },
  {
   "cell_type": "code",
   "execution_count": 4,
   "id": "f82faa79",
   "metadata": {},
   "outputs": [
    {
     "name": "stdout",
     "output_type": "stream",
     "text": [
      "HP\n"
     ]
    }
   ],
   "source": [
    "user = getpass.getuser()\n",
    "print(user)"
   ]
  },
  {
   "cell_type": "code",
   "execution_count": 8,
   "id": "67f84390",
   "metadata": {},
   "outputs": [
    {
     "name": "stdout",
     "output_type": "stream",
     "text": [
      "UserName: HP\n",
      "Password: ········\n",
      "Wrong Password. Try again.\n",
      "UserName: HP\n",
      "Password: ········\n",
      "Wrong Password. Try again.\n",
      "UserName: HP\n",
      "Password: ········\n",
      "Wrong Password. Try again.\n",
      "UserName: HP\n",
      "Password: ········\n",
      "Successful Login\n"
     ]
    }
   ],
   "source": [
    "while True:\n",
    "    pwd = getpass.getpass(f\"UserName: {user}\\nPassword: \")\n",
    "    if pwd == \"abcd1234\":\n",
    "        print(\"Successful Login\")\n",
    "        break\n",
    "    else:\n",
    "        print(\"Wrong Password. Try again.\")"
   ]
  },
  {
   "cell_type": "code",
   "execution_count": null,
   "id": "04507a14",
   "metadata": {},
   "outputs": [],
   "source": []
  }
 ],
 "metadata": {
  "kernelspec": {
   "display_name": "Python 3 (ipykernel)",
   "language": "python",
   "name": "python3"
  },
  "language_info": {
   "codemirror_mode": {
    "name": "ipython",
    "version": 3
   },
   "file_extension": ".py",
   "mimetype": "text/x-python",
   "name": "python",
   "nbconvert_exporter": "python",
   "pygments_lexer": "ipython3",
   "version": "3.10.8"
  }
 },
 "nbformat": 4,
 "nbformat_minor": 5
}
