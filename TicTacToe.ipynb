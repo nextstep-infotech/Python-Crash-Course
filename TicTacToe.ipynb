{
 "cells": [
  {
   "cell_type": "code",
   "execution_count": 1,
   "id": "dba5e4bd",
   "metadata": {},
   "outputs": [],
   "source": [
    "# board\n",
    "# display board\n",
    "# handle and flip player\n",
    "# check win \n",
    "    # check row\n",
    "    # check column\n",
    "    # check diagonal\n",
    "# check tie/draw"
   ]
  },
  {
   "cell_type": "code",
   "execution_count": 2,
   "id": "5126dc64",
   "metadata": {},
   "outputs": [],
   "source": [
    "board = [\"-\", \"-\",\"-\",\"-\",\"-\",\"-\",\"-\",\"-\",\"-\",]"
   ]
  },
  {
   "cell_type": "code",
   "execution_count": 3,
   "id": "24c0acb0",
   "metadata": {},
   "outputs": [],
   "source": [
    "def display_board():\n",
    "    print(board[0] + \"|\" + board[1] + \"|\" + board[2])\n",
    "    print(board[3] + \"|\" + board[4] + \"|\" + board[5])\n",
    "    print(board[6] + \"|\" + board[7] + \"|\" + board[8])"
   ]
  },
  {
   "cell_type": "code",
   "execution_count": 4,
   "id": "9f862c3c",
   "metadata": {},
   "outputs": [],
   "source": [
    "winner = None\n",
    "import random\n",
    "current_player = random.choice([\"X\", \"O\"])"
   ]
  },
  {
   "cell_type": "code",
   "execution_count": 5,
   "id": "e724a0c7",
   "metadata": {},
   "outputs": [
    {
     "name": "stdout",
     "output_type": "stream",
     "text": [
      "-|-|-\n",
      "-|-|-\n",
      "-|-|-\n"
     ]
    }
   ],
   "source": [
    "display_board()"
   ]
  },
  {
   "cell_type": "code",
   "execution_count": 6,
   "id": "b1eef099",
   "metadata": {},
   "outputs": [],
   "source": [
    "def check_for_rows():\n",
    "    global winner\n",
    "    row1 = board[0] == board[1] == board[2] != \"-\"\n",
    "    row2 = board[3] == board[4] == board[5] != \"-\"\n",
    "    row3 = board[6] == board[7] == board[8] != \"-\"\n",
    "    if row1:\n",
    "        winner = board[0]\n",
    "        return True\n",
    "    if row2:\n",
    "        winner = board[3]\n",
    "        return True\n",
    "    if row3:\n",
    "        winner = board[6]\n",
    "        return True"
   ]
  },
  {
   "cell_type": "code",
   "execution_count": 7,
   "id": "ffa8e165",
   "metadata": {},
   "outputs": [],
   "source": [
    "def check_for_columns():\n",
    "    global winner\n",
    "    column1 = board[0] == board[3] == board[6] != \"-\"\n",
    "    column2 = board[1] == board[4] == board[7] != \"-\"\n",
    "    column3 = board[2] == board[5] == board[8] != \"-\"\n",
    "    if column1:\n",
    "        winner = board[0]\n",
    "        return True\n",
    "    if column2:\n",
    "        winner = board[1]\n",
    "        return True\n",
    "    if column3:\n",
    "        winner = board[2]\n",
    "        return True"
   ]
  },
  {
   "cell_type": "code",
   "execution_count": 8,
   "id": "86669119",
   "metadata": {},
   "outputs": [],
   "source": [
    "def check_for_diagonals():\n",
    "    global winner\n",
    "    diagonal1 = board[0] == board[4] == board[8] != \"-\"\n",
    "    diagonal2 = board[2] == board[4] == board[6] != \"-\"\n",
    "    if diagonal1:\n",
    "        winner = board[0]\n",
    "        return True\n",
    "    if diagonal2:\n",
    "        winner = board[2]\n",
    "        return True"
   ]
  },
  {
   "cell_type": "code",
   "execution_count": 9,
   "id": "f60b7be0",
   "metadata": {},
   "outputs": [],
   "source": [
    "def check_for_win():\n",
    "    row_result = check_for_rows()\n",
    "    column_result = check_for_columns()\n",
    "    diagonal_result = check_for_diagonals()\n",
    "    if row_result:\n",
    "        return True\n",
    "    if column_result:\n",
    "        return True\n",
    "    if diagonal_result:\n",
    "        return True"
   ]
  },
  {
   "cell_type": "code",
   "execution_count": 10,
   "id": "4c1cc8da",
   "metadata": {},
   "outputs": [],
   "source": [
    "def check_for_tie():\n",
    "    if \"-\" not in board:\n",
    "        return True"
   ]
  },
  {
   "cell_type": "code",
   "execution_count": 11,
   "id": "8c0af48d",
   "metadata": {},
   "outputs": [],
   "source": [
    "def play_game():\n",
    "    global current_player\n",
    "    while True:\n",
    "        print(current_player + \"'s Turn\")\n",
    "        while True: \n",
    "            p = input(\"Choose position between 1 and 9: \")\n",
    "            if p.isdigit():\n",
    "                position = int(p)-1\n",
    "                if position<0 or position>8:\n",
    "                    print(\"Only numbers between 1 and 9 is allowed. Please try again.\")\n",
    "                    continue\n",
    "                if board[position] == \"-\":\n",
    "                    break\n",
    "                else:\n",
    "                    print(\"You cannot place in this position. Try again.\")\n",
    "            else:\n",
    "                print(\"Only numbers is allowed. Please try again.\")\n",
    "            \n",
    "                \n",
    "        board[position] = current_player\n",
    "        display_board()\n",
    "        final_result =  check_for_win()\n",
    "        if final_result:\n",
    "            print(winner + \" Won\")\n",
    "            break\n",
    "        tie_result = check_for_tie()\n",
    "        if tie_result:\n",
    "            print(\"It's Tie\")\n",
    "            break\n",
    "        if current_player == \"X\":\n",
    "            current_player = \"O\"\n",
    "        else:\n",
    "            current_player = \"X\"\n",
    "            "
   ]
  },
  {
   "cell_type": "code",
   "execution_count": 12,
   "id": "d5a960f2",
   "metadata": {},
   "outputs": [
    {
     "name": "stdout",
     "output_type": "stream",
     "text": [
      "O's Turn\n",
      "Choose position between 1 and 9: 1\n",
      "O|-|-\n",
      "-|-|-\n",
      "-|-|-\n",
      "X's Turn\n",
      "Choose position between 1 and 9: 9\n",
      "O|-|-\n",
      "-|-|-\n",
      "-|-|X\n",
      "O's Turn\n",
      "Choose position between 1 and 9: 10\n",
      "Only numbers between 1 and 9 is allowed. Please try again.\n",
      "Choose position between 1 and 9: 0\n",
      "Only numbers between 1 and 9 is allowed. Please try again.\n",
      "Choose position between 1 and 9: 5\n",
      "O|-|-\n",
      "-|O|-\n",
      "-|-|X\n",
      "X's Turn\n",
      "Choose position between 1 and 9: 2\n",
      "O|X|-\n",
      "-|O|-\n",
      "-|-|X\n",
      "O's Turn\n",
      "Choose position between 1 and 9: 3\n",
      "O|X|O\n",
      "-|O|-\n",
      "-|-|X\n",
      "X's Turn\n",
      "Choose position between 1 and 9: 8\n",
      "O|X|O\n",
      "-|O|-\n",
      "-|X|X\n",
      "O's Turn\n",
      "Choose position between 1 and 9: 7\n",
      "O|X|O\n",
      "-|O|-\n",
      "O|X|X\n",
      "O Won\n"
     ]
    }
   ],
   "source": [
    "play_game()"
   ]
  },
  {
   "cell_type": "code",
   "execution_count": null,
   "id": "6a2b4182",
   "metadata": {},
   "outputs": [],
   "source": []
  }
 ],
 "metadata": {
  "kernelspec": {
   "display_name": "Python 3 (ipykernel)",
   "language": "python",
   "name": "python3"
  },
  "language_info": {
   "codemirror_mode": {
    "name": "ipython",
    "version": 3
   },
   "file_extension": ".py",
   "mimetype": "text/x-python",
   "name": "python",
   "nbconvert_exporter": "python",
   "pygments_lexer": "ipython3",
   "version": "3.10.8"
  }
 },
 "nbformat": 4,
 "nbformat_minor": 5
}
