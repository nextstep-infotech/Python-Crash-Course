{
 "cells": [
  {
   "cell_type": "markdown",
   "id": "7168bede",
   "metadata": {},
   "source": [
    "# 19.2 File Handling Exercise"
   ]
  },
  {
   "cell_type": "code",
   "execution_count": 1,
   "id": "f5085f99",
   "metadata": {},
   "outputs": [],
   "source": [
    "# Open \"FileHandleExercise.txt\"\n",
    "# Read data from the file up to third paragraph and copy its content in  separate text files.\n",
    "# Convert each paragraph's first line into Uppercase.\n",
    "# Save each text file with filename as of paragraph title."
   ]
  },
  {
   "cell_type": "code",
   "execution_count": 2,
   "id": "f9590a1c",
   "metadata": {},
   "outputs": [
    {
     "name": "stdout",
     "output_type": "stream",
     "text": [
      "['What is Python?\\n', 'Python is a popular programming language. It was created by Guido van Rossum, and released in 1991.It is used for web development (server-side), software development, mathematics, system scripting.\\n', '\\n', 'What can Python do?\\n', 'Python can be used on a server to create web applications.\\n', 'Python can be used alongside software to create workflows.\\n', 'Python can connect to database systems. It can also read and modify files.\\n', 'Python can be used to handle big data and perform complex mathematics.\\n', 'Python can be used for rapid prototyping, or for production-ready software development.\\n', '\\n', 'Why Python?\\n', 'Python works on different platforms (Windows, Mac, Linux, Raspberry Pi, etc).\\n', 'Python has a simple syntax similar to the English language.\\n', 'Python has syntax that allows developers to write programs with fewer lines than some other programming languages.\\n', 'Python runs on an interpreter system, meaning that code can be executed as soon as it is written. This means that prototyping can be very quick.\\n', 'Python can be treated in a procedural way, an object-oriented way or a functional way.\\n', '\\n', 'Good to know\\n', 'The most recent major version of Python is Python 3, which we shall be using in this tutorial. However, Python 2, although not being updated with anything other than security updates, is still quite popular.\\n', 'In this tutorial Python will be written in a text editor. It is possible to write Python in an Integrated Development Environment, such as Thonny, Pycharm, Netbeans or Eclipse which are particularly useful when managing larger collections of Python files.\\n', '\\n', 'Python Syntax compared to other programming languages\\n', 'Python was designed for readability, and has some similarities to the English language with influence from mathematics.\\n', 'Python uses new lines to complete a command, as opposed to other programming languages which often use semicolons or parentheses.\\n', 'Python relies on indentation, using whitespace, to define scope; such as the scope of loops, functions and classes. Other programming languages often use curly-brackets for this purpose.\\n']\n"
     ]
    }
   ],
   "source": [
    "file = open(\"FileHandleExercise.txt\", \"r\")\n",
    "data = file.readlines()\n",
    "\n",
    "print(data)"
   ]
  },
  {
   "cell_type": "code",
   "execution_count": 6,
   "id": "c6040ee0",
   "metadata": {},
   "outputs": [
    {
     "name": "stdout",
     "output_type": "stream",
     "text": [
      "['What is Python?\\n', 'Python is a popular programming language. It was created by Guido van Rossum, and released in 1991.It is used for web development (server-side), software development, mathematics, system scripting.\\n']\n",
      "\n",
      "['What can Python do?\\n', 'Python can be used on a server to create web applications.\\n', 'Python can be used alongside software to create workflows.\\n', 'Python can connect to database systems. It can also read and modify files.\\n', 'Python can be used to handle big data and perform complex mathematics.\\n', 'Python can be used for rapid prototyping, or for production-ready software development.\\n']\n",
      "\n",
      "['Why Python?\\n', 'Python works on different platforms (Windows, Mac, Linux, Raspberry Pi, etc).\\n', 'Python has a simple syntax similar to the English language.\\n', 'Python has syntax that allows developers to write programs with fewer lines than some other programming languages.\\n', 'Python runs on an interpreter system, meaning that code can be executed as soon as it is written. This means that prototyping can be very quick.\\n', 'Python can be treated in a procedural way, an object-oriented way or a functional way.\\n']\n",
      "\n"
     ]
    }
   ],
   "source": [
    "paragraphs = []\n",
    "sublist = []\n",
    "for d in data:\n",
    "    if d == \"Good to know\\n\":\n",
    "        break\n",
    "    if d != \"\\n\":\n",
    "        sublist.append(d)\n",
    "    else:\n",
    "        sub_paragraph = sublist.copy()\n",
    "        paragraphs.append(sub_paragraph)\n",
    "        sublist.clear()\n",
    "for p in paragraphs:\n",
    "    print(p)\n",
    "    print()"
   ]
  },
  {
   "cell_type": "code",
   "execution_count": 9,
   "id": "dd91441c",
   "metadata": {},
   "outputs": [],
   "source": [
    "for paragraph in paragraphs:\n",
    "    with open(f\"{paragraph[0][:-2]}.txt\", \"w\") as wf:\n",
    "        for i,p in enumerate(paragraph):\n",
    "            if i == 0:\n",
    "                wf.write(p.upper())\n",
    "            else:\n",
    "                wf.write(p)"
   ]
  },
  {
   "cell_type": "code",
   "execution_count": null,
   "id": "5f71af7b",
   "metadata": {},
   "outputs": [],
   "source": []
  },
  {
   "cell_type": "code",
   "execution_count": null,
   "id": "a1667579",
   "metadata": {},
   "outputs": [],
   "source": []
  },
  {
   "cell_type": "code",
   "execution_count": null,
   "id": "42834d2a",
   "metadata": {},
   "outputs": [],
   "source": []
  }
 ],
 "metadata": {
  "kernelspec": {
   "display_name": "Python 3 (ipykernel)",
   "language": "python",
   "name": "python3"
  },
  "language_info": {
   "codemirror_mode": {
    "name": "ipython",
    "version": 3
   },
   "file_extension": ".py",
   "mimetype": "text/x-python",
   "name": "python",
   "nbconvert_exporter": "python",
   "pygments_lexer": "ipython3",
   "version": "3.10.8"
  }
 },
 "nbformat": 4,
 "nbformat_minor": 5
}
