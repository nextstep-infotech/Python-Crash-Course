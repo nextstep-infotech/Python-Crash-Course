{
 "cells": [
  {
   "cell_type": "markdown",
   "id": "3cb7542f",
   "metadata": {},
   "source": [
    "# DateTime Module"
   ]
  },
  {
   "cell_type": "markdown",
   "id": "44e8b94c",
   "metadata": {},
   "source": [
    "In Python, date and time are not a data type of its own, but a module named datetime can be imported to work with the date as well as time. \n",
    "\n",
    "Datetime module comes built into Python, so there is no need to install it externally. \n",
    "\n",
    "Datetime module supplies classes to work with date and time. \n",
    "\n",
    "These classes provide a number of functions to deal with dates, times and time intervals. \n",
    "\n",
    "Date and datetime are an object in Python, so when you manipulate them, you are actually manipulating objects and not string or timestamps. \n",
    "\n",
    "The datetime classes are categorize into 6 main classes – \n",
    "\n",
    "+ date – An idealized naive date, assuming the current Gregorian calendar always was, and always will be, in effect. Its attributes are year, month and day. \n",
    "\n",
    "+ time – An idealized time, independent of any particular day, assuming that every day has exactly 24*60*60 seconds. Its attributes are hour, minute, second, microsecond, and tzinfo. \n",
    "\n",
    "+ datetime – Its a combination of date and time along with the attributes year, month, day, hour, minute, second, microsecond, and tzinfo. \n",
    "\n",
    "+ timedelta – A duration expressing the difference between two date, time, or datetime instances to microsecond resolution. \n",
    "\n",
    "+ tzinfo – It provides time zone information objects. \n",
    "\n",
    "+ timezone – A class that implements the tzinfo abstract base class as a fixed offset from the UTC (New in version 3.2). "
   ]
  },
  {
   "cell_type": "markdown",
   "id": "eff3751f",
   "metadata": {},
   "source": [
    "## Date Class"
   ]
  },
  {
   "cell_type": "markdown",
   "id": "507cc50c",
   "metadata": {},
   "source": [
    "When an object of this class is instantiated, it represents a date in the format YYYY-MM-DD. Constructor of this class needs three mandatory arguments year, month and date.\n",
    "\n",
    "Constructor syntax:  \n",
    "\n",
    "class datetime.date(year, month, day)\n",
    "\n",
    "The arguments must be in the following range –  \n",
    "\n",
    "+ MINYEAR <= year <= MAXYEAR \n",
    "+ 1 <= month <= 12 \n",
    "+ 1 <= day <= number of days in the given month and year \n",
    "\n",
    "Note – If the argument is not an integer it will raise a TypeError and if it is outside the range a ValueError will be raised. "
   ]
  },
  {
   "cell_type": "markdown",
   "id": "2ba8464d",
   "metadata": {},
   "source": [
    "### Example:"
   ]
  },
  {
   "cell_type": "code",
   "execution_count": 1,
   "id": "7c2db007",
   "metadata": {},
   "outputs": [
    {
     "name": "stdout",
     "output_type": "stream",
     "text": [
      "Date passed as argument is:  2022-05-15\n"
     ]
    }
   ],
   "source": [
    "from datetime import date\n",
    "\n",
    "my_date = date(2022, 5, 15)\n",
    "print(\"Date passed as argument is: \", my_date)"
   ]
  },
  {
   "cell_type": "markdown",
   "id": "81a10073",
   "metadata": {},
   "source": [
    "#### Error Cases:"
   ]
  },
  {
   "cell_type": "code",
   "execution_count": 2,
   "id": "8b3f5908",
   "metadata": {},
   "outputs": [
    {
     "ename": "ValueError",
     "evalue": "day is out of range for month",
     "output_type": "error",
     "traceback": [
      "\u001b[1;31m---------------------------------------------------------------------------\u001b[0m",
      "\u001b[1;31mValueError\u001b[0m                                Traceback (most recent call last)",
      "Input \u001b[1;32mIn [2]\u001b[0m, in \u001b[0;36m<cell line: 1>\u001b[1;34m()\u001b[0m\n\u001b[1;32m----> 1\u001b[0m my_date \u001b[38;5;241m=\u001b[39m \u001b[43mdate\u001b[49m\u001b[43m(\u001b[49m\u001b[38;5;241;43m2022\u001b[39;49m\u001b[43m,\u001b[49m\u001b[43m \u001b[49m\u001b[38;5;241;43m5\u001b[39;49m\u001b[43m,\u001b[49m\u001b[43m \u001b[49m\u001b[38;5;241;43m40\u001b[39;49m\u001b[43m)\u001b[49m\n\u001b[0;32m      2\u001b[0m \u001b[38;5;28mprint\u001b[39m(\u001b[38;5;124m\"\u001b[39m\u001b[38;5;124mDate passed as argument is: \u001b[39m\u001b[38;5;124m\"\u001b[39m, my_date)\n",
      "\u001b[1;31mValueError\u001b[0m: day is out of range for month"
     ]
    }
   ],
   "source": [
    "my_date = date(2022, 5, 40)\n",
    "print(\"Date passed as argument is: \", my_date)"
   ]
  },
  {
   "cell_type": "code",
   "execution_count": 3,
   "id": "ac4d9a2b",
   "metadata": {},
   "outputs": [
    {
     "ename": "TypeError",
     "evalue": "'str' object cannot be interpreted as an integer",
     "output_type": "error",
     "traceback": [
      "\u001b[1;31m---------------------------------------------------------------------------\u001b[0m",
      "\u001b[1;31mTypeError\u001b[0m                                 Traceback (most recent call last)",
      "Input \u001b[1;32mIn [3]\u001b[0m, in \u001b[0;36m<cell line: 1>\u001b[1;34m()\u001b[0m\n\u001b[1;32m----> 1\u001b[0m my_date \u001b[38;5;241m=\u001b[39m \u001b[43mdate\u001b[49m\u001b[43m(\u001b[49m\u001b[38;5;124;43m\"\u001b[39;49m\u001b[38;5;124;43m2022\u001b[39;49m\u001b[38;5;124;43m\"\u001b[39;49m\u001b[43m,\u001b[49m\u001b[43m \u001b[49m\u001b[38;5;241;43m5\u001b[39;49m\u001b[43m,\u001b[49m\u001b[43m \u001b[49m\u001b[38;5;241;43m40\u001b[39;49m\u001b[43m)\u001b[49m\n\u001b[0;32m      2\u001b[0m \u001b[38;5;28mprint\u001b[39m(\u001b[38;5;124m\"\u001b[39m\u001b[38;5;124mDate passed as argument is: \u001b[39m\u001b[38;5;124m\"\u001b[39m, my_date)\n",
      "\u001b[1;31mTypeError\u001b[0m: 'str' object cannot be interpreted as an integer"
     ]
    }
   ],
   "source": [
    "my_date = date(\"2022\", 5, 40)\n",
    "print(\"Date passed as argument is: \", my_date)"
   ]
  },
  {
   "cell_type": "markdown",
   "id": "b46f5fa6",
   "metadata": {},
   "source": [
    "**Comparing two dates**"
   ]
  },
  {
   "cell_type": "code",
   "execution_count": 5,
   "id": "087c2b12",
   "metadata": {},
   "outputs": [
    {
     "name": "stdout",
     "output_type": "stream",
     "text": [
      "False\n",
      "True\n",
      "False\n",
      "True\n",
      "False\n",
      "True\n"
     ]
    }
   ],
   "source": [
    "d1 = date(2021, 7, 10)\n",
    "d2 = date(2022, 5, 30)\n",
    "\n",
    "print(d1 == d2)\n",
    "print(d1 < d2)\n",
    "print(d1 > d2)\n",
    "print(d1 <= d2)\n",
    "print(d1 >= d2)\n",
    "print(d1 != d2)"
   ]
  },
  {
   "cell_type": "markdown",
   "id": "984e0b09",
   "metadata": {},
   "source": [
    "### Getting Current Date"
   ]
  },
  {
   "cell_type": "markdown",
   "id": "dd4d293b",
   "metadata": {},
   "source": [
    "To return the current local date today() function of date class is used. today() function comes with several attributes (year, month and day). These can be printed individually. "
   ]
  },
  {
   "cell_type": "code",
   "execution_count": 6,
   "id": "db942298",
   "metadata": {},
   "outputs": [
    {
     "name": "stdout",
     "output_type": "stream",
     "text": [
      "Today's Date is:  2022-11-07\n"
     ]
    }
   ],
   "source": [
    "today = date.today()\n",
    "print(\"Today's Date is: \", today)"
   ]
  },
  {
   "cell_type": "code",
   "execution_count": 7,
   "id": "306d7ee0",
   "metadata": {},
   "outputs": [
    {
     "name": "stdout",
     "output_type": "stream",
     "text": [
      "Year:  2022\n",
      "Month:  11\n",
      "Day:  7\n"
     ]
    }
   ],
   "source": [
    "print(\"Year: \", today.year)\n",
    "print(\"Month: \", today.month)\n",
    "print(\"Day: \", today.day)"
   ]
  },
  {
   "cell_type": "markdown",
   "id": "d26e50f6",
   "metadata": {},
   "source": [
    "**Calculate age in Python**"
   ]
  },
  {
   "cell_type": "code",
   "execution_count": 8,
   "id": "245fe6cc",
   "metadata": {},
   "outputs": [
    {
     "name": "stdout",
     "output_type": "stream",
     "text": [
      "30\n"
     ]
    }
   ],
   "source": [
    "dob = date(1992, 10 ,18)\n",
    "t = date.today()\n",
    "age = t.year - dob.year\n",
    "print(age)"
   ]
  },
  {
   "cell_type": "markdown",
   "id": "fac28cdf",
   "metadata": {},
   "source": [
    "## Time Class"
   ]
  },
  {
   "cell_type": "markdown",
   "id": "c57b06bf",
   "metadata": {},
   "source": [
    "Time object represents local time, independent of any day. "
   ]
  },
  {
   "cell_type": "markdown",
   "id": "ed60a308",
   "metadata": {},
   "source": [
    "Constructor Syntax: \n",
    "\n",
    "class datetime.time(hour=0, minute=0, second=0, microsecond=0, tzinfo=None, *, fold=0)"
   ]
  },
  {
   "cell_type": "markdown",
   "id": "a6be299d",
   "metadata": {},
   "source": [
    "All the arguments are optional. tzinfo can be None otherwise all the attributes must be integer in the following range – \n",
    "\n",
    "+ 0 <= hour < 24 \n",
    "+ 0 <= minute < 60 \n",
    "+ 0 <= second < 60 \n",
    "+ 0 <= microsecond < 1000000 \n",
    "+ fold in [0, 1]  "
   ]
  },
  {
   "cell_type": "markdown",
   "id": "ecbb676d",
   "metadata": {},
   "source": [
    "### Example:"
   ]
  },
  {
   "cell_type": "code",
   "execution_count": 9,
   "id": "993f4d81",
   "metadata": {},
   "outputs": [
    {
     "name": "stdout",
     "output_type": "stream",
     "text": [
      "Entered Time:  13:24:56\n"
     ]
    }
   ],
   "source": [
    "from datetime import time\n",
    "\n",
    "my_time = time(13, 24, 56)\n",
    "print(\"Entered Time: \", my_time)"
   ]
  },
  {
   "cell_type": "code",
   "execution_count": 10,
   "id": "c01027b7",
   "metadata": {},
   "outputs": [
    {
     "name": "stdout",
     "output_type": "stream",
     "text": [
      "Entered Time:  00:00:00\n"
     ]
    }
   ],
   "source": [
    "my_time = time()\n",
    "print(\"Entered Time: \", my_time)"
   ]
  },
  {
   "cell_type": "code",
   "execution_count": 11,
   "id": "74c7bd76",
   "metadata": {},
   "outputs": [
    {
     "name": "stdout",
     "output_type": "stream",
     "text": [
      "Entered Time:  00:12:00\n"
     ]
    }
   ],
   "source": [
    "my_time = time(minute = 12)\n",
    "print(\"Entered Time: \", my_time)"
   ]
  },
  {
   "cell_type": "markdown",
   "id": "6fa9c86b",
   "metadata": {},
   "source": [
    "#### Error Cases"
   ]
  },
  {
   "cell_type": "code",
   "execution_count": 12,
   "id": "cd94970a",
   "metadata": {},
   "outputs": [
    {
     "ename": "TypeError",
     "evalue": "'str' object cannot be interpreted as an integer",
     "output_type": "error",
     "traceback": [
      "\u001b[1;31m---------------------------------------------------------------------------\u001b[0m",
      "\u001b[1;31mTypeError\u001b[0m                                 Traceback (most recent call last)",
      "Input \u001b[1;32mIn [12]\u001b[0m, in \u001b[0;36m<cell line: 1>\u001b[1;34m()\u001b[0m\n\u001b[1;32m----> 1\u001b[0m \u001b[38;5;28mprint\u001b[39m(\u001b[43mtime\u001b[49m\u001b[43m(\u001b[49m\u001b[43mhour\u001b[49m\u001b[38;5;241;43m=\u001b[39;49m\u001b[38;5;124;43m'\u001b[39;49m\u001b[38;5;124;43m20\u001b[39;49m\u001b[38;5;124;43m'\u001b[39;49m\u001b[43m)\u001b[49m)\n",
      "\u001b[1;31mTypeError\u001b[0m: 'str' object cannot be interpreted as an integer"
     ]
    }
   ],
   "source": [
    "print(time(hour='20'))"
   ]
  },
  {
   "cell_type": "code",
   "execution_count": 13,
   "id": "a057acea",
   "metadata": {},
   "outputs": [
    {
     "ename": "ValueError",
     "evalue": "hour must be in 0..23",
     "output_type": "error",
     "traceback": [
      "\u001b[1;31m---------------------------------------------------------------------------\u001b[0m",
      "\u001b[1;31mValueError\u001b[0m                                Traceback (most recent call last)",
      "Input \u001b[1;32mIn [13]\u001b[0m, in \u001b[0;36m<cell line: 1>\u001b[1;34m()\u001b[0m\n\u001b[1;32m----> 1\u001b[0m \u001b[38;5;28mprint\u001b[39m(\u001b[43mtime\u001b[49m\u001b[43m(\u001b[49m\u001b[43mhour\u001b[49m\u001b[43m \u001b[49m\u001b[38;5;241;43m=\u001b[39;49m\u001b[43m \u001b[49m\u001b[38;5;241;43m28\u001b[39;49m\u001b[43m)\u001b[49m)\n",
      "\u001b[1;31mValueError\u001b[0m: hour must be in 0..23"
     ]
    }
   ],
   "source": [
    "print(time(hour = 28))"
   ]
  },
  {
   "cell_type": "markdown",
   "id": "dba1dfdd",
   "metadata": {},
   "source": [
    "After creating a time object, its attributes can also be printed separately."
   ]
  },
  {
   "cell_type": "code",
   "execution_count": 14,
   "id": "5befd97e",
   "metadata": {},
   "outputs": [
    {
     "name": "stdout",
     "output_type": "stream",
     "text": [
      "Hour:  11\n",
      "Minute:  34\n",
      "Seconds:  5\n",
      "Microseconds:  0\n"
     ]
    }
   ],
   "source": [
    "time = time(11, 34, 5)\n",
    "print(\"Hour: \", time.hour)\n",
    "print(\"Minute: \", time.minute)\n",
    "print(\"Seconds: \", time.second)\n",
    "print(\"Microseconds: \", time.microsecond)\n"
   ]
  },
  {
   "cell_type": "markdown",
   "id": "f97ded66",
   "metadata": {},
   "source": [
    "## Datetime class"
   ]
  },
  {
   "cell_type": "markdown",
   "id": "97de77e9",
   "metadata": {},
   "source": [
    "Information on both date and time is contained in this class. Like a date object, datetime assumes the current Gregorian calendar extended in both directions; like a time object, datetime assumes there are exactly 3600*24 seconds in every day.\n",
    "\n",
    "Constructor Syntax: \n",
    "\n",
    "class datetime.datetime(year, month, day, hour=0, minute=0, second=0, microsecond=0, tzinfo=None, *, fold=0) \n",
    " \n",
    "\n",
    "The year, month and day arguments are mandatory. tzinfo can be None, rest all the attributes must be an integer in the following range –  \n",
    "\n",
    "+ MINYEAR <= year <= MAXYEAR \n",
    "+ 1 <= month <= 12 \n",
    "+ 1 <= day <= number of days in the given month and year \n",
    "+ 0 <= hour < 24 \n",
    "+ 0 <= minute < 60 \n",
    "+ 0 <= second < 60 \n",
    "+ 0 <= microsecond < 1000000 \n",
    "+ fold in [0, 1] \n",
    "\n",
    "Note – Passing an argument other than integer will raise a TypeError and passign arguments outside the range will raise ValueError."
   ]
  },
  {
   "cell_type": "markdown",
   "id": "75f26b08",
   "metadata": {},
   "source": [
    "### Example:"
   ]
  },
  {
   "cell_type": "code",
   "execution_count": 17,
   "id": "1b380b21",
   "metadata": {},
   "outputs": [
    {
     "name": "stdout",
     "output_type": "stream",
     "text": [
      "1999-03-08 17:40:12.342386\n"
     ]
    }
   ],
   "source": [
    "from datetime import datetime\n",
    "\n",
    "a = datetime(1999, 3, 8, 17, 40, 12, 342386)\n",
    "print(a)"
   ]
  },
  {
   "cell_type": "markdown",
   "id": "ccce3c9a",
   "metadata": {},
   "source": [
    "After creating a datetime object, its attributes can also be printed separately."
   ]
  },
  {
   "cell_type": "code",
   "execution_count": 18,
   "id": "20fe66be",
   "metadata": {},
   "outputs": [
    {
     "name": "stdout",
     "output_type": "stream",
     "text": [
      "Year:  1999\n",
      "Month:  3\n",
      "Day:  8\n",
      "Hour:  17\n",
      "Minute:  40\n",
      "Seconds:  12\n",
      "Microseconds:  342386\n"
     ]
    }
   ],
   "source": [
    "print(\"Year: \", a.year)\n",
    "print(\"Month: \", a.month)\n",
    "print(\"Day: \", a.day)\n",
    "print(\"Hour: \", a.hour)\n",
    "print(\"Minute: \", a.minute)\n",
    "print(\"Seconds: \", a.second)\n",
    "print(\"Microseconds: \", a.microsecond)"
   ]
  },
  {
   "cell_type": "markdown",
   "id": "cb009b9b",
   "metadata": {},
   "source": [
    "#### Get current date and time"
   ]
  },
  {
   "cell_type": "markdown",
   "id": "4996df8c",
   "metadata": {},
   "source": [
    "You can print the current date and time using the now() function. now() function returns the current local date and time. "
   ]
  },
  {
   "cell_type": "code",
   "execution_count": 19,
   "id": "854a3cd6",
   "metadata": {},
   "outputs": [
    {
     "name": "stdout",
     "output_type": "stream",
     "text": [
      "Current date and time is:  2022-11-07 11:05:46.047557\n"
     ]
    }
   ],
   "source": [
    "today = datetime.now()\n",
    "print(\"Current date and time is: \", today)"
   ]
  },
  {
   "cell_type": "markdown",
   "id": "079fbd38",
   "metadata": {},
   "source": [
    "## TimeDelta Class"
   ]
  },
  {
   "cell_type": "markdown",
   "id": "c370e3b9",
   "metadata": {},
   "source": [
    "Python timedelta() function is present under datetime library which is generally used for calculating differences in dates and also can be used for date manipulations in Python. It is one of the easiest ways to perform date manipulations.\n",
    "\n",
    "Constructor syntax:  \n",
    "\n",
    "class datetime.timedelta(days=0, seconds=0, microseconds=0, milliseconds=0, minutes=0, hours=0, weeks=0)\n",
    "\n",
    "Returns : Date "
   ]
  },
  {
   "cell_type": "markdown",
   "id": "e2fb65b4",
   "metadata": {},
   "source": [
    "### Example:"
   ]
  },
  {
   "cell_type": "markdown",
   "id": "670b4f82",
   "metadata": {},
   "source": [
    "**Calculating future dates**"
   ]
  },
  {
   "cell_type": "code",
   "execution_count": 23,
   "id": "774ed537",
   "metadata": {},
   "outputs": [
    {
     "name": "stdout",
     "output_type": "stream",
     "text": [
      "2024-11-26 11:09:48.439124\n"
     ]
    }
   ],
   "source": [
    "from datetime import datetime, timedelta\n",
    "\n",
    "dt1 = datetime.now()\n",
    "\n",
    "future_dt1 = dt1 + timedelta(days = 750)\n",
    "\n",
    "print(future_dt1)"
   ]
  },
  {
   "cell_type": "code",
   "execution_count": 24,
   "id": "0ce74f77",
   "metadata": {},
   "outputs": [
    {
     "name": "stdout",
     "output_type": "stream",
     "text": [
      "2024-04-15 11:09:48.667504\n"
     ]
    }
   ],
   "source": [
    "dt1 = datetime.now()\n",
    "\n",
    "future_dt1 = dt1 + timedelta(weeks = 75)\n",
    "\n",
    "print(future_dt1)"
   ]
  },
  {
   "cell_type": "code",
   "execution_count": 25,
   "id": "2c91eb5a",
   "metadata": {},
   "outputs": [
    {
     "name": "stdout",
     "output_type": "stream",
     "text": [
      "2024-04-16 02:34:48.956099\n"
     ]
    }
   ],
   "source": [
    "dt1 = datetime.now()\n",
    "\n",
    "future_dt2 = dt1 + timedelta(weeks = 75, hours = 15, minutes = 25 )\n",
    "\n",
    "print(future_dt2)"
   ]
  },
  {
   "cell_type": "markdown",
   "id": "b17cd4bb",
   "metadata": {},
   "source": [
    "**Calculating time difference**"
   ]
  },
  {
   "cell_type": "code",
   "execution_count": 26,
   "id": "4e4932b0",
   "metadata": {},
   "outputs": [
    {
     "name": "stdout",
     "output_type": "stream",
     "text": [
      "Time Difference:  524 days, 23:59:59.711405\n"
     ]
    }
   ],
   "source": [
    "print(\"Time Difference: \", str(future_dt1 - dt1))"
   ]
  },
  {
   "cell_type": "code",
   "execution_count": 27,
   "id": "8ffe946c",
   "metadata": {},
   "outputs": [
    {
     "name": "stdout",
     "output_type": "stream",
     "text": [
      "Time Difference:  525 days, 15:25:00\n"
     ]
    }
   ],
   "source": [
    "print(\"Time Difference: \", str(future_dt2 - dt1))"
   ]
  },
  {
   "cell_type": "code",
   "execution_count": null,
   "id": "7b1a67f9",
   "metadata": {},
   "outputs": [],
   "source": []
  },
  {
   "cell_type": "code",
   "execution_count": null,
   "id": "ec416083",
   "metadata": {},
   "outputs": [],
   "source": []
  }
 ],
 "metadata": {
  "kernelspec": {
   "display_name": "Python 3 (ipykernel)",
   "language": "python",
   "name": "python3"
  },
  "language_info": {
   "codemirror_mode": {
    "name": "ipython",
    "version": 3
   },
   "file_extension": ".py",
   "mimetype": "text/x-python",
   "name": "python",
   "nbconvert_exporter": "python",
   "pygments_lexer": "ipython3",
   "version": "3.10.8"
  }
 },
 "nbformat": 4,
 "nbformat_minor": 5
}
