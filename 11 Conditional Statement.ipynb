{
 "cells": [
  {
   "cell_type": "markdown",
   "metadata": {},
   "source": [
    "# If Statement in Python"
   ]
  },
  {
   "cell_type": "code",
   "execution_count": 1,
   "metadata": {},
   "outputs": [
    {
     "name": "stdout",
     "output_type": "stream",
     "text": [
      "Enter a number: 15\n"
     ]
    },
    {
     "data": {
      "text/plain": [
       "True"
      ]
     },
     "execution_count": 1,
     "metadata": {},
     "output_type": "execute_result"
    }
   ],
   "source": [
    "num = int(input(\"Enter a number: \"))\n",
    "num>10"
   ]
  },
  {
   "cell_type": "code",
   "execution_count": 5,
   "metadata": {},
   "outputs": [
    {
     "name": "stdout",
     "output_type": "stream",
     "text": [
      "Enter a number: 25\n",
      "User input is greater than 10.\n"
     ]
    }
   ],
   "source": [
    "num = int(input(\"Enter a number: \"))\n",
    "if num>10:\n",
    "    print(\"User input is greater than 10.\")"
   ]
  },
  {
   "cell_type": "markdown",
   "metadata": {},
   "source": [
    "# If Else Statement in Python"
   ]
  },
  {
   "cell_type": "code",
   "execution_count": 6,
   "metadata": {},
   "outputs": [
    {
     "name": "stdout",
     "output_type": "stream",
     "text": [
      "Enter a number: 5\n",
      "User input is less than 10.\n"
     ]
    }
   ],
   "source": [
    "num = int(input(\"Enter a number: \"))\n",
    "if num>10:\n",
    "    print(\"User input is greater than 10.\")\n",
    "else:\n",
    "    print(\"User input is less than 10.\")"
   ]
  },
  {
   "cell_type": "markdown",
   "metadata": {},
   "source": [
    "# If Else Elif Statement in Python"
   ]
  },
  {
   "cell_type": "code",
   "execution_count": 7,
   "metadata": {},
   "outputs": [
    {
     "name": "stdout",
     "output_type": "stream",
     "text": [
      "Enter a number: 10\n",
      "User input is equals to 10.\n"
     ]
    }
   ],
   "source": [
    "num = int(input(\"Enter a number: \"))\n",
    "if num>10:\n",
    "    print(\"User input is greater than 10.\")\n",
    "elif num == 10:\n",
    "    print(\"User input is equals to 10.\")\n",
    "else:\n",
    "    print(\"User input is less than 10.\")"
   ]
  },
  {
   "cell_type": "code",
   "execution_count": 10,
   "metadata": {},
   "outputs": [
    {
     "name": "stdout",
     "output_type": "stream",
     "text": [
      "Enter your alphabet: z\n",
      "This is not a vowel.\n"
     ]
    }
   ],
   "source": [
    "alphabet = input(\"Enter your alphabet: \")\n",
    "if alphabet == \"a\":\n",
    "    print(\"Vowel a\")\n",
    "elif alphabet == \"e\":\n",
    "    print(\"Vowel e\")\n",
    "elif alphabet == \"i\":\n",
    "    print(\"Vowel i\")\n",
    "elif alphabet == \"o\":\n",
    "    print(\"Vowel o\")\n",
    "elif alphabet == \"u\":\n",
    "    print(\"Vowel u\")\n",
    "else:\n",
    "    print(\"This is not a vowel.\")"
   ]
  },
  {
   "cell_type": "markdown",
   "metadata": {},
   "source": [
    "# Conditional Statement with logical Operator"
   ]
  },
  {
   "cell_type": "code",
   "execution_count": 13,
   "metadata": {},
   "outputs": [
    {
     "name": "stdout",
     "output_type": "stream",
     "text": [
      "Enter your number: 5\n",
      "Invalid number\n"
     ]
    }
   ],
   "source": [
    "num =  int(input(\"Enter your number: \"))\n",
    "if num>10 and num<100:\n",
    "    print(\"Valid number.\")\n",
    "else:\n",
    "    print(\"Invalid number\")"
   ]
  },
  {
   "cell_type": "markdown",
   "metadata": {},
   "source": [
    "# Nested Conditional in Python"
   ]
  },
  {
   "cell_type": "code",
   "execution_count": 18,
   "metadata": {},
   "outputs": [
    {
     "name": "stdout",
     "output_type": "stream",
     "text": [
      "Enter your number: 5\n",
      "It is less than 10.\n"
     ]
    }
   ],
   "source": [
    "num =  int(input(\"Enter your number: \"))\n",
    "if num>10:\n",
    "    if num>20:\n",
    "        print(\"It is greater than 10 and 20.\")\n",
    "    elif num == 20:\n",
    "        print(\"It equals to 20.\")\n",
    "    else:\n",
    "        print(\"It is only greater than 10.\")\n",
    "elif num==10:\n",
    "    print(\"It is equals to 10.\")\n",
    "else:\n",
    "    print(\"It is less than 10.\")"
   ]
  },
  {
   "cell_type": "markdown",
   "metadata": {},
   "source": [
    "## Get a user input number and check whether it is divisible by 5 and 3."
   ]
  },
  {
   "cell_type": "code",
   "execution_count": 22,
   "metadata": {},
   "outputs": [
    {
     "name": "stdout",
     "output_type": "stream",
     "text": [
      "Enter your number: 15\n",
      "It is divisible by 5 and 3.\n"
     ]
    }
   ],
   "source": [
    "num =  int(input(\"Enter your number: \"))\n",
    "if num/5==3.0 and num/3==5.0:\n",
    "    print(\"It is divisible by 5 and 3.\")"
   ]
  },
  {
   "cell_type": "code",
   "execution_count": 34,
   "metadata": {},
   "outputs": [
    {
     "name": "stdout",
     "output_type": "stream",
     "text": [
      "Enter your number: 15\n",
      "It is divisible by 5 and 3.\n"
     ]
    }
   ],
   "source": [
    "num =  int(input(\"Enter your number: \"))\n",
    "if num%5==0 and num%3==0:\n",
    "    print(\"It is divisible by 5 and 3.\")\n",
    "else:\n",
    "    print(\"It is not divisible by 5 and 3.\")"
   ]
  },
  {
   "cell_type": "code",
   "execution_count": null,
   "metadata": {},
   "outputs": [],
   "source": []
  },
  {
   "cell_type": "code",
   "execution_count": null,
   "metadata": {},
   "outputs": [],
   "source": []
  }
 ],
 "metadata": {
  "kernelspec": {
   "display_name": "Python 3 (ipykernel)",
   "language": "python",
   "name": "python3"
  },
  "language_info": {
   "codemirror_mode": {
    "name": "ipython",
    "version": 3
   },
   "file_extension": ".py",
   "mimetype": "text/x-python",
   "name": "python",
   "nbconvert_exporter": "python",
   "pygments_lexer": "ipython3",
   "version": "3.10.8"
  }
 },
 "nbformat": 4,
 "nbformat_minor": 4
}
