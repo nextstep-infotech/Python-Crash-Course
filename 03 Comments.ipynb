{
 "cells": [
  {
   "cell_type": "markdown",
   "id": "f0b7f144",
   "metadata": {},
   "source": [
    "# Comments"
   ]
  },
  {
   "cell_type": "markdown",
   "id": "bb613bbc",
   "metadata": {},
   "source": [
    "A piece of text placed within a program to help other users to understand it, which the computer ignores when running the program. In Python comments starts with # and python will ignore them."
   ]
  },
  {
   "cell_type": "code",
   "execution_count": 1,
   "id": "727cadaa",
   "metadata": {},
   "outputs": [],
   "source": [
    "# This is comments."
   ]
  },
  {
   "cell_type": "markdown",
   "id": "130eab69",
   "metadata": {},
   "source": [
    "## Why do we use comments?"
   ]
  },
  {
   "cell_type": "markdown",
   "id": "77c15cd8",
   "metadata": {},
   "source": [
    "Comments can be used to explain Python code or to make the code more readable.\n"
   ]
  },
  {
   "cell_type": "code",
   "execution_count": 2,
   "id": "b07b0a20",
   "metadata": {},
   "outputs": [],
   "source": [
    "# Example:\n",
    "# This is comment. Even the above line is a comment."
   ]
  },
  {
   "cell_type": "code",
   "execution_count": 4,
   "id": "814d2e8f",
   "metadata": {},
   "outputs": [
    {
     "name": "stdout",
     "output_type": "stream",
     "text": [
      "25\n",
      "35\n"
     ]
    }
   ],
   "source": [
    "# Example:\n",
    "x = 25 # First Variable\n",
    "y = 35 # Second Variable\n",
    "print(x)\n",
    "print(y)"
   ]
  },
  {
   "cell_type": "markdown",
   "id": "cdca8abd",
   "metadata": {},
   "source": [
    "Comments can be used to prevent execution when testing code."
   ]
  },
  {
   "cell_type": "code",
   "execution_count": 5,
   "id": "af004b3d",
   "metadata": {},
   "outputs": [
    {
     "name": "stdout",
     "output_type": "stream",
     "text": [
      "60\n"
     ]
    }
   ],
   "source": [
    "x = 25 # First Variable\n",
    "y = 35 # Second Variable\n",
    "print(x+y) # This will print sum of x and y.\n",
    "# print(x-y) # This will not run since we have commented this code."
   ]
  },
  {
   "cell_type": "markdown",
   "id": "d6f62381",
   "metadata": {},
   "source": [
    "We can also write multiline comments with the help of multiline strings."
   ]
  },
  {
   "cell_type": "code",
   "execution_count": null,
   "id": "b47f42d9",
   "metadata": {},
   "outputs": [],
   "source": [
    "# Example 1\n",
    "# print(\"Hello World\")\n",
    "# print(\"We are learning python programming.\")"
   ]
  },
  {
   "cell_type": "code",
   "execution_count": 6,
   "id": "94e7077f",
   "metadata": {},
   "outputs": [
    {
     "data": {
      "text/plain": [
       "'This is first line.\\nThis is second line.\\nThis is third line.\\n'"
      ]
     },
     "execution_count": 6,
     "metadata": {},
     "output_type": "execute_result"
    }
   ],
   "source": [
    "# Example  - Multiline strings.\n",
    "'''This is first line.\n",
    "This is second line.\n",
    "This is third line.\n",
    "'''"
   ]
  },
  {
   "cell_type": "code",
   "execution_count": 7,
   "id": "6f38d4be",
   "metadata": {},
   "outputs": [
    {
     "data": {
      "text/plain": [
       "'This is first line.\\nThis is second line.\\nThis is third line.\\n'"
      ]
     },
     "execution_count": 7,
     "metadata": {},
     "output_type": "execute_result"
    }
   ],
   "source": [
    "\"\"\"This is first line.\n",
    "This is second line.\n",
    "This is third line.\n",
    "\"\"\""
   ]
  },
  {
   "cell_type": "code",
   "execution_count": null,
   "id": "b63e6f79",
   "metadata": {},
   "outputs": [],
   "source": [
    "x = 5\n",
    "y = 15\n",
    "z = 19"
   ]
  }
 ],
 "metadata": {
  "kernelspec": {
   "display_name": "Python 3 (ipykernel)",
   "language": "python",
   "name": "python3"
  },
  "language_info": {
   "codemirror_mode": {
    "name": "ipython",
    "version": 3
   },
   "file_extension": ".py",
   "mimetype": "text/x-python",
   "name": "python",
   "nbconvert_exporter": "python",
   "pygments_lexer": "ipython3",
   "version": "3.10.8"
  }
 },
 "nbformat": 4,
 "nbformat_minor": 5
}
