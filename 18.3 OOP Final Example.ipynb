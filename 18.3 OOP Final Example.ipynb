{
 "cells": [
  {
   "cell_type": "markdown",
   "id": "d8b6aebb",
   "metadata": {},
   "source": [
    "# OOP Final Example"
   ]
  },
  {
   "cell_type": "code",
   "execution_count": 1,
   "id": "a70118a1",
   "metadata": {},
   "outputs": [],
   "source": [
    "# Creating a Bank System"
   ]
  },
  {
   "cell_type": "code",
   "execution_count": null,
   "id": "09c6bb84",
   "metadata": {},
   "outputs": [],
   "source": [
    "# Class name: BankAccount\n",
    "# Methods:\n",
    "    # Deposit()\n",
    "    # Withdraw()\n",
    "    # Display()\n",
    "    \n",
    "# Attributes:\n",
    "    # Balance\n",
    "    "
   ]
  },
  {
   "cell_type": "code",
   "execution_count": 1,
   "id": "ed0ca7ec",
   "metadata": {},
   "outputs": [],
   "source": [
    "class BankAccount():\n",
    "    def __init__(self):\n",
    "        self.balance = 0\n",
    "        print(\"Hello. Welcome to NextStep Bank.\")\n",
    "    \n",
    "    def deposit(self):\n",
    "        amount = int(input(\"Enter amount to be deposited: \"))\n",
    "        self.balance += amount\n",
    "        print(f\"Your current balance: {self.balance}\")\n",
    "    \n",
    "    def withdraw(self):\n",
    "        amount = int(input(\"Enter amount to be withdrawn.\"))\n",
    "        if self.balance > amount:\n",
    "            self.balance -= amount\n",
    "            print(f\"You withdrew: {amount}. Your current balance is {self.balance}\")\n",
    "        else:\n",
    "            print(\"Insufficient Balance.\")\n",
    "            \n",
    "    def display(self):\n",
    "        print(f\"Your current balance is {self.balance}.\")"
   ]
  },
  {
   "cell_type": "code",
   "execution_count": 2,
   "id": "83fb4ae1",
   "metadata": {},
   "outputs": [
    {
     "name": "stdout",
     "output_type": "stream",
     "text": [
      "Hello. Welcome to NextStep Bank.\n"
     ]
    }
   ],
   "source": [
    "bank = BankAccount()"
   ]
  },
  {
   "cell_type": "code",
   "execution_count": 3,
   "id": "24119d1a",
   "metadata": {},
   "outputs": [
    {
     "name": "stdout",
     "output_type": "stream",
     "text": [
      "Enter amount to be deposited: 15000\n",
      "Your current balance: 15000\n"
     ]
    }
   ],
   "source": [
    "bank.deposit()"
   ]
  },
  {
   "cell_type": "code",
   "execution_count": 4,
   "id": "b00cc695",
   "metadata": {},
   "outputs": [
    {
     "name": "stdout",
     "output_type": "stream",
     "text": [
      "Enter amount to be withdrawn.5000\n",
      "You withdrew: 5000. Your current balance is 10000\n"
     ]
    }
   ],
   "source": [
    "bank.withdraw()"
   ]
  },
  {
   "cell_type": "code",
   "execution_count": 5,
   "id": "e4d635f3",
   "metadata": {},
   "outputs": [
    {
     "name": "stdout",
     "output_type": "stream",
     "text": [
      "Enter amount to be withdrawn.50000\n",
      "Insufficient Balance.\n"
     ]
    }
   ],
   "source": [
    "bank.withdraw()"
   ]
  },
  {
   "cell_type": "code",
   "execution_count": 6,
   "id": "acfe7074",
   "metadata": {},
   "outputs": [
    {
     "name": "stdout",
     "output_type": "stream",
     "text": [
      "Your current balance is 10000.\n"
     ]
    }
   ],
   "source": [
    "bank.display()"
   ]
  },
  {
   "cell_type": "code",
   "execution_count": null,
   "id": "b3c845d9",
   "metadata": {},
   "outputs": [],
   "source": []
  }
 ],
 "metadata": {
  "kernelspec": {
   "display_name": "Python 3 (ipykernel)",
   "language": "python",
   "name": "python3"
  },
  "language_info": {
   "codemirror_mode": {
    "name": "ipython",
    "version": 3
   },
   "file_extension": ".py",
   "mimetype": "text/x-python",
   "name": "python",
   "nbconvert_exporter": "python",
   "pygments_lexer": "ipython3",
   "version": "3.10.8"
  }
 },
 "nbformat": 4,
 "nbformat_minor": 5
}
