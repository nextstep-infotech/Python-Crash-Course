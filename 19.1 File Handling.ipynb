{
 "cells": [
  {
   "cell_type": "markdown",
   "id": "b65950c0",
   "metadata": {},
   "source": [
    "# 19.1 File Handling in Python"
   ]
  },
  {
   "cell_type": "markdown",
   "id": "610f4853",
   "metadata": {},
   "source": [
    "## Opening File"
   ]
  },
  {
   "cell_type": "code",
   "execution_count": 1,
   "id": "915519c7",
   "metadata": {},
   "outputs": [
    {
     "ename": "TypeError",
     "evalue": "open() missing required argument 'file' (pos 1)",
     "output_type": "error",
     "traceback": [
      "\u001b[1;31m---------------------------------------------------------------------------\u001b[0m",
      "\u001b[1;31mTypeError\u001b[0m                                 Traceback (most recent call last)",
      "Input \u001b[1;32mIn [1]\u001b[0m, in \u001b[0;36m<cell line: 1>\u001b[1;34m()\u001b[0m\n\u001b[1;32m----> 1\u001b[0m \u001b[38;5;28;43mopen\u001b[39;49m\u001b[43m(\u001b[49m\u001b[43m)\u001b[49m\n",
      "\u001b[1;31mTypeError\u001b[0m: open() missing required argument 'file' (pos 1)"
     ]
    }
   ],
   "source": [
    "open()"
   ]
  },
  {
   "cell_type": "code",
   "execution_count": 1,
   "id": "1b9d61bf",
   "metadata": {},
   "outputs": [
    {
     "name": "stdout",
     "output_type": "stream",
     "text": [
      "Help on built-in function open in module io:\n",
      "\n",
      "open(file, mode='r', buffering=-1, encoding=None, errors=None, newline=None, closefd=True, opener=None)\n",
      "    Open file and return a stream.  Raise OSError upon failure.\n",
      "    \n",
      "    file is either a text or byte string giving the name (and the path\n",
      "    if the file isn't in the current working directory) of the file to\n",
      "    be opened or an integer file descriptor of the file to be\n",
      "    wrapped. (If a file descriptor is given, it is closed when the\n",
      "    returned I/O object is closed, unless closefd is set to False.)\n",
      "    \n",
      "    mode is an optional string that specifies the mode in which the file\n",
      "    is opened. It defaults to 'r' which means open for reading in text\n",
      "    mode.  Other common values are 'w' for writing (truncating the file if\n",
      "    it already exists), 'x' for creating and writing to a new file, and\n",
      "    'a' for appending (which on some Unix systems, means that all writes\n",
      "    append to the end of the file regardless of the current seek position).\n",
      "    In text mode, if encoding is not specified the encoding used is platform\n",
      "    dependent: locale.getpreferredencoding(False) is called to get the\n",
      "    current locale encoding. (For reading and writing raw bytes use binary\n",
      "    mode and leave encoding unspecified.) The available modes are:\n",
      "    \n",
      "    ========= ===============================================================\n",
      "    Character Meaning\n",
      "    --------- ---------------------------------------------------------------\n",
      "    'r'       open for reading (default)\n",
      "    'w'       open for writing, truncating the file first\n",
      "    'x'       create a new file and open it for writing\n",
      "    'a'       open for writing, appending to the end of the file if it exists\n",
      "    'b'       binary mode\n",
      "    't'       text mode (default)\n",
      "    '+'       open a disk file for updating (reading and writing)\n",
      "    'U'       universal newline mode (deprecated)\n",
      "    ========= ===============================================================\n",
      "    \n",
      "    The default mode is 'rt' (open for reading text). For binary random\n",
      "    access, the mode 'w+b' opens and truncates the file to 0 bytes, while\n",
      "    'r+b' opens the file without truncation. The 'x' mode implies 'w' and\n",
      "    raises an `FileExistsError` if the file already exists.\n",
      "    \n",
      "    Python distinguishes between files opened in binary and text modes,\n",
      "    even when the underlying operating system doesn't. Files opened in\n",
      "    binary mode (appending 'b' to the mode argument) return contents as\n",
      "    bytes objects without any decoding. In text mode (the default, or when\n",
      "    't' is appended to the mode argument), the contents of the file are\n",
      "    returned as strings, the bytes having been first decoded using a\n",
      "    platform-dependent encoding or using the specified encoding if given.\n",
      "    \n",
      "    'U' mode is deprecated and will raise an exception in future versions\n",
      "    of Python.  It has no effect in Python 3.  Use newline to control\n",
      "    universal newlines mode.\n",
      "    \n",
      "    buffering is an optional integer used to set the buffering policy.\n",
      "    Pass 0 to switch buffering off (only allowed in binary mode), 1 to select\n",
      "    line buffering (only usable in text mode), and an integer > 1 to indicate\n",
      "    the size of a fixed-size chunk buffer.  When no buffering argument is\n",
      "    given, the default buffering policy works as follows:\n",
      "    \n",
      "    * Binary files are buffered in fixed-size chunks; the size of the buffer\n",
      "      is chosen using a heuristic trying to determine the underlying device's\n",
      "      \"block size\" and falling back on `io.DEFAULT_BUFFER_SIZE`.\n",
      "      On many systems, the buffer will typically be 4096 or 8192 bytes long.\n",
      "    \n",
      "    * \"Interactive\" text files (files for which isatty() returns True)\n",
      "      use line buffering.  Other text files use the policy described above\n",
      "      for binary files.\n",
      "    \n",
      "    encoding is the name of the encoding used to decode or encode the\n",
      "    file. This should only be used in text mode. The default encoding is\n",
      "    platform dependent, but any encoding supported by Python can be\n",
      "    passed.  See the codecs module for the list of supported encodings.\n",
      "    \n",
      "    errors is an optional string that specifies how encoding errors are to\n",
      "    be handled---this argument should not be used in binary mode. Pass\n",
      "    'strict' to raise a ValueError exception if there is an encoding error\n",
      "    (the default of None has the same effect), or pass 'ignore' to ignore\n",
      "    errors. (Note that ignoring encoding errors can lead to data loss.)\n",
      "    See the documentation for codecs.register or run 'help(codecs.Codec)'\n",
      "    for a list of the permitted encoding error strings.\n",
      "    \n",
      "    newline controls how universal newlines works (it only applies to text\n",
      "    mode). It can be None, '', '\\n', '\\r', and '\\r\\n'.  It works as\n",
      "    follows:\n",
      "    \n",
      "    * On input, if newline is None, universal newlines mode is\n",
      "      enabled. Lines in the input can end in '\\n', '\\r', or '\\r\\n', and\n",
      "      these are translated into '\\n' before being returned to the\n",
      "      caller. If it is '', universal newline mode is enabled, but line\n",
      "      endings are returned to the caller untranslated. If it has any of\n",
      "      the other legal values, input lines are only terminated by the given\n",
      "      string, and the line ending is returned to the caller untranslated.\n",
      "    \n",
      "    * On output, if newline is None, any '\\n' characters written are\n",
      "      translated to the system default line separator, os.linesep. If\n",
      "      newline is '' or '\\n', no translation takes place. If newline is any\n",
      "      of the other legal values, any '\\n' characters written are translated\n",
      "      to the given string.\n",
      "    \n",
      "    If closefd is False, the underlying file descriptor will be kept open\n",
      "    when the file is closed. This does not work when a file name is given\n",
      "    and must be True in that case.\n",
      "    \n",
      "    A custom opener can be used by passing a callable as *opener*. The\n",
      "    underlying file descriptor for the file object is then obtained by\n",
      "    calling *opener* with (*file*, *flags*). *opener* must return an open\n",
      "    file descriptor (passing os.open as *opener* results in functionality\n",
      "    similar to passing None).\n",
      "    \n",
      "    open() returns a file object whose type depends on the mode, and\n",
      "    through which the standard file operations such as reading and writing\n",
      "    are performed. When open() is used to open a file in a text mode ('w',\n",
      "    'r', 'wt', 'rt', etc.), it returns a TextIOWrapper. When used to open\n",
      "    a file in a binary mode, the returned class varies: in read binary\n",
      "    mode, it returns a BufferedReader; in write binary and append binary\n",
      "    modes, it returns a BufferedWriter, and in read/write mode, it returns\n",
      "    a BufferedRandom.\n",
      "    \n",
      "    It is also possible to use a string or bytearray as a file for both\n",
      "    reading and writing. For strings StringIO can be used like a file\n",
      "    opened in a text mode, and for bytes a BytesIO can be used like a file\n",
      "    opened in a binary mode.\n",
      "\n"
     ]
    }
   ],
   "source": [
    "help(open)"
   ]
  },
  {
   "cell_type": "code",
   "execution_count": 2,
   "id": "6d44effa",
   "metadata": {},
   "outputs": [
    {
     "name": "stdout",
     "output_type": "stream",
     "text": [
      "<_io.TextIOWrapper name='TestFile1.txt' mode='r' encoding='cp1252'>\n"
     ]
    }
   ],
   "source": [
    "file = open(\"TestFile1.txt\")\n",
    "print(file)"
   ]
  },
  {
   "cell_type": "code",
   "execution_count": 3,
   "id": "637979fe",
   "metadata": {},
   "outputs": [
    {
     "name": "stdout",
     "output_type": "stream",
     "text": [
      "We are NextStep InfoTech Training Center Pvt. Ltd. We are group of IT Professionals, Engineers and Industry Experts gathered together to provide quality IT education, computer and software trainings.\n",
      "\n",
      "We offer well-structured complete professional training in various Programming Languages, Web Designing, Graphic & Multimedia, CAD Software, Application Software as well as Development Training that is based upon the current recruitment needs in the industry.\n",
      "\n"
     ]
    }
   ],
   "source": [
    "file = open(\"TestFile1.txt\")\n",
    "print(file.read())"
   ]
  },
  {
   "cell_type": "code",
   "execution_count": 4,
   "id": "60e8d5bf",
   "metadata": {},
   "outputs": [
    {
     "name": "stdout",
     "output_type": "stream",
     "text": [
      "Learning file handling in python.With append mode.\n",
      " With new line.\n"
     ]
    }
   ],
   "source": [
    "file = open(r\"E:\\NextStepInfoTechCourses\\TestFile2.txt\")\n",
    "print(file.read())"
   ]
  },
  {
   "cell_type": "markdown",
   "id": "1d182ab0",
   "metadata": {},
   "source": [
    "## Closing File"
   ]
  },
  {
   "cell_type": "code",
   "execution_count": 5,
   "id": "b7f1c462",
   "metadata": {},
   "outputs": [],
   "source": [
    "file.close()"
   ]
  },
  {
   "cell_type": "markdown",
   "id": "93c01ebe",
   "metadata": {},
   "source": [
    "## Using With Function"
   ]
  },
  {
   "cell_type": "code",
   "execution_count": 6,
   "id": "757ed58a",
   "metadata": {},
   "outputs": [
    {
     "name": "stdout",
     "output_type": "stream",
     "text": [
      "We are NextStep InfoTech Training Center Pvt. Ltd. We are group of IT Professionals, Engineers and Industry Experts gathered together to provide quality IT education, computer and software trainings.\n",
      "\n",
      "We offer well-structured complete professional training in various Programming Languages, Web Designing, Graphic & Multimedia, CAD Software, Application Software as well as Development Training that is based upon the current recruitment needs in the industry.\n",
      "\n"
     ]
    }
   ],
   "source": [
    "with open(\"TestFile1.txt\") as file:\n",
    "    print(file.read())"
   ]
  },
  {
   "cell_type": "markdown",
   "id": "fe82482b",
   "metadata": {},
   "source": [
    "## Reading File"
   ]
  },
  {
   "cell_type": "code",
   "execution_count": 10,
   "id": "2bb5b060",
   "metadata": {},
   "outputs": [
    {
     "name": "stdout",
     "output_type": "stream",
     "text": [
      "1. Quality IT Education\n",
      "\t-> Programming Languages\n",
      "\t-> Graphic Design and Multimedia\n",
      "\t-> Web Application Development\n",
      "\t-> Mobile Application Development\n",
      "\t-> Cloud Computing and Cyber Security\n",
      "\t-> AI and Machine Learning\n",
      "\t-> Project Management and Quality Analysis\n",
      "\n",
      "2.Computer Trainings\n",
      "\t-> Microsoft Packages\n",
      "\t-> CAD and GIS Softwares\n",
      "\t-> Accounting and Bank Softwares\n",
      "\t-> Animation Softwares\n",
      "\n"
     ]
    }
   ],
   "source": [
    "with open(r\"E:\\NextStepInfoTechCourses\\TestFile2.txt\",\"r\") as rf:\n",
    "    print(rf.read())"
   ]
  },
  {
   "cell_type": "code",
   "execution_count": 11,
   "id": "4d9f46f9",
   "metadata": {},
   "outputs": [
    {
     "name": "stdout",
     "output_type": "stream",
     "text": [
      "1. Quality IT Education\n",
      "\t-> Programming Languages\n",
      "\t-> Graphic Design and Multimedia\n",
      "\t-> Web Application Development\n",
      "\t-> Mobile Application Development\n",
      "\t-> Cloud Computing and Cyber Security\n",
      "\t-> AI and Machine Learning\n",
      "\t\n"
     ]
    }
   ],
   "source": [
    "with open(r\"E:\\NextStepInfoTechCourses\\TestFile2.txt\",\"r\") as rf:\n",
    "    print(rf.read(219))"
   ]
  },
  {
   "cell_type": "code",
   "execution_count": 12,
   "id": "89c4d73f",
   "metadata": {},
   "outputs": [
    {
     "name": "stdout",
     "output_type": "stream",
     "text": [
      "1. Quality IT Education\n",
      "\n",
      "\t-> Programming Languages\n",
      "\n",
      "\t-> Graphic Design and Multimedia\n",
      "\n"
     ]
    }
   ],
   "source": [
    "with open(r\"E:\\NextStepInfoTechCourses\\TestFile2.txt\",\"r\") as rf:\n",
    "    print(rf.readline())\n",
    "    print(rf.readline())\n",
    "    print(rf.readline())"
   ]
  },
  {
   "cell_type": "code",
   "execution_count": 15,
   "id": "732e7d3e",
   "metadata": {},
   "outputs": [
    {
     "name": "stdout",
     "output_type": "stream",
     "text": [
      "['1. Quality IT Education\\n', '\\t-> Programming Languages\\n', '\\t-> Graphic Design and Multimedia\\n', '\\t-> Web Application Development\\n', '\\t-> Mobile Application Development\\n', '\\t-> Cloud Computing and Cyber Security\\n', '\\t-> AI and Machine Learning\\n', '\\t-> Project Management and Quality Analysis\\n', '\\n', '2.Computer Trainings\\n', '\\t-> Microsoft Packages\\n', '\\t-> CAD and GIS Softwares\\n', '\\t-> Accounting and Bank Softwares\\n', '\\t-> Animation Softwares\\n']\n"
     ]
    }
   ],
   "source": [
    "with open(r\"E:\\NextStepInfoTechCourses\\TestFile2.txt\",\"r\") as rf:\n",
    "    print(rf.readlines())"
   ]
  },
  {
   "cell_type": "code",
   "execution_count": 16,
   "id": "0b7b2ded",
   "metadata": {},
   "outputs": [
    {
     "name": "stdout",
     "output_type": "stream",
     "text": [
      "1. Quality IT Education\n",
      "\n",
      "\t-> Programming Languages\n",
      "\n",
      "\t-> Graphic Design and Multimedia\n",
      "\n",
      "\t-> Web Application Development\n",
      "\n",
      "\t-> Mobile Application Development\n",
      "\n",
      "\t-> Cloud Computing and Cyber Security\n",
      "\n",
      "\t-> AI and Machine Learning\n",
      "\n",
      "\t-> Project Management and Quality Analysis\n",
      "\n",
      "\n",
      "\n",
      "2.Computer Trainings\n",
      "\n",
      "\t-> Microsoft Packages\n",
      "\n",
      "\t-> CAD and GIS Softwares\n",
      "\n",
      "\t-> Accounting and Bank Softwares\n",
      "\n",
      "\t-> Animation Softwares\n",
      "\n"
     ]
    }
   ],
   "source": [
    "with open(r\"E:\\NextStepInfoTechCourses\\TestFile2.txt\",\"r\") as rf:\n",
    "    for r in rf.readlines():\n",
    "        print(r)"
   ]
  },
  {
   "cell_type": "code",
   "execution_count": 17,
   "id": "72fc7568",
   "metadata": {},
   "outputs": [
    {
     "name": "stdout",
     "output_type": "stream",
     "text": [
      "1. QUALITY IT EDUCATION\n",
      "\n",
      "\t-> Programming Languages\n",
      "\n",
      "\t-> Graphic Design and Multimedia\n",
      "\n",
      "\t-> Web Application Development\n",
      "\n",
      "\t-> Mobile Application Development\n",
      "\n",
      "\t-> Cloud Computing and Cyber Security\n",
      "\n",
      "\t-> AI and Machine Learning\n",
      "\n",
      "\t-> Project Management and Quality Analysis\n",
      "\n",
      "\n",
      "\n",
      "2.COMPUTER TRAININGS\n",
      "\n",
      "\t-> Microsoft Packages\n",
      "\n",
      "\t-> CAD and GIS Softwares\n",
      "\n",
      "\t-> Accounting and Bank Softwares\n",
      "\n",
      "\t-> Animation Softwares\n",
      "\n"
     ]
    }
   ],
   "source": [
    "with open(r\"E:\\NextStepInfoTechCourses\\TestFile2.txt\",\"r\") as rf:\n",
    "    for i,r in enumerate(rf.readlines()):\n",
    "        if i == 0 or i==9:\n",
    "            print(r.upper())\n",
    "        else:\n",
    "            print(r)"
   ]
  },
  {
   "cell_type": "markdown",
   "id": "0d3ff034",
   "metadata": {},
   "source": [
    "## Writing File"
   ]
  },
  {
   "cell_type": "code",
   "execution_count": 18,
   "id": "f29402db",
   "metadata": {},
   "outputs": [],
   "source": [
    "with open(r\"E:\\NextStepInfoTechCourses\\TestFile2.txt\",\"w\") as wf:\n",
    "    wf.write(\"Welcome to python crash course in nepali.\")"
   ]
  },
  {
   "cell_type": "code",
   "execution_count": 19,
   "id": "44375e90",
   "metadata": {},
   "outputs": [],
   "source": [
    "with open(r\"E:\\NextStepInfoTechCourses\\TestFile2.txt\",\"a\") as wf:\n",
    "    wf.write(\"Learning file handling in python.\")"
   ]
  },
  {
   "cell_type": "code",
   "execution_count": 20,
   "id": "8a3959dc",
   "metadata": {},
   "outputs": [],
   "source": [
    "with open(r\"E:\\NextStepInfoTechCourses\\TestFile2.txt\",\"a\") as wf:\n",
    "    wf.write(\"\\nWriting file in next line.\")"
   ]
  },
  {
   "cell_type": "code",
   "execution_count": 21,
   "id": "81d0439b",
   "metadata": {},
   "outputs": [],
   "source": [
    "with open(\"TestFile3.txt\",\"w\") as wf:\n",
    "    wf.write(\"Welcome to python crash course in Nepali.\\n\")\n",
    "    wf.write(\"Learning file handling in python.\")"
   ]
  },
  {
   "cell_type": "code",
   "execution_count": 22,
   "id": "12261b47",
   "metadata": {},
   "outputs": [],
   "source": [
    "with open(\"TestFile4.txt\",\"a\") as wf:\n",
    "    wf.write(\"Welcome to python crash course in Nepali.\\n\")\n",
    "    wf.write(\"Learning file handling in python.\")"
   ]
  },
  {
   "cell_type": "markdown",
   "id": "43709a8e",
   "metadata": {},
   "source": [
    "#### Writing in Text File"
   ]
  },
  {
   "cell_type": "code",
   "execution_count": 23,
   "id": "617faa83",
   "metadata": {},
   "outputs": [],
   "source": [
    "fruits = [\"apple\", \"banana\", \"cherry\", \"dragonfruit\"]\n",
    "with open(\"fruitlist.txt\", \"w\") as wf:\n",
    "    for f in fruits:\n",
    "        wf.write(f)\n",
    "        wf.write(\"\\n\")"
   ]
  },
  {
   "cell_type": "markdown",
   "id": "40411f55",
   "metadata": {},
   "source": [
    "#### Writing in CSV File"
   ]
  },
  {
   "cell_type": "code",
   "execution_count": 25,
   "id": "d15b21bf",
   "metadata": {},
   "outputs": [],
   "source": [
    "fruits = [\"apple\", \"banana\", \"cherry\", \"dragonfruit\"]\n",
    "fruit_data = \",\".join(fruits)\n",
    "with open(\"fruitlist.csv\", \"w\") as wf:\n",
    "    wf.write(fruit_data)"
   ]
  },
  {
   "cell_type": "code",
   "execution_count": 26,
   "id": "52b8492e",
   "metadata": {},
   "outputs": [],
   "source": [
    "fruit_price_list = [[\"1\", \"apple\", \"Rs. 40\"], [\"2\", \"pear\", \"Rs. 40\"], [\"3\", \"peach\", \"Rs.35\"], [\"4\", \"Kiwi\", \"Rs. 100\"]]\n"
   ]
  },
  {
   "cell_type": "code",
   "execution_count": 29,
   "id": "b275f601",
   "metadata": {},
   "outputs": [],
   "source": [
    "with open(\"PriceList.csv\", \"w\") as wf:\n",
    "    for fruits in fruit_price_list:\n",
    "        final_data = \",\".join(fruits)\n",
    "        wf.write(final_data)\n",
    "        wf.write(\"\\n\")"
   ]
  },
  {
   "cell_type": "code",
   "execution_count": null,
   "id": "9d82bd2f",
   "metadata": {},
   "outputs": [],
   "source": []
  },
  {
   "cell_type": "code",
   "execution_count": null,
   "id": "bd047acb",
   "metadata": {},
   "outputs": [],
   "source": []
  }
 ],
 "metadata": {
  "kernelspec": {
   "display_name": "Python 3 (ipykernel)",
   "language": "python",
   "name": "python3"
  },
  "language_info": {
   "codemirror_mode": {
    "name": "ipython",
    "version": 3
   },
   "file_extension": ".py",
   "mimetype": "text/x-python",
   "name": "python",
   "nbconvert_exporter": "python",
   "pygments_lexer": "ipython3",
   "version": "3.10.8"
  }
 },
 "nbformat": 4,
 "nbformat_minor": 5
}
