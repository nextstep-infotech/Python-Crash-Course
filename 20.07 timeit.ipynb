{
 "cells": [
  {
   "cell_type": "markdown",
   "metadata": {},
   "source": [
    "# Timing your code\n",
    "\n",
    "Sometimes its important to know how long your code is taking to run, or at least know if a particular line of code is slowing down your entire project. Python has a built-in timing module to do this. \n",
    "\n",
    "This module provides a simple way to time small bits of Python code. It has both a Command-Line Interface as well as a callable one. It avoids a number of common traps for measuring execution times. \n",
    "\n",
    "Lets learn about timeit!"
   ]
  },
  {
   "cell_type": "code",
   "execution_count": 2,
   "metadata": {},
   "outputs": [],
   "source": [
    "import timeit"
   ]
  },
  {
   "cell_type": "markdown",
   "metadata": {},
   "source": [
    "Lets use time it to time various methods of creating the string '0-1-2-3-.....-999'\n",
    "\n",
    "We'll pass two arguments the actual line we want to test encapsulated as a string and the number of times we wish to run it. Here we'll choose 10,000 runs to get some high enough numbers to compare various methods."
   ]
  },
  {
   "cell_type": "code",
   "execution_count": 3,
   "metadata": {},
   "outputs": [
    {
     "name": "stdout",
     "output_type": "stream",
     "text": [
      "0-1-2-3-4-5-6-7-8-9-10-11-12-13-14-15-16-17-18-19-20-21-22-23-24-25-26-27-28-29-30-31-32-33-34-35-36-37-38-39-40-41-42-43-44-45-46-47-48-49-50-51-52-53-54-55-56-57-58-59-60-61-62-63-64-65-66-67-68-69-70-71-72-73-74-75-76-77-78-79-80-81-82-83-84-85-86-87-88-89-90-91-92-93-94-95-96-97-98-99\n"
     ]
    }
   ],
   "source": [
    "# For loop\n",
    "print(\"-\".join(str(n) for n in range(100)))"
   ]
  },
  {
   "cell_type": "code",
   "execution_count": 4,
   "metadata": {},
   "outputs": [
    {
     "data": {
      "text/plain": [
       "1.5682470999963698"
      ]
     },
     "execution_count": 4,
     "metadata": {},
     "output_type": "execute_result"
    }
   ],
   "source": [
    "timeit.timeit('\"-\".join(str(n) for n in range(1000))', number = 10000)"
   ]
  },
  {
   "cell_type": "code",
   "execution_count": 5,
   "metadata": {},
   "outputs": [
    {
     "data": {
      "text/plain": [
       "1.327379700000165"
      ]
     },
     "execution_count": 5,
     "metadata": {},
     "output_type": "execute_result"
    }
   ],
   "source": [
    "# List Comprehension\n",
    "timeit.timeit('\"-\".join([str(n) for n in range(1000)])', number = 10000)"
   ]
  },
  {
   "cell_type": "code",
   "execution_count": 6,
   "metadata": {},
   "outputs": [
    {
     "data": {
      "text/plain": [
       "1.158600100003241"
      ]
     },
     "execution_count": 6,
     "metadata": {},
     "output_type": "execute_result"
    }
   ],
   "source": [
    "# Map\n",
    "timeit.timeit('\"-\".join(map(str, range(1000)))', number = 10000)"
   ]
  },
  {
   "cell_type": "markdown",
   "metadata": {},
   "source": [
    "Great! We see a significant time difference by using map()! This is good to know and we should keep this in mind."
   ]
  },
  {
   "cell_type": "markdown",
   "metadata": {},
   "source": [
    "## The Fastest way to loop in python"
   ]
  },
  {
   "cell_type": "markdown",
   "metadata": {},
   "source": [
    "Sum the numbers from 0 to n-1 in different ways."
   ]
  },
  {
   "cell_type": "markdown",
   "metadata": {},
   "source": [
    "### Using While Loop"
   ]
  },
  {
   "cell_type": "code",
   "execution_count": 7,
   "metadata": {},
   "outputs": [],
   "source": [
    "def while_loop(n = 10_000_000):\n",
    "    i = 0\n",
    "    s = 0\n",
    "    while i<n:\n",
    "        s += 1\n",
    "        i += 1\n",
    "    return s"
   ]
  },
  {
   "cell_type": "code",
   "execution_count": 8,
   "metadata": {},
   "outputs": [
    {
     "name": "stdout",
     "output_type": "stream",
     "text": [
      "while loop\t\t 0.7027058999956353\n"
     ]
    }
   ],
   "source": [
    "print('while loop\\t\\t', timeit.timeit(while_loop, number=1))"
   ]
  },
  {
   "cell_type": "markdown",
   "metadata": {},
   "source": [
    "### Using For Loop"
   ]
  },
  {
   "cell_type": "code",
   "execution_count": 10,
   "metadata": {},
   "outputs": [],
   "source": [
    "def for_loop(n = 10_000_000):\n",
    "    s = 0\n",
    "    for i in range(n):\n",
    "        s += 1\n",
    "    return s    "
   ]
  },
  {
   "cell_type": "code",
   "execution_count": 11,
   "metadata": {},
   "outputs": [
    {
     "name": "stdout",
     "output_type": "stream",
     "text": [
      "pure for loop\t\t 0.4304598000016995\n"
     ]
    }
   ],
   "source": [
    "print('pure for loop\\t\\t', timeit.timeit(for_loop, number=1))"
   ]
  },
  {
   "cell_type": "markdown",
   "metadata": {},
   "source": [
    "### Using For Loop with increment"
   ]
  },
  {
   "cell_type": "code",
   "execution_count": 12,
   "metadata": {},
   "outputs": [],
   "source": [
    "def for_loop_with_increment(n = 10_000_000):\n",
    "    s = 0\n",
    "    for i in range(n):\n",
    "        s += 1\n",
    "        i += 1\n",
    "    return s  "
   ]
  },
  {
   "cell_type": "code",
   "execution_count": 13,
   "metadata": {},
   "outputs": [
    {
     "name": "stdout",
     "output_type": "stream",
     "text": [
      "for loop with increment\t\t 0.7305006999959005\n"
     ]
    }
   ],
   "source": [
    "print('for loop with increment\\t\\t', timeit.timeit(for_loop_with_increment, number=1))"
   ]
  },
  {
   "cell_type": "markdown",
   "metadata": {},
   "source": [
    "### Using For Loop with test"
   ]
  },
  {
   "cell_type": "code",
   "execution_count": 14,
   "metadata": {},
   "outputs": [],
   "source": [
    "def for_loop_with_test(n = 10_000_000):\n",
    "    s = 0\n",
    "    for i in range(n):\n",
    "        if i<n:pass\n",
    "        s += 1\n",
    "    return s    "
   ]
  },
  {
   "cell_type": "code",
   "execution_count": 15,
   "metadata": {},
   "outputs": [
    {
     "name": "stdout",
     "output_type": "stream",
     "text": [
      "for loop with test\t\t 0.6213306999998167\n"
     ]
    }
   ],
   "source": [
    "print('for loop with test\\t\\t', timeit.timeit(for_loop_with_test, number=1))"
   ]
  },
  {
   "cell_type": "markdown",
   "metadata": {},
   "source": [
    "### Using For Loop with increment and test"
   ]
  },
  {
   "cell_type": "code",
   "execution_count": 16,
   "metadata": {},
   "outputs": [],
   "source": [
    "def for_loop_with_increment_and_test(n = 10_000_000):\n",
    "    s = 0\n",
    "    for i in range(n):\n",
    "        if i<n:pass\n",
    "        s += 1\n",
    "        i += 1\n",
    "    return s  "
   ]
  },
  {
   "cell_type": "code",
   "execution_count": 17,
   "metadata": {},
   "outputs": [
    {
     "name": "stdout",
     "output_type": "stream",
     "text": [
      "for loop with increment and test\t\t 0.8923374000005424\n"
     ]
    }
   ],
   "source": [
    "print('for loop with increment and test\\t\\t', timeit.timeit(for_loop_with_increment_and_test, number=1))"
   ]
  },
  {
   "cell_type": "markdown",
   "metadata": {},
   "source": [
    "### Using built in sum function"
   ]
  },
  {
   "cell_type": "code",
   "execution_count": 18,
   "metadata": {},
   "outputs": [],
   "source": [
    "def sum_range(n = 10_000_000):\n",
    "    return sum(range(n))"
   ]
  },
  {
   "cell_type": "code",
   "execution_count": 19,
   "metadata": {},
   "outputs": [
    {
     "name": "stdout",
     "output_type": "stream",
     "text": [
      "sum range\t\t 0.3448236999975052\n"
     ]
    }
   ],
   "source": [
    "print('sum range\\t\\t', timeit.timeit(sum_range, number=1))"
   ]
  },
  {
   "cell_type": "markdown",
   "metadata": {},
   "source": [
    "### Using sum generator"
   ]
  },
  {
   "cell_type": "code",
   "execution_count": 20,
   "metadata": {},
   "outputs": [],
   "source": [
    "def sum_generator(n = 10_000_000):\n",
    "    return sum(i for i in range(n))"
   ]
  },
  {
   "cell_type": "code",
   "execution_count": 21,
   "metadata": {},
   "outputs": [
    {
     "name": "stdout",
     "output_type": "stream",
     "text": [
      "sum generator\t\t 0.6806587999963085\n"
     ]
    }
   ],
   "source": [
    "print('sum generator\\t\\t', timeit.timeit(sum_generator, number=1))"
   ]
  },
  {
   "cell_type": "markdown",
   "metadata": {},
   "source": [
    "### Using sum funtion with list comprehension"
   ]
  },
  {
   "cell_type": "code",
   "execution_count": 22,
   "metadata": {},
   "outputs": [],
   "source": [
    "def sum_list_comp(n = 10_000_000):\n",
    "    return sum([i for i in range(n)])"
   ]
  },
  {
   "cell_type": "code",
   "execution_count": 23,
   "metadata": {},
   "outputs": [
    {
     "name": "stdout",
     "output_type": "stream",
     "text": [
      "sum list comp\t\t 1.0643668999982765\n"
     ]
    }
   ],
   "source": [
    "print('sum list comp\\t\\t', timeit.timeit(sum_list_comp, number=1))"
   ]
  },
  {
   "cell_type": "code",
   "execution_count": 24,
   "metadata": {},
   "outputs": [],
   "source": [
    "import numpy"
   ]
  },
  {
   "cell_type": "markdown",
   "metadata": {},
   "source": [
    "### Using sum function with numpy"
   ]
  },
  {
   "cell_type": "code",
   "execution_count": 25,
   "metadata": {},
   "outputs": [],
   "source": [
    "def sum_numpy(n = 10_000_000):\n",
    "    return numpy.sum(numpy.arange(n, dtype=numpy.int64))"
   ]
  },
  {
   "cell_type": "code",
   "execution_count": 26,
   "metadata": {},
   "outputs": [
    {
     "name": "stdout",
     "output_type": "stream",
     "text": [
      "sum numpy\t\t 0.03518979999353178\n"
     ]
    }
   ],
   "source": [
    "print('sum numpy\\t\\t', timeit.timeit(sum_numpy, number=1))"
   ]
  },
  {
   "cell_type": "markdown",
   "metadata": {},
   "source": [
    "### Using sum function with numpy for python range"
   ]
  },
  {
   "cell_type": "code",
   "execution_count": 27,
   "metadata": {},
   "outputs": [],
   "source": [
    "def sum_numpy_python_range(n = 10_000_000):\n",
    "    return numpy.sum(range(n))"
   ]
  },
  {
   "cell_type": "code",
   "execution_count": 28,
   "metadata": {},
   "outputs": [
    {
     "name": "stdout",
     "output_type": "stream",
     "text": [
      "sum numpy python range\t\t 0.9776329000014812\n"
     ]
    }
   ],
   "source": [
    "print('sum numpy python range\\t\\t', timeit.timeit(sum_numpy_python_range, number=1))"
   ]
  },
  {
   "cell_type": "markdown",
   "metadata": {},
   "source": [
    "### Using math trick"
   ]
  },
  {
   "cell_type": "code",
   "execution_count": 29,
   "metadata": {},
   "outputs": [],
   "source": [
    "def sum_math(n = 10_000_000):\n",
    "    return (n*(n-1))//2"
   ]
  },
  {
   "cell_type": "code",
   "execution_count": 30,
   "metadata": {},
   "outputs": [
    {
     "name": "stdout",
     "output_type": "stream",
     "text": [
      "sum math\t\t 1.500004145782441e-06\n"
     ]
    }
   ],
   "source": [
    "print('sum math\\t\\t', timeit.timeit(sum_math, number=1))"
   ]
  },
  {
   "cell_type": "markdown",
   "metadata": {},
   "source": [
    "### Summary"
   ]
  },
  {
   "cell_type": "code",
   "execution_count": 31,
   "metadata": {},
   "outputs": [
    {
     "name": "stdout",
     "output_type": "stream",
     "text": [
      "while loop\t\t 0.749680900000385\n",
      "pure for loop\t\t 0.42501619999529794\n",
      "for loop with increment\t\t 0.7221461000008276\n",
      "for loop with test\t\t 0.6078740000011749\n",
      "for loop with increment and test\t\t 0.891530300003069\n",
      "sum range\t\t 0.34136430000216933\n",
      "sum generator\t\t 0.6956932000030065\n",
      "sum list comp\t\t 0.9237586000017473\n",
      "sum numpy\t\t 0.02728689999639755\n",
      "sum numpy python range\t\t 0.912104899995029\n",
      "sum math\t\t 2.1000014385208488e-06\n"
     ]
    }
   ],
   "source": [
    "print('while loop\\t\\t', timeit.timeit(while_loop, number=1))\n",
    "print('pure for loop\\t\\t', timeit.timeit(for_loop, number=1))\n",
    "print('for loop with increment\\t\\t', timeit.timeit(for_loop_with_increment, number=1))\n",
    "print('for loop with test\\t\\t', timeit.timeit(for_loop_with_test, number=1))\n",
    "print('for loop with increment and test\\t\\t', timeit.timeit(for_loop_with_increment_and_test, number=1))\n",
    "print('sum range\\t\\t', timeit.timeit(sum_range, number=1))\n",
    "print('sum generator\\t\\t', timeit.timeit(sum_generator, number=1))\n",
    "print('sum list comp\\t\\t', timeit.timeit(sum_list_comp, number=1))\n",
    "print('sum numpy\\t\\t', timeit.timeit(sum_numpy, number=1))\n",
    "print('sum numpy python range\\t\\t', timeit.timeit(sum_numpy_python_range, number=1))\n",
    "print('sum math\\t\\t', timeit.timeit(sum_math, number=1))"
   ]
  },
  {
   "cell_type": "code",
   "execution_count": null,
   "metadata": {},
   "outputs": [],
   "source": []
  },
  {
   "cell_type": "code",
   "execution_count": null,
   "metadata": {},
   "outputs": [],
   "source": []
  }
 ],
 "metadata": {
  "kernelspec": {
   "display_name": "Python 3 (ipykernel)",
   "language": "python",
   "name": "python3"
  },
  "language_info": {
   "codemirror_mode": {
    "name": "ipython",
    "version": 3
   },
   "file_extension": ".py",
   "mimetype": "text/x-python",
   "name": "python",
   "nbconvert_exporter": "python",
   "pygments_lexer": "ipython3",
   "version": "3.10.8"
  }
 },
 "nbformat": 4,
 "nbformat_minor": 1
}
